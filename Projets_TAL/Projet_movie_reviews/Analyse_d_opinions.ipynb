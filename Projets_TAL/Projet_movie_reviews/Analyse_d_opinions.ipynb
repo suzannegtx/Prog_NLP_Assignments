{
 "cells": [
  {
   "cell_type": "markdown",
   "id": "adb56bf8-945a-4a5f-a754-c4504a524244",
   "metadata": {
    "tags": []
   },
   "source": [
    "# Analyse de sentiments"
   ]
  },
  {
   "cell_type": "markdown",
   "id": "225e947e-dca5-485a-94c9-1ac5fe59b1a7",
   "metadata": {},
   "source": [
    "Ce notebook a pour ambition de construire un modèle d'analyse d'opinions sur des revues de films.\n",
    "Le projet se présentera en deux étapes : la première comprendra l'analyse des performances avec différents prétraitements/modèles, et la seconde comparera la performance avec Word2Vec.  \n",
    "\n",
    "Pour la première partie, on comparera les performances avec différents pré-traitements, puis on appliquera les traitements optimaux sur les données test. Les résultats seront sauvegardés dans un ficher .txt.\n",
    "\n",
    "Choix de la métrique pour mesure la performance : Les classes étant équilibrées (1000 revues positives et 1000 revues négatives), on décide de prendre pour référence l'accuracy qui mesure la performance globale du modèle, i.e la proportion de prédictions correctes par rapport au nombre total d'échantillons. Cette métrique convient en effet bien aux problématiques de classification avec des classes équilibrées. \n",
    "\n",
    "Par ailleurs, comme les faux positifs (revues catégorisées comme positives alors qu'elles ne le sont pas) peuvent affecter la popularité d'un film et comme les faux négatifs (revues catégorisées comme négatives alors qu'elles étaient positives) peuvent également renforcer un a priori négatif pour le film en question, on affichera le F-score du modèle pour trouver un équilibre entre précision et rappel."
   ]
  },
  {
   "cell_type": "markdown",
   "id": "36bdd31b-dc7a-44f8-a34f-086c1de1d750",
   "metadata": {
    "jp-MarkdownHeadingCollapsed": true,
    "tags": []
   },
   "source": [
    "# I. Chargement des données"
   ]
  },
  {
   "cell_type": "code",
   "execution_count": 19,
   "id": "f1dd9cca-6b6e-4759-8654-e0ced930f56e",
   "metadata": {
    "tags": []
   },
   "outputs": [],
   "source": [
    "# Importation des librairies nécessaires \n",
    "\n",
    "import re\n",
    "import string\n",
    "import unicodedata\n",
    "import os\n",
    "import pandas as pd\n",
    "import nltk\n",
    "from sklearn.feature_extraction.text import CountVectorizer, TfidfVectorizer\n",
    "from sklearn.model_selection import train_test_split\n",
    "from sklearn.naive_bayes import MultinomialNB\n",
    "from sklearn.svm import SVC\n",
    "from sklearn.linear_model import LogisticRegression\n",
    "from sklearn.metrics import accuracy_score, classification_report, precision_score, recall_score, f1_score\n",
    "from sklearn.model_selection import GridSearchCV\n",
    "from nltk.corpus import stopwords\n",
    "from nltk.tokenize import word_tokenize\n",
    "from nltk.stem import PorterStemmer\n",
    "import matplotlib.pyplot as plt\n",
    "from sklearn.metrics import confusion_matrix\n",
    "import seaborn as sns\n",
    "from sklearn.pipeline import Pipeline"
   ]
  },
  {
   "cell_type": "code",
   "execution_count": 20,
   "id": "53d79bd3-4e6b-43ae-b8c4-59b716aeab59",
   "metadata": {},
   "outputs": [
    {
     "name": "stderr",
     "output_type": "stream",
     "text": [
      "[nltk_data] Downloading package stopwords to\n",
      "[nltk_data]     C:\\Users\\guilts0300\\AppData\\Roaming\\nltk_data...\n",
      "[nltk_data]   Package stopwords is already up-to-date!\n",
      "[nltk_data] Downloading package punkt to\n",
      "[nltk_data]     C:\\Users\\guilts0300\\AppData\\Roaming\\nltk_data...\n",
      "[nltk_data]   Package punkt is already up-to-date!\n"
     ]
    },
    {
     "data": {
      "text/plain": [
       "True"
      ]
     },
     "execution_count": 20,
     "metadata": {},
     "output_type": "execute_result"
    }
   ],
   "source": [
    "nltk.download('stopwords')\n",
    "nltk.download('punkt')"
   ]
  },
  {
   "cell_type": "code",
   "execution_count": 23,
   "id": "162e15f1-0a40-4b57-a716-83aeb9aa3d59",
   "metadata": {
    "tags": []
   },
   "outputs": [],
   "source": [
    "# Chargement des données \n",
    "\n",
    "# Chemins des dossiers de revues positives et négatives\n",
    "positive_path=\"./data/pos\"\n",
    "negative_path=\"./data/neg\"\n",
    "\n",
    "# Lecture des fichiers de revues\n",
    "def load_reviews(folder_path):\n",
    "    reviews = []\n",
    "    for filename in os.listdir(folder_path):\n",
    "        with open(os.path.join(folder_path, filename), 'r', encoding='utf-8') as file:\n",
    "            reviews.append(file.read())\n",
    "    return reviews\n",
    "\n",
    "positive_reviews = load_reviews(positive_path)\n",
    "negative_reviews = load_reviews(negative_path)"
   ]
  },
  {
   "cell_type": "code",
   "execution_count": 24,
   "id": "7efbf6e3-e695-4f07-b109-187a0929b962",
   "metadata": {
    "tags": []
   },
   "outputs": [
    {
     "name": "stdout",
     "output_type": "stream",
     "text": [
      "Taille du jeu de données positives :  1000\n",
      "Taille du jeu de données négatives :  1000\n"
     ]
    }
   ],
   "source": [
    "print('Taille du jeu de données positives : ', len(positive_reviews))\n",
    "print('Taille du jeu de données négatives : ', len(negative_reviews))"
   ]
  },
  {
   "cell_type": "markdown",
   "id": "1634b6d0-5749-47aa-b682-88e5850df8bd",
   "metadata": {},
   "source": [
    "Les données d'entrainement sont équilibrées."
   ]
  },
  {
   "cell_type": "markdown",
   "id": "b35a8f89-1bd0-48a5-9820-edcb3d7182b2",
   "metadata": {
    "jp-MarkdownHeadingCollapsed": true,
    "tags": []
   },
   "source": [
    "# II. Prétraitements "
   ]
  },
  {
   "cell_type": "markdown",
   "id": "a31c3afa-c5d6-417f-98e5-aea75d2a5217",
   "metadata": {
    "tags": []
   },
   "source": [
    "## Fonctions de prétraitements"
   ]
  },
  {
   "cell_type": "markdown",
   "id": "c15f86b1-b778-42ed-894e-897ed1dbbde6",
   "metadata": {},
   "source": [
    "Il est possible d'utiliser les arguments du vectorizer pour prétraiter les données. Toutefois, la documentation de CountVectorizer() étant selon moi assez complexe, j'ai privilégié la construction \"manuelle\" de fonctions pour prétraiter les données."
   ]
  },
  {
   "cell_type": "markdown",
   "id": "6dded761-ff53-445e-b780-174f119422c9",
   "metadata": {
    "tags": []
   },
   "source": [
    "### Prétraitements manuels simples"
   ]
  },
  {
   "cell_type": "code",
   "execution_count": 29,
   "id": "e2a3961d-9a12-4d4f-a906-dd7f248cc24b",
   "metadata": {
    "tags": []
   },
   "outputs": [],
   "source": [
    "# Pour avoir une première idée des prétraitements à effectuer, on affiche les premiers éléments de de positive_reviews et negative_reviews.\n",
    "\n",
    "#positive_reviews[:2]\n",
    "#negative_reviews[:2]"
   ]
  },
  {
   "cell_type": "markdown",
   "id": "eecf2982-197d-482d-bcc4-f1059f0c2737",
   "metadata": {},
   "source": [
    "On peut commencer par enlever toutes les informations inutiles (ponctuation, URL), les balises \\n, les accents et les caractères non normalisés."
   ]
  },
  {
   "cell_type": "code",
   "execution_count": 25,
   "id": "7d237ea9-0fc2-4743-bda8-99e56fb8ecda",
   "metadata": {
    "tags": []
   },
   "outputs": [],
   "source": [
    "# Première fonction pour des prétraitements simples : suppression de la ponctuation, URL, accents, caractères\n",
    "# non normalisés, en minuscules.\n",
    "\n",
    "def simple_preprocess_data(reviews):\n",
    "    simple_processed_reviews = []\n",
    "    \n",
    "    for review in reviews:\n",
    "        # Suppression des URL\n",
    "        review = re.sub(r\"http\\S+|www\\S+|https\\S+\", \"\", review, flags=re.MULTILINE)\n",
    "        \n",
    "        # Suppression des nombres\n",
    "        review = re.sub('[0-9]+', '', review) # remplacer une séquence de chiffres par rien\n",
    "        \n",
    "        #Suprression de la ponctuation\n",
    "        punc = string.punctuation  \n",
    "        punc += '\\n\\r\\t'\n",
    "        review = review.translate(str.maketrans(punc, ' ' * len(punc)))  \n",
    "        \n",
    "        # Normalisation des caractères et suppression des accents\n",
    "        review = unicodedata.normalize('NFKD', review).encode('ASCII', 'ignore').decode('utf-8')\n",
    "        \n",
    "        # Transformation des majuscules en minuscules\n",
    "        review = review.lower()\n",
    "        \n",
    "        simple_processed_reviews.append(review)\n",
    "        \n",
    "    return simple_processed_reviews"
   ]
  },
  {
   "cell_type": "markdown",
   "id": "8e66ea6c-1072-4274-9e63-001873e26b25",
   "metadata": {
    "tags": []
   },
   "source": [
    "### Prétraitements plus avancés : tokenization, stop words et stemming"
   ]
  },
  {
   "cell_type": "code",
   "execution_count": 26,
   "id": "77f3bab9-fb49-41e9-841d-14b3aedffc85",
   "metadata": {
    "tags": []
   },
   "outputs": [],
   "source": [
    "def advanced_preprocess_data(reviews):\n",
    "    advanced_processed_reviews = []\n",
    "    stop_words = set(stopwords.words('english'))  # Chargement de la liste des stopwords\n",
    "    stemmer = PorterStemmer()  # Initialisation du stemmer de NLTK\n",
    "\n",
    "    for review in reviews:\n",
    "\n",
    "        # Tokenization\n",
    "        words = nltk.word_tokenize(review)\n",
    "\n",
    "        # Suppression des stopwords\n",
    "        words = [word.lower() for word in words if word.isalpha() and word.lower() not in stop_words]\n",
    "\n",
    "        # Stemming\n",
    "        words = [stemmer.stem(word) for word in words]\n",
    "\n",
    "        advanced_processed_reviews.append(\" \".join(words))  # Réassemble les mots traités en une seule chaîne\n",
    "\n",
    "    return advanced_processed_reviews"
   ]
  },
  {
   "cell_type": "markdown",
   "id": "f20f9bab-3f27-4990-ad69-4db3d9c79ceb",
   "metadata": {
    "jp-MarkdownHeadingCollapsed": true,
    "tags": []
   },
   "source": [
    "# III. Entrainement de modèles "
   ]
  },
  {
   "cell_type": "code",
   "execution_count": 27,
   "id": "2fe1df08-cda0-4ebe-afd8-7351f8206aab",
   "metadata": {
    "tags": []
   },
   "outputs": [],
   "source": [
    "# Fusion des revues positives et négatives \n",
    "all_reviews = positive_reviews + negative_reviews\n",
    "\n",
    "# Etiquette de données\n",
    "labels = [1] * len(positive_reviews) + [0] * len(negative_reviews)\n",
    "\n",
    "# Mélange des données et division en jeux d'entrainement et de test\n",
    "reviews_train, reviews_test, labels_train, labels_test = train_test_split(all_reviews, labels, test_size=0.2, random_state=42)"
   ]
  },
  {
   "cell_type": "code",
   "execution_count": 28,
   "id": "d53827e7-773a-4f5f-9b0c-e2e47f9d5669",
   "metadata": {
    "tags": []
   },
   "outputs": [],
   "source": [
    "# Applications des fonctions de prétraitement\n",
    "simple_processed_train_reviews = simple_preprocess_data(reviews_train)\n",
    "simple_processed_test_reviews = simple_preprocess_data(reviews_test)\n",
    "\n",
    "advanced_processed_train_reviews = advanced_preprocess_data(simple_processed_train_reviews)\n",
    "advanced_processed_test_reviews = advanced_preprocess_data(simple_processed_test_reviews)"
   ]
  },
  {
   "cell_type": "markdown",
   "id": "c4d24e1d-7d47-4e0c-ba4a-43d356f9fd6d",
   "metadata": {
    "tags": []
   },
   "source": [
    "## Choix d'un classifieur"
   ]
  },
  {
   "cell_type": "code",
   "execution_count": 9,
   "id": "2fa03ec8-64c1-41b9-912d-cc9412d8929d",
   "metadata": {
    "tags": []
   },
   "outputs": [
    {
     "name": "stdout",
     "output_type": "stream",
     "text": [
      "Accuracy Naive Bayes: 0.7975\n",
      "F-score Naive Bayes: 0.7969924812030076\n",
      "Accuracy Linear SVM: 0.805\n",
      "F-score Linear SVM: 0.806930693069307\n",
      "Accuracy Logistic Regression: 0.82\n",
      "F-score Logistic Regression: 0.8200000000000001\n"
     ]
    },
    {
     "name": "stderr",
     "output_type": "stream",
     "text": [
      "C:\\Users\\guilts0300\\AppData\\Local\\anaconda3\\Lib\\site-packages\\sklearn\\linear_model\\_logistic.py:460: ConvergenceWarning: lbfgs failed to converge (status=1):\n",
      "STOP: TOTAL NO. of ITERATIONS REACHED LIMIT.\n",
      "\n",
      "Increase the number of iterations (max_iter) or scale the data as shown in:\n",
      "    https://scikit-learn.org/stable/modules/preprocessing.html\n",
      "Please also refer to the documentation for alternative solver options:\n",
      "    https://scikit-learn.org/stable/modules/linear_model.html#logistic-regression\n",
      "  n_iter_i = _check_optimize_result(\n"
     ]
    }
   ],
   "source": [
    "# Création d'une instance de CountVectorizer\n",
    "vectorizer = CountVectorizer()\n",
    "\n",
    "# Application de CountVectorizer aux données d'entraînement et de test\n",
    "X_train = vectorizer.fit_transform(simple_processed_train_reviews)\n",
    "X_test = vectorizer.transform(simple_processed_test_reviews)\n",
    "\n",
    "# Entrainement du modèle Naive Bayes\n",
    "nb_model = MultinomialNB()\n",
    "nb_model.fit(X_train, labels_train)\n",
    "nb_predictions = nb_model.predict(X_test)\n",
    "nb_accuracy = accuracy_score(labels_test, nb_predictions)\n",
    "nb_f1 = f1_score(labels_test, nb_predictions)\n",
    "print(\"Accuracy Naive Bayes:\", nb_accuracy)\n",
    "print(\"F-score Naive Bayes:\", nb_f1)\n",
    "\n",
    "# Modèle Linear SVM\n",
    "svm_model = SVC(kernel='linear')\n",
    "svm_model.fit(X_train, labels_train)\n",
    "svm_predictions = svm_model.predict(X_test)\n",
    "svm_accuracy = accuracy_score(labels_test, svm_predictions)\n",
    "svm_f1 = f1_score(labels_test, svm_predictions)\n",
    "print(\"Accuracy Linear SVM:\", svm_accuracy)\n",
    "print(\"F-score Linear SVM:\", svm_f1)\n",
    "\n",
    "# Logistic Regression\n",
    "lr_model = LogisticRegression()\n",
    "lr_model.fit(X_train, labels_train)\n",
    "lr_predictions = lr_model.predict(X_test)\n",
    "lr_accuracy = accuracy_score(labels_test, lr_predictions)\n",
    "lr_f1 = f1_score(labels_test, lr_predictions)\n",
    "print(\"Accuracy Logistic Regression:\", lr_accuracy)\n",
    "print(\"F-score Logistic Regression:\", lr_f1)\n"
   ]
  },
  {
   "cell_type": "code",
   "execution_count": 10,
   "id": "1f019769-3314-4d0a-83ed-ab0f3745d010",
   "metadata": {
    "tags": []
   },
   "outputs": [
    {
     "name": "stdout",
     "output_type": "stream",
     "text": [
      "Accuracy Naive Bayes: 0.7975\n",
      "F-score Naive Bayes: 0.7949367088607594\n",
      "Accuracy Linear SVM: 0.8\n",
      "F-score Linear SVM: 0.8048780487804877\n",
      "Accuracy Logistic Regression: 0.825\n",
      "F-score Logistic Regression: 0.8241206030150754\n"
     ]
    },
    {
     "name": "stderr",
     "output_type": "stream",
     "text": [
      "C:\\Users\\guilts0300\\AppData\\Local\\anaconda3\\Lib\\site-packages\\sklearn\\linear_model\\_logistic.py:460: ConvergenceWarning: lbfgs failed to converge (status=1):\n",
      "STOP: TOTAL NO. of ITERATIONS REACHED LIMIT.\n",
      "\n",
      "Increase the number of iterations (max_iter) or scale the data as shown in:\n",
      "    https://scikit-learn.org/stable/modules/preprocessing.html\n",
      "Please also refer to the documentation for alternative solver options:\n",
      "    https://scikit-learn.org/stable/modules/linear_model.html#logistic-regression\n",
      "  n_iter_i = _check_optimize_result(\n"
     ]
    }
   ],
   "source": [
    "# Création d'une instance de CountVectorizer\n",
    "vectorizer = CountVectorizer()\n",
    "\n",
    "# Application de CountVectorizer aux données d'entraînement et de test\n",
    "X_train = vectorizer.fit_transform(advanced_processed_train_reviews)\n",
    "X_test = vectorizer.transform(advanced_processed_test_reviews)\n",
    "\n",
    "# Naive Bayes\n",
    "nb_model = MultinomialNB()\n",
    "nb_model.fit(X_train, labels_train)\n",
    "nb_predictions = nb_model.predict(X_test)\n",
    "nb_accuracy = accuracy_score(labels_test, nb_predictions)\n",
    "nb_f1 = f1_score(labels_test, nb_predictions)\n",
    "print(\"Accuracy Naive Bayes:\", nb_accuracy)\n",
    "print(\"F-score Naive Bayes:\", nb_f1)\n",
    "\n",
    "# Linear SVM\n",
    "svm_model = SVC(kernel='linear')\n",
    "svm_model.fit(X_train, labels_train)\n",
    "svm_predictions = svm_model.predict(X_test)\n",
    "svm_accuracy = accuracy_score(labels_test, svm_predictions)\n",
    "svm_f1 = f1_score(labels_test, svm_predictions)\n",
    "print(\"Accuracy Linear SVM:\", svm_accuracy)\n",
    "print(\"F-score Linear SVM:\", svm_f1)\n",
    "\n",
    "# Logistic Regression\n",
    "lr_model = LogisticRegression()\n",
    "lr_model.fit(X_train, labels_train)\n",
    "lr_predictions = lr_model.predict(X_test)\n",
    "lr_accuracy = accuracy_score(labels_test, lr_predictions)\n",
    "lr_f1 = f1_score(labels_test, lr_predictions)\n",
    "print(\"Accuracy Logistic Regression:\", lr_accuracy)\n",
    "print(\"F-score Logistic Regression:\", lr_f1)"
   ]
  },
  {
   "cell_type": "markdown",
   "id": "db0339c5-6734-4bec-92b8-a87ed0e91078",
   "metadata": {
    "tags": []
   },
   "source": [
    "On obtient une performance légèrement plus faible avec les prétraitements plus avancés. Le stemming et le retrait des stopwords n'a donc pas permis d'augmenter cosnidérablement la performance. \n",
    "On ne fera subir aux reviews que les prétraitements simples.\n",
    "\n",
    "Le SVM étant le modèle avec l'accuracy et le F-score le plus élevé, on le retiendra pour la suite de l'étude. On a rejeté le modèle de régression logistique car l'algorithme d'optimisation utilisé par le modèle (lbfgs dans notre cas) n'a pas convergé, ce qui signifie qu'il n'a pas réussi à atteindre une solution stable dans le nombre maximum d'itérations défini."
   ]
  },
  {
   "cell_type": "markdown",
   "id": "83e753e5-992d-4f72-82c9-d4d131368aed",
   "metadata": {},
   "source": [
    "## Optimisation des traitements pour le SVM "
   ]
  },
  {
   "cell_type": "markdown",
   "id": "c0544b3c-e5b6-494b-ac86-f4c16a6e5d58",
   "metadata": {},
   "source": [
    "J'ai commencé par effectuer un grid search pour optimiser à la fois les hyperparamètres du modèle SVM et ceux de la méthode de vectorisation. Toutefois, comme il y a avait beaucoup de paramètres à tester, l'opération était très (très) chronophage. J'ai donc préféré optimiser, dans un premier temps, le modèle SVM, puis tester le modèle avec ses meilleurs hyperparamètres sur différentes valeurs pour les paramètres du vectorizer. "
   ]
  },
  {
   "cell_type": "code",
   "execution_count": 11,
   "id": "d90f01e7-5245-4ed6-82d9-3b2a39412503",
   "metadata": {
    "tags": []
   },
   "outputs": [
    {
     "name": "stdout",
     "output_type": "stream",
     "text": [
      "Meilleurs hyperparamètres pour le SVM : {'C': 0.1, 'gamma': 0.001, 'kernel': 'linear'}\n",
      "Accuracy optimized SVM : 0.8\n",
      "F-score optimized SVM: 0.806930693069307\n"
     ]
    }
   ],
   "source": [
    "# Hyperparamètres à optimiser pour le SVM\n",
    "param_grid_svm = {'C': [0.1, 1, 10, 100], 'gamma': [0.001, 0.01, 0.1, 1], 'kernel': ['linear', 'rbf']}\n",
    "\n",
    "# Création d'un instance de Vectorizer \n",
    "vectorizer = CountVectorizer()\n",
    "X_train = vectorizer.fit_transform(simple_processed_train_reviews)\n",
    "X_test = vectorizer.transform(simple_processed_test_reviews)\n",
    "\n",
    "# Instance de SVM\n",
    "svm_model = SVC()\n",
    "\n",
    "# GridSearchCV pour trouver les meilleurs hyperparamètres pour le SVM\n",
    "grid_search_svm = GridSearchCV(svm_model, param_grid_svm, cv=5, scoring='accuracy', n_jobs=-1)\n",
    "grid_search_svm.fit(X_train, labels_train)\n",
    "\n",
    "# Meilleurs hyperparamètres pour le SVM\n",
    "best_params_svm = grid_search_svm.best_params_\n",
    "print(\"Meilleurs hyperparamètres pour le SVM :\", best_params_svm)\n",
    "\n",
    "# Utilisation des meilleurs hyperparamètres pour le SVM\n",
    "best_svm_model = SVC(**best_params_svm)\n",
    "best_svm_model.fit(X_train, labels_train)\n",
    "\n",
    "# Evaluation du modèle sur l'ensemble de test\n",
    "svm_predictions = best_svm_model.predict(X_test)\n",
    "accuracy = accuracy_score(labels_test, svm_predictions)\n",
    "f1 = f1_score(labels_test, svm_predictions)\n",
    "print(\"Accuracy optimized SVM :\", svm_accuracy)\n",
    "print(\"F-score optimized SVM:\", f1)"
   ]
  },
  {
   "cell_type": "markdown",
   "id": "ba31324c-6179-4d0c-8966-0daa3e27440e",
   "metadata": {},
   "source": [
    "Le grid search n'a permis d'augmenter l'accuracy du modèle par rapport à ce que l'on avait tester lors du choix du classifieur. On retiendra donc par la suite le modèle SVM avec noyau linéaire."
   ]
  },
  {
   "cell_type": "markdown",
   "id": "b871651a-31fd-4a81-a8f3-345688ad32f3",
   "metadata": {},
   "source": [
    "## Optimisation des paramètres du Vectorizer "
   ]
  },
  {
   "cell_type": "markdown",
   "id": "c4ea1df1-a42d-4ddf-9582-eba7fcd0d334",
   "metadata": {},
   "source": [
    "### CountVectorizer"
   ]
  },
  {
   "cell_type": "markdown",
   "id": "aa71ff60-3905-4cc6-b2e9-86ea734152e8",
   "metadata": {},
   "source": [
    "Après avoir tenté un grid search sur la taille du vocabulaire et le ngram_range qui s'est avéré être très long, deux boucles \"for\" ont été réalisées même si Python est connu pour avoir de pauvres performances en boucle \"for\" (temps d'exécution inférieur à 5 minutes pour moi). "
   ]
  },
  {
   "cell_type": "code",
   "execution_count": 9,
   "id": "933c6132-b812-4730-a0fe-c107a06c7e83",
   "metadata": {
    "tags": []
   },
   "outputs": [
    {
     "name": "stdout",
     "output_type": "stream",
     "text": [
      "Taille du vocabulaire: None, Ngram Range: (1, 1), Accuracy: 0.805, F-Score: 0.806930693069307\n",
      "Taille du vocabulaire: None, Ngram Range: (1, 2), Accuracy: 0.7975, F-Score: 0.7949367088607594\n",
      "Taille du vocabulaire: 1000, Ngram Range: (1, 1), Accuracy: 0.77, F-Score: 0.7745098039215687\n",
      "Taille du vocabulaire: 1000, Ngram Range: (1, 2), Accuracy: 0.7725, F-Score: 0.7753086419753086\n",
      "Taille du vocabulaire: 2000, Ngram Range: (1, 1), Accuracy: 0.785, F-Score: 0.7902439024390244\n",
      "Taille du vocabulaire: 2000, Ngram Range: (1, 2), Accuracy: 0.7925, F-Score: 0.7919799498746867\n",
      "Taille du vocabulaire: 3000, Ngram Range: (1, 1), Accuracy: 0.795, F-Score: 0.7990196078431372\n",
      "Taille du vocabulaire: 3000, Ngram Range: (1, 2), Accuracy: 0.7925, F-Score: 0.796068796068796\n",
      "Taille du vocabulaire: 4000, Ngram Range: (1, 1), Accuracy: 0.8, F-Score: 0.8029556650246306\n",
      "Taille du vocabulaire: 4000, Ngram Range: (1, 2), Accuracy: 0.805, F-Score: 0.8088235294117647\n",
      "Taille du vocabulaire: 5000, Ngram Range: (1, 1), Accuracy: 0.795, F-Score: 0.7990196078431372\n",
      "Taille du vocabulaire: 5000, Ngram Range: (1, 2), Accuracy: 0.8075, F-Score: 0.8108108108108109\n"
     ]
    }
   ],
   "source": [
    "# Valeurs à tester\n",
    "vocab_sizes = [None,1000, 2000, 3000, 4000, 5000]\n",
    "ngram_ranges = [(1, 1), (1, 2)]\n",
    "\n",
    "# Liste pour stocker les résultats\n",
    "results = []\n",
    "\n",
    "# Itération sur les valeurs de la taille du vocabulaire et les options unigram/bigram\n",
    "for vocab_size in vocab_sizes:\n",
    "    for ngram_range in ngram_ranges:\n",
    "        # Instance de CountVectorizer\n",
    "        vectorizer = CountVectorizer(max_features=vocab_size, ngram_range=ngram_range)\n",
    "        X_train = vectorizer.fit_transform(simple_processed_train_reviews)\n",
    "        X_test = vectorizer.transform(simple_processed_test_reviews)\n",
    "\n",
    "        # Modèle à utiliser\n",
    "        svm_model = SVC(kernel='linear')\n",
    "\n",
    "        # Entrainement du modèle SVM sur les données d'entraînement\n",
    "        svm_model.fit(X_train, labels_train)\n",
    "\n",
    "        # Prédictions sur les données de test\n",
    "        svm_predictions = svm_model.predict(X_test)\n",
    "\n",
    "        # Calculs de l'accuracy et du f-score\n",
    "        accuracy = accuracy_score(labels_test, svm_predictions)\n",
    "        f1= f1_score(labels_test, svm_predictions)\n",
    "\n",
    "        # Stockage des résultats\n",
    "        results.append({\n",
    "            'vocab_size': vocab_size,\n",
    "            'ngram_range': str(ngram_range),\n",
    "            'accuracy': accuracy,\n",
    "            'f-score' : f1\n",
    "        })\n",
    "\n",
    "# Affichage des résultats\n",
    "for result in results:\n",
    "    print(f\"Taille du vocabulaire: {result['vocab_size']}, Ngram Range: {result['ngram_range']}, Accuracy: {result['accuracy']}, F-Score: {result['f-score']}\")\n"
   ]
  },
  {
   "cell_type": "code",
   "execution_count": 11,
   "id": "06938f9d-cae4-4191-8347-5d1cde0e28f3",
   "metadata": {
    "tags": []
   },
   "outputs": [
    {
     "data": {
      "image/png": "[encoded data removed]",
      "text/plain": [
       "<Figure size 1000x600 with 2 Axes>"
      ]
     },
     "metadata": {},
     "output_type": "display_data"
    },
    {
     "data": {
      "text/plain": [
       "<Figure size 640x480 with 0 Axes>"
      ]
     },
     "metadata": {},
     "output_type": "display_data"
    }
   ],
   "source": [
    "df_results = pd.DataFrame(results)\n",
    "\n",
    "# Heatmap\n",
    "heatmap_data = df_results.pivot(index='vocab_size', columns='ngram_range', values='accuracy')\n",
    "plt.figure(figsize=(10, 6))\n",
    "sns.heatmap(heatmap_data, annot=True, cmap=\"YlGnBu\", fmt=\".3f\", cbar_kws={'label': 'Accuracy'})\n",
    "plt.title('Performance en fonction de la taille du vocabulaire et unigram/bigram')\n",
    "plt.show()\n",
    "\n",
    "save_path = \"./optim_countVectorizer.png\"\n",
    "plt.savefig(save_path)"
   ]
  },
  {
   "cell_type": "markdown",
   "id": "d84e6167-692c-4fe6-bd44-19de35b7abef",
   "metadata": {},
   "source": [
    "P.S : J'ai un petit problème d'affichage des annotations dans le graphique mais je ne suis pas parvenue à la corriger."
   ]
  },
  {
   "cell_type": "code",
   "execution_count": 73,
   "id": "518e8de8-bdb1-4bac-baad-6f141a6b1f58",
   "metadata": {},
   "outputs": [
    {
     "data": {
      "image/png": "[encoded data removed]",
      "text/plain": [
       "<Figure size 600x600 with 2 Axes>"
      ]
     },
     "metadata": {},
     "output_type": "display_data"
    }
   ],
   "source": [
    "cm = confusion_matrix(labels_test, svm_predictions)\n",
    "plt.figure(figsize=(6, 6))\n",
    "sns.heatmap(cm, annot=True, fmt=\".0f\", linewidths=.5, square=True, cmap='Blues')\n",
    "plt.ylabel('Actual label')\n",
    "plt.xlabel('Predicted label')\n",
    "plt.title('Matrice de confusion')\n",
    "plt.show()"
   ]
  },
  {
   "cell_type": "markdown",
   "id": "f322127e-2690-479c-9f63-fcdeb7d317f1",
   "metadata": {},
   "source": [
    "### TfidfVectorizer"
   ]
  },
  {
   "cell_type": "markdown",
   "id": "33e6f9e0-4395-4d2c-ae19-e96cdc13f593",
   "metadata": {},
   "source": [
    "Par curiosité, on se demande si on obtient pas de meilleures performances avec une autre méthode de vectorisation : Tf-idf. En effet, tandis que CountVectorizer ne prend pas en compte la fréquence d'un mot dans le corpus global, Tfidf prend en compte à la fois la fréquence du mot dans un document spécifique (TF) et son importance dans le corpus global (IDF). Les mots fréquents dans un document mais rares dans l'ensemble du corpus auront alors un poids plus élevé."
   ]
  },
  {
   "cell_type": "code",
   "execution_count": 12,
   "id": "ebfba8cc-f4e1-44b5-9b9d-24b1a53320fa",
   "metadata": {
    "tags": []
   },
   "outputs": [
    {
     "name": "stdout",
     "output_type": "stream",
     "text": [
      "Taille du vocabulaire: None, Ngram Range: (1, 1), Accuracy: 0.825, F-Score: 0.8292682926829269\n",
      "Taille du vocabulaire: None, Ngram Range: (1, 2), Accuracy: 0.825, F-Score: 0.8372093023255813\n",
      "Taille du vocabulaire: 1000, Ngram Range: (1, 1), Accuracy: 0.7925, F-Score: 0.796068796068796\n",
      "Taille du vocabulaire: 1000, Ngram Range: (1, 2), Accuracy: 0.7825, F-Score: 0.7851851851851852\n",
      "Taille du vocabulaire: 2000, Ngram Range: (1, 1), Accuracy: 0.8225, F-Score: 0.8255528255528256\n",
      "Taille du vocabulaire: 2000, Ngram Range: (1, 2), Accuracy: 0.815, F-Score: 0.8159203980099503\n",
      "Taille du vocabulaire: 3000, Ngram Range: (1, 1), Accuracy: 0.8175, F-Score: 0.8206388206388207\n",
      "Taille du vocabulaire: 3000, Ngram Range: (1, 2), Accuracy: 0.8425, F-Score: 0.8459657701711492\n",
      "Taille du vocabulaire: 4000, Ngram Range: (1, 1), Accuracy: 0.81, F-Score: 0.8128078817733991\n",
      "Taille du vocabulaire: 4000, Ngram Range: (1, 2), Accuracy: 0.845, F-Score: 0.8480392156862745\n",
      "Taille du vocabulaire: 5000, Ngram Range: (1, 1), Accuracy: 0.8175, F-Score: 0.8206388206388207\n",
      "Taille du vocabulaire: 5000, Ngram Range: (1, 2), Accuracy: 0.8375, F-Score: 0.8418491484184915\n"
     ]
    }
   ],
   "source": [
    "# Définir les valeurs à tester\n",
    "vocab_sizes = [None,1000, 2000, 3000, 4000, 5000]\n",
    "ngram_ranges = [(1, 1), (1, 2)]\n",
    "\n",
    "# Initialiser une liste pour stocker les résultats\n",
    "results2 = []\n",
    "\n",
    "# Itérer sur les valeurs de la taille du vocabulaire et les options unigram/bigram\n",
    "for vocab_size in vocab_sizes:\n",
    "    for ngram_range in ngram_ranges:\n",
    "        # Créer une instance de CountVectorizer\n",
    "        vectorizer = TfidfVectorizer(max_features=vocab_size, ngram_range=ngram_range)\n",
    "        X_train = vectorizer.fit_transform(simple_processed_train_reviews)\n",
    "        X_test = vectorizer.transform(simple_processed_test_reviews)\n",
    "\n",
    "        # Créer une instance de SVM\n",
    "        svm_model = SVC(kernel='linear')\n",
    "\n",
    "        # Entraîner le modèle SVM sur les données d'entraînement\n",
    "        svm_model.fit(X_train, labels_train)\n",
    "\n",
    "        # Faire des prédictions sur les données de test\n",
    "        svm_predictions = svm_model.predict(X_test)\n",
    "\n",
    "        # Calculer l'accuracy\n",
    "        accuracy = accuracy_score(labels_test, svm_predictions)\n",
    "        f1= f1_score(labels_test, svm_predictions)\n",
    "\n",
    "        # Stocker les résultats\n",
    "        results2.append({\n",
    "            'vocab_size': vocab_size,\n",
    "            'ngram_range': ngram_range,\n",
    "            'accuracy': accuracy,\n",
    "            'f-score' : f1\n",
    "        })\n",
    "\n",
    "# Afficher les résultats\n",
    "for result in results2:\n",
    "    print(f\"Taille du vocabulaire: {result['vocab_size']}, Ngram Range: {result['ngram_range']}, Accuracy: {result['accuracy']}, F-Score: {result['f-score']}\")\n"
   ]
  },
  {
   "cell_type": "code",
   "execution_count": 13,
   "id": "12463e75-d62d-4f77-aaf9-7a9bbcb1e6fb",
   "metadata": {
    "tags": []
   },
   "outputs": [
    {
     "data": {
      "image/png": "[encoded data removed]",
      "text/plain": [
       "<Figure size 1000x600 with 2 Axes>"
      ]
     },
     "metadata": {},
     "output_type": "display_data"
    },
    {
     "data": {
      "text/plain": [
       "<Figure size 640x480 with 0 Axes>"
      ]
     },
     "metadata": {},
     "output_type": "display_data"
    }
   ],
   "source": [
    "df_results2 = pd.DataFrame(results2)\n",
    "\n",
    "# Créer une heatmap\n",
    "heatmap_data2 = df_results2.pivot(index='vocab_size', columns='ngram_range', values='accuracy')\n",
    "plt.figure(figsize=(10, 6))\n",
    "sns.heatmap(heatmap_data2, annot=True, cmap=\"YlGnBu\", fmt=\".3f\", cbar_kws={'label': 'Accuracy'})\n",
    "plt.title('Performance en fonction de la taille du vocabulaire et unigram/bigram')\n",
    "plt.show()\n",
    "\n",
    "save_path = \"./optim_TfidfVectorizer.png\"\n",
    "plt.savefig(save_path)"
   ]
  },
  {
   "cell_type": "code",
   "execution_count": 76,
   "id": "55f2f5ad-2ced-4fee-96e4-4d7295370c28",
   "metadata": {},
   "outputs": [
    {
     "data": {
      "image/png": "[encoded data removed]",
      "text/plain": [
       "<Figure size 600x600 with 2 Axes>"
      ]
     },
     "metadata": {},
     "output_type": "display_data"
    }
   ],
   "source": [
    "cm = confusion_matrix(labels_test, svm_predictions)\n",
    "plt.figure(figsize=(6, 6))\n",
    "sns.heatmap(cm, annot=True, fmt=\".0f\", linewidths=.5, square=True, cmap='Blues')\n",
    "plt.ylabel('Actual label')\n",
    "plt.xlabel('Predicted label')\n",
    "plt.title('Matrice de confusion')\n",
    "plt.show()"
   ]
  },
  {
   "cell_type": "markdown",
   "id": "028d4afd-99ec-4083-af8b-a3673131f741",
   "metadata": {},
   "source": [
    "De manière générale, on obtient de meilleures performances en utilisant la méthode de vectorisation Tf-Idf. On conservera ce vectoriseur et on choisira une taille de vocabulaire de 4000 et des unigrams et bigrams."
   ]
  },
  {
   "cell_type": "markdown",
   "id": "4d0b4513-228d-4bf6-9476-6aa3b30ef5bc",
   "metadata": {
    "jp-MarkdownHeadingCollapsed": true,
    "tags": []
   },
   "source": [
    "# IV. Application aux données test"
   ]
  },
  {
   "cell_type": "markdown",
   "id": "b692d405-2202-49f1-a430-d1402369a77d",
   "metadata": {
    "tags": []
   },
   "source": [
    "## Modèle final"
   ]
  },
  {
   "cell_type": "code",
   "execution_count": 29,
   "id": "46a00b95-9c41-4412-8f26-204b155c45b1",
   "metadata": {},
   "outputs": [
    {
     "data": {
      "text/html": [
       "<style>#sk-container-id-1 {color: black;}#sk-container-id-1 pre{padding: 0;}#sk-container-id-1 div.sk-toggleable {background-color: white;}#sk-container-id-1 label.sk-toggleable__label {cursor: pointer;display: block;width: 100%;margin-bottom: 0;padding: 0.3em;box-sizing: border-box;text-align: center;}#sk-container-id-1 label.sk-toggleable__label-arrow:before {content: \"▸\";float: left;margin-right: 0.25em;color: #696969;}#sk-container-id-1 label.sk-toggleable__label-arrow:hover:before {color: black;}#sk-container-id-1 div.sk-estimator:hover label.sk-toggleable__label-arrow:before {color: black;}#sk-container-id-1 div.sk-toggleable__content {max-height: 0;max-width: 0;overflow: hidden;text-align: left;background-color: #f0f8ff;}#sk-container-id-1 div.sk-toggleable__content pre {margin: 0.2em;color: black;border-radius: 0.25em;background-color: #f0f8ff;}#sk-container-id-1 input.sk-toggleable__control:checked~div.sk-toggleable__content {max-height: 200px;max-width: 100%;overflow: auto;}#sk-container-id-1 input.sk-toggleable__control:checked~label.sk-toggleable__label-arrow:before {content: \"▾\";}#sk-container-id-1 div.sk-estimator input.sk-toggleable__control:checked~label.sk-toggleable__label {background-color: #d4ebff;}#sk-container-id-1 div.sk-label input.sk-toggleable__control:checked~label.sk-toggleable__label {background-color: #d4ebff;}#sk-container-id-1 input.sk-hidden--visually {border: 0;clip: rect(1px 1px 1px 1px);clip: rect(1px, 1px, 1px, 1px);height: 1px;margin: -1px;overflow: hidden;padding: 0;position: absolute;width: 1px;}#sk-container-id-1 div.sk-estimator {font-family: monospace;background-color: #f0f8ff;border: 1px dotted black;border-radius: 0.25em;box-sizing: border-box;margin-bottom: 0.5em;}#sk-container-id-1 div.sk-estimator:hover {background-color: #d4ebff;}#sk-container-id-1 div.sk-parallel-item::after {content: \"\";width: 100%;border-bottom: 1px solid gray;flex-grow: 1;}#sk-container-id-1 div.sk-label:hover label.sk-toggleable__label {background-color: #d4ebff;}#sk-container-id-1 div.sk-serial::before {content: \"\";position: absolute;border-left: 1px solid gray;box-sizing: border-box;top: 0;bottom: 0;left: 50%;z-index: 0;}#sk-container-id-1 div.sk-serial {display: flex;flex-direction: column;align-items: center;background-color: white;padding-right: 0.2em;padding-left: 0.2em;position: relative;}#sk-container-id-1 div.sk-item {position: relative;z-index: 1;}#sk-container-id-1 div.sk-parallel {display: flex;align-items: stretch;justify-content: center;background-color: white;position: relative;}#sk-container-id-1 div.sk-item::before, #sk-container-id-1 div.sk-parallel-item::before {content: \"\";position: absolute;border-left: 1px solid gray;box-sizing: border-box;top: 0;bottom: 0;left: 50%;z-index: -1;}#sk-container-id-1 div.sk-parallel-item {display: flex;flex-direction: column;z-index: 1;position: relative;background-color: white;}#sk-container-id-1 div.sk-parallel-item:first-child::after {align-self: flex-end;width: 50%;}#sk-container-id-1 div.sk-parallel-item:last-child::after {align-self: flex-start;width: 50%;}#sk-container-id-1 div.sk-parallel-item:only-child::after {width: 0;}#sk-container-id-1 div.sk-dashed-wrapped {border: 1px dashed gray;margin: 0 0.4em 0.5em 0.4em;box-sizing: border-box;padding-bottom: 0.4em;background-color: white;}#sk-container-id-1 div.sk-label label {font-family: monospace;font-weight: bold;display: inline-block;line-height: 1.2em;}#sk-container-id-1 div.sk-label-container {text-align: center;}#sk-container-id-1 div.sk-container {/* jupyter's `normalize.less` sets `[hidden] { display: none; }` but bootstrap.min.css set `[hidden] { display: none !important; }` so we also need the `!important` here to be able to override the default hidden behavior on the sphinx rendered scikit-learn.org. See: https://github.com/scikit-learn/scikit-learn/issues/21755 */display: inline-block !important;position: relative;}#sk-container-id-1 div.sk-text-repr-fallback {display: none;}</style><div id=\"sk-container-id-1\" class=\"sk-top-container\"><div class=\"sk-text-repr-fallback\"><pre>SVC(kernel=&#x27;linear&#x27;)</pre><b>In a Jupyter environment, please rerun this cell to show the HTML representation or trust the notebook. <br />On GitHub, the HTML representation is unable to render, please try loading this page with nbviewer.org.</b></div><div class=\"sk-container\" hidden><div class=\"sk-item\"><div class=\"sk-estimator sk-toggleable\"><input class=\"sk-toggleable__control sk-hidden--visually\" id=\"sk-estimator-id-1\" type=\"checkbox\" checked><label for=\"sk-estimator-id-1\" class=\"sk-toggleable__label sk-toggleable__label-arrow\">SVC</label><div class=\"sk-toggleable__content\"><pre>SVC(kernel=&#x27;linear&#x27;)</pre></div></div></div></div></div>"
      ],
      "text/plain": [
       "SVC(kernel='linear')"
      ]
     },
     "execution_count": 29,
     "metadata": {},
     "output_type": "execute_result"
    }
   ],
   "source": [
    "vectorizer = TfidfVectorizer(max_features=4000, ngram_range=(1,2))\n",
    "X_train = vectorizer.fit_transform(simple_processed_train_reviews)\n",
    "\n",
    "# Créer une instance de SVM\n",
    "svm_model_final = SVC(kernel='linear')\n",
    "\n",
    "# Entraîner le modèle SVM sur les données d'entraînement\n",
    "svm_model_final.fit(X_train, labels_train)"
   ]
  },
  {
   "cell_type": "markdown",
   "id": "bd99f663-56ac-4c11-baf5-d9bc68f3a2bc",
   "metadata": {
    "jp-MarkdownHeadingCollapsed": true,
    "tags": []
   },
   "source": [
    "## Application du modèle aux nouvelles données"
   ]
  },
  {
   "cell_type": "code",
   "execution_count": 30,
   "id": "692a7e20-6c63-4240-aaa5-93f7f7f535e4",
   "metadata": {
    "tags": []
   },
   "outputs": [],
   "source": [
    "# Chargement des données de test\n",
    "with open(\"./data/testSentiment.txt\", 'r', encoding='utf-8') as file:\n",
    "    test_data = file.read().split(\"<br /><br />\")"
   ]
  },
  {
   "cell_type": "code",
   "execution_count": 31,
   "id": "08a7b7ce-7261-48f4-b6d2-f579eef8fd67",
   "metadata": {},
   "outputs": [],
   "source": [
    "# Prétraitement des données de test\n",
    "processed_test_data = simple_preprocess_data(test_data)"
   ]
  },
  {
   "cell_type": "code",
   "execution_count": 32,
   "id": "6c8b0d20-4587-44e9-a2c3-0d195791b039",
   "metadata": {
    "tags": []
   },
   "outputs": [],
   "source": [
    "# Transformation des données avec le vectoriseur Tf-Idf avec les paramètres retenus\n",
    "X_test_data = vectorizer.transform(processed_test_data)\n",
    "\n",
    "# Précitions à partir du modèle retenu\n",
    "test_predictions = svm_model_final.predict(X_test_data)"
   ]
  },
  {
   "cell_type": "code",
   "execution_count": 33,
   "id": "012f9748-4956-40ea-adc2-174e8d639b3d",
   "metadata": {},
   "outputs": [],
   "source": [
    "# Sauvegarde des résultats dans un fichier texte\n",
    "with open(\"./resultats.txt\", 'w', encoding='utf-8') as file:\n",
    "    for prediction in test_predictions:\n",
    "        file.write(f\"{prediction}\\n\")"
   ]
  }
 ],
 "metadata": {
  "kernelspec": {
   "display_name": "Python 3 (ipykernel)",
   "language": "python",
   "name": "python3"
  },
  "language_info": {
   "codemirror_mode": {
    "name": "ipython",
    "version": 3
   },
   "file_extension": ".py",
   "mimetype": "text/x-python",
   "name": "python",
   "nbconvert_exporter": "python",
   "pygments_lexer": "ipython3",
   "version": "3.11.4"
  }
 },
 "nbformat": 4,
 "nbformat_minor": 5
}
