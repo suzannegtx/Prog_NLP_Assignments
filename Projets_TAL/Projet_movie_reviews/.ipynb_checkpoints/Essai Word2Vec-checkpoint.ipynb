{
 "cells": [
  {
   "cell_type": "code",
   "execution_count": 2,
   "id": "1cd139bc-bcf3-417e-bd63-9fd40022fcdb",
   "metadata": {
    "tags": []
   },
   "outputs": [
    {
     "name": "stdout",
     "output_type": "stream",
     "text": [
      "Accuracy: 0.615\n"
     ]
    }
   ],
   "source": [
    "import spacy\n",
    "import numpy as np\n",
    "from gensim.models import Word2Vec\n",
    "from sklearn.model_selection import train_test_split\n",
    "from sklearn.svm import SVC\n",
    "from sklearn.metrics import accuracy_score\n",
    "\n",
    "# Charger le modèle spaCy pour le prétraitement du texte\n",
    "nlp = spacy.load(\"en_core_web_sm\")\n",
    "\n",
    "\n",
    "import os\n",
    "\n",
    "# Fonction pour charger les revues à partir d'un dossier\n",
    "def load_reviews_from_folder(folder_path):\n",
    "    reviews = []\n",
    "    for filename in os.listdir(folder_path):\n",
    "        filepath = os.path.join(folder_path, filename)\n",
    "        with open(filepath, 'r', encoding='utf-8') as file:\n",
    "            review = file.read()\n",
    "            reviews.append(review)\n",
    "    return reviews\n",
    "\n",
    "# Chemin vers les dossiers de revues positives et négatives\n",
    "positive_folder = \"C:/Users/guilts0300/Documents/APT/3A IODAA/ONTO-TAL/tuto_TAL-main/notebooks/ressources/movies/movies1000/pos\"\n",
    "negative_folder = \"C:/Users/guilts0300/Documents/APT/3A IODAA/ONTO-TAL/tuto_TAL-main/notebooks/ressources/movies/movies1000/neg\"\n",
    "\n",
    "\n",
    "# Charger les revues positives et négatives\n",
    "positive_reviews = load_reviews_from_folder(positive_folder)\n",
    "negative_reviews = load_reviews_from_folder(negative_folder)\n",
    "\n",
    "# Définir la fonction de prétraitement du texte avec spaCy\n",
    "def preprocess_text(text):\n",
    "    doc = nlp(text)\n",
    "    tokens = [token.lemma_ for token in doc if not token.is_stop]\n",
    "    return tokens\n",
    "\n",
    "# Appliquer le prétraitement aux données\n",
    "positive_reviews = [preprocess_text(review) for review in positive_reviews]\n",
    "negative_reviews = [preprocess_text(review) for review in negative_reviews]\n",
    "\n",
    "\n",
    "\n",
    "# Entraîner le modèle Word2Vec sur les données positives et négatives\n",
    "model = Word2Vec(positive_reviews + negative_reviews, vector_size=100, window=5, min_count=1, workers=4)\n",
    "\n",
    "# Définir la fonction d'agrégation naïve (moyenne des vecteurs de mots)\n",
    "def average_word_vectors(words, model, vocabulary, num_features):\n",
    "    feature_vector = np.zeros((num_features,), dtype=\"float64\")\n",
    "    nwords = 0.\n",
    "\n",
    "    for word in words:\n",
    "        if word in vocabulary:\n",
    "            nwords = nwords + 1.\n",
    "            feature_vector = np.add(feature_vector, model.wv[word])\n",
    "\n",
    "    if nwords:\n",
    "        feature_vector = np.divide(feature_vector, nwords)\n",
    "\n",
    "    return feature_vector\n",
    "\n",
    "# Définir la fonction pour obtenir les vecteurs de documents\n",
    "def get_document_vectors(docs, model, vocabulary, num_features):\n",
    "    documents = [average_word_vectors(doc, model, vocabulary, num_features) for doc in docs]\n",
    "    return np.array(documents)\n",
    "\n",
    "# Diviser les données en ensembles d'entraînement et de test\n",
    "X = get_document_vectors(positive_reviews + negative_reviews, model, model.wv.index_to_key, 100)\n",
    "y = [1] * len(positive_reviews) + [0] * len(negative_reviews)\n",
    "\n",
    "X_train, X_test, y_train, y_test = train_test_split(X, y, test_size=0.2, random_state=42)\n",
    "\n",
    "# Entraîner un classificateur SVM\n",
    "svm_classifier = SVC(kernel='linear')\n",
    "svm_classifier.fit(X_train, y_train)\n",
    "\n",
    "# Faire des prédictions sur les données de test\n",
    "predictions = svm_classifier.predict(X_test)\n",
    "\n",
    "# Évaluer les performances du modèle\n",
    "accuracy = accuracy_score(y_test, predictions)\n",
    "print(f\"Accuracy: {accuracy}\")\n"
   ]
  },
  {
   "cell_type": "code",
   "execution_count": null,
   "id": "0da7e5ec-7055-45c5-a086-e8573706b2dc",
   "metadata": {},
   "outputs": [],
   "source": []
  }
 ],
 "metadata": {
  "kernelspec": {
   "display_name": "Python 3 (ipykernel)",
   "language": "python",
   "name": "python3"
  },
  "language_info": {
   "codemirror_mode": {
    "name": "ipython",
    "version": 3
   },
   "file_extension": ".py",
   "mimetype": "text/x-python",
   "name": "python",
   "nbconvert_exporter": "python",
   "pygments_lexer": "ipython3",
   "version": "3.11.4"
  }
 },
 "nbformat": 4,
 "nbformat_minor": 5
}
