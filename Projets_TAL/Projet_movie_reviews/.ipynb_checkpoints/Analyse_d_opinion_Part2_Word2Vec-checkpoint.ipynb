{
 "cells": [
  {
   "cell_type": "markdown",
   "id": "1184213a-ad9e-4a12-80c2-ccf5a549bb09",
   "metadata": {
    "tags": []
   },
   "source": [
    "# Analyse de sentiments - Word2Vec"
   ]
  },
  {
   "cell_type": "markdown",
   "id": "a7eacae5-b39f-43fd-9c22-0ba02cf7c595",
   "metadata": {},
   "source": [
    "Dans ce notebook, on met en place une chaîne de traitement des données textuelles pour l'analyse d'opinions en utilisant Word2Vec avec des stratégies d'agrégation naïves. \n",
    "\n",
    "Tout d'abord, on utilise spaCy pour le prétraitement du texte, incluant la tokenisation, la lemmatisation, et la suppression des mots vides. \n",
    "Ensuite, on entraîne un modèle Word2Vec sur les revues positives et négatives. Ici, la stratégie d'agrégation naïve choisie consiste à représenter chaque revue par la moyenne des vecteurs de mots qui la composent. \n",
    "\n",
    "On utilise ensuite ces vecteurs de documents pour entraîner un classificateur SVM à noyau linéaire, comme dans le notebook précédent, afin de classifier les reviews. Les performances du modèle sont évaluées par l'accuracy, métrique selon moi pertinente pour l'évaluation du modèle en présence de données équilibrées. \n",
    "\n",
    "Finalement, le modèle s'avère être pas meilleur que le hasard, ce qui peut notamment s'expliquer par le fait que les stratégies d'aggrégation naïves ne performent pas très bien sur des revues longues."
   ]
  },
  {
   "cell_type": "markdown",
   "id": "630a3498-6195-4466-a51d-e8e3a7ce1453",
   "metadata": {
    "jp-MarkdownHeadingCollapsed": true,
    "tags": []
   },
   "source": [
    "# I. Chargement des données et des librairies "
   ]
  },
  {
   "cell_type": "code",
   "execution_count": 8,
   "id": "bf0cde4e-7b78-4683-9d02-1bd65780fd27",
   "metadata": {
    "tags": []
   },
   "outputs": [
    {
     "name": "stdout",
     "output_type": "stream",
     "text": [
      "Requirement already satisfied: spacy in c:\\users\\guilts0300\\appdata\\local\\anaconda3\\lib\\site-packages (3.7.2)\n",
      "Requirement already satisfied: gensim in c:\\users\\guilts0300\\appdata\\local\\anaconda3\\lib\\site-packages (4.3.0)\n",
      "Requirement already satisfied: spacy-legacy<3.1.0,>=3.0.11 in c:\\users\\guilts0300\\appdata\\local\\anaconda3\\lib\\site-packages (from spacy) (3.0.12)\n",
      "Requirement already satisfied: spacy-loggers<2.0.0,>=1.0.0 in c:\\users\\guilts0300\\appdata\\local\\anaconda3\\lib\\site-packages (from spacy) (1.0.5)\n",
      "Requirement already satisfied: murmurhash<1.1.0,>=0.28.0 in c:\\users\\guilts0300\\appdata\\local\\anaconda3\\lib\\site-packages (from spacy) (1.0.10)\n",
      "Requirement already satisfied: cymem<2.1.0,>=2.0.2 in c:\\users\\guilts0300\\appdata\\local\\anaconda3\\lib\\site-packages (from spacy) (2.0.8)\n",
      "Requirement already satisfied: preshed<3.1.0,>=3.0.2 in c:\\users\\guilts0300\\appdata\\local\\anaconda3\\lib\\site-packages (from spacy) (3.0.9)\n",
      "Requirement already satisfied: thinc<8.3.0,>=8.1.8 in c:\\users\\guilts0300\\appdata\\local\\anaconda3\\lib\\site-packages (from spacy) (8.2.2)\n",
      "Requirement already satisfied: wasabi<1.2.0,>=0.9.1 in c:\\users\\guilts0300\\appdata\\local\\anaconda3\\lib\\site-packages (from spacy) (1.1.2)\n",
      "Requirement already satisfied: srsly<3.0.0,>=2.4.3 in c:\\users\\guilts0300\\appdata\\local\\anaconda3\\lib\\site-packages (from spacy) (2.4.8)\n",
      "Requirement already satisfied: catalogue<2.1.0,>=2.0.6 in c:\\users\\guilts0300\\appdata\\local\\anaconda3\\lib\\site-packages (from spacy) (2.0.10)\n",
      "Requirement already satisfied: weasel<0.4.0,>=0.1.0 in c:\\users\\guilts0300\\appdata\\local\\anaconda3\\lib\\site-packages (from spacy) (0.3.4)\n",
      "Requirement already satisfied: typer<0.10.0,>=0.3.0 in c:\\users\\guilts0300\\appdata\\local\\anaconda3\\lib\\site-packages (from spacy) (0.9.0)\n",
      "Requirement already satisfied: smart-open<7.0.0,>=5.2.1 in c:\\users\\guilts0300\\appdata\\local\\anaconda3\\lib\\site-packages (from spacy) (5.2.1)\n",
      "Requirement already satisfied: tqdm<5.0.0,>=4.38.0 in c:\\users\\guilts0300\\appdata\\local\\anaconda3\\lib\\site-packages (from spacy) (4.65.0)\n",
      "Requirement already satisfied: requests<3.0.0,>=2.13.0 in c:\\users\\guilts0300\\appdata\\local\\anaconda3\\lib\\site-packages (from spacy) (2.31.0)\n",
      "Requirement already satisfied: pydantic!=1.8,!=1.8.1,<3.0.0,>=1.7.4 in c:\\users\\guilts0300\\appdata\\local\\anaconda3\\lib\\site-packages (from spacy) (2.5.2)\n",
      "Requirement already satisfied: jinja2 in c:\\users\\guilts0300\\appdata\\local\\anaconda3\\lib\\site-packages (from spacy) (3.1.2)\n",
      "Requirement already satisfied: setuptools in c:\\users\\guilts0300\\appdata\\local\\anaconda3\\lib\\site-packages (from spacy) (68.0.0)\n",
      "Requirement already satisfied: packaging>=20.0 in c:\\users\\guilts0300\\appdata\\local\\anaconda3\\lib\\site-packages (from spacy) (23.0)\n",
      "Requirement already satisfied: langcodes<4.0.0,>=3.2.0 in c:\\users\\guilts0300\\appdata\\local\\anaconda3\\lib\\site-packages (from spacy) (3.3.0)\n",
      "Requirement already satisfied: numpy>=1.19.0 in c:\\users\\guilts0300\\appdata\\local\\anaconda3\\lib\\site-packages (from spacy) (1.24.3)\n",
      "Requirement already satisfied: scipy>=1.7.0 in c:\\users\\guilts0300\\appdata\\local\\anaconda3\\lib\\site-packages (from gensim) (1.10.1)\n",
      "Requirement already satisfied: FuzzyTM>=0.4.0 in c:\\users\\guilts0300\\appdata\\local\\anaconda3\\lib\\site-packages (from gensim) (2.0.5)\n",
      "Requirement already satisfied: pandas in c:\\users\\guilts0300\\appdata\\local\\anaconda3\\lib\\site-packages (from FuzzyTM>=0.4.0->gensim) (1.5.3)\n",
      "Requirement already satisfied: pyfume in c:\\users\\guilts0300\\appdata\\local\\anaconda3\\lib\\site-packages (from FuzzyTM>=0.4.0->gensim) (0.2.25)\n",
      "Requirement already satisfied: annotated-types>=0.4.0 in c:\\users\\guilts0300\\appdata\\local\\anaconda3\\lib\\site-packages (from pydantic!=1.8,!=1.8.1,<3.0.0,>=1.7.4->spacy) (0.6.0)\n",
      "Requirement already satisfied: pydantic-core==2.14.5 in c:\\users\\guilts0300\\appdata\\local\\anaconda3\\lib\\site-packages (from pydantic!=1.8,!=1.8.1,<3.0.0,>=1.7.4->spacy) (2.14.5)\n",
      "Requirement already satisfied: typing-extensions>=4.6.1 in c:\\users\\guilts0300\\appdata\\local\\anaconda3\\lib\\site-packages (from pydantic!=1.8,!=1.8.1,<3.0.0,>=1.7.4->spacy) (4.7.1)\n",
      "Requirement already satisfied: charset-normalizer<4,>=2 in c:\\users\\guilts0300\\appdata\\local\\anaconda3\\lib\\site-packages (from requests<3.0.0,>=2.13.0->spacy) (2.0.4)\n",
      "Requirement already satisfied: idna<4,>=2.5 in c:\\users\\guilts0300\\appdata\\local\\anaconda3\\lib\\site-packages (from requests<3.0.0,>=2.13.0->spacy) (3.4)\n",
      "Requirement already satisfied: urllib3<3,>=1.21.1 in c:\\users\\guilts0300\\appdata\\local\\anaconda3\\lib\\site-packages (from requests<3.0.0,>=2.13.0->spacy) (1.26.16)\n",
      "Requirement already satisfied: certifi>=2017.4.17 in c:\\users\\guilts0300\\appdata\\local\\anaconda3\\lib\\site-packages (from requests<3.0.0,>=2.13.0->spacy) (2023.11.17)\n",
      "Requirement already satisfied: blis<0.8.0,>=0.7.8 in c:\\users\\guilts0300\\appdata\\local\\anaconda3\\lib\\site-packages (from thinc<8.3.0,>=8.1.8->spacy) (0.7.11)\n",
      "Requirement already satisfied: confection<1.0.0,>=0.0.1 in c:\\users\\guilts0300\\appdata\\local\\anaconda3\\lib\\site-packages (from thinc<8.3.0,>=8.1.8->spacy) (0.1.4)\n",
      "Requirement already satisfied: colorama in c:\\users\\guilts0300\\appdata\\local\\anaconda3\\lib\\site-packages (from tqdm<5.0.0,>=4.38.0->spacy) (0.4.6)\n",
      "Requirement already satisfied: click<9.0.0,>=7.1.1 in c:\\users\\guilts0300\\appdata\\local\\anaconda3\\lib\\site-packages (from typer<0.10.0,>=0.3.0->spacy) (8.0.4)\n",
      "Requirement already satisfied: cloudpathlib<0.17.0,>=0.7.0 in c:\\users\\guilts0300\\appdata\\local\\anaconda3\\lib\\site-packages (from weasel<0.4.0,>=0.1.0->spacy) (0.16.0)\n",
      "Requirement already satisfied: MarkupSafe>=2.0 in c:\\users\\guilts0300\\appdata\\local\\anaconda3\\lib\\site-packages (from jinja2->spacy) (2.1.1)\n",
      "Requirement already satisfied: python-dateutil>=2.8.1 in c:\\users\\guilts0300\\appdata\\local\\anaconda3\\lib\\site-packages (from pandas->FuzzyTM>=0.4.0->gensim) (2.8.2)\n",
      "Requirement already satisfied: pytz>=2020.1 in c:\\users\\guilts0300\\appdata\\local\\anaconda3\\lib\\site-packages (from pandas->FuzzyTM>=0.4.0->gensim) (2022.7)\n",
      "Requirement already satisfied: simpful in c:\\users\\guilts0300\\appdata\\local\\anaconda3\\lib\\site-packages (from pyfume->FuzzyTM>=0.4.0->gensim) (2.11.1)\n",
      "Requirement already satisfied: fst-pso in c:\\users\\guilts0300\\appdata\\local\\anaconda3\\lib\\site-packages (from pyfume->FuzzyTM>=0.4.0->gensim) (1.8.1)\n",
      "Requirement already satisfied: six>=1.5 in c:\\users\\guilts0300\\appdata\\local\\anaconda3\\lib\\site-packages (from python-dateutil>=2.8.1->pandas->FuzzyTM>=0.4.0->gensim) (1.16.0)\n",
      "Requirement already satisfied: miniful in c:\\users\\guilts0300\\appdata\\local\\anaconda3\\lib\\site-packages (from fst-pso->pyfume->FuzzyTM>=0.4.0->gensim) (0.0.6)\n"
     ]
    }
   ],
   "source": [
    "# Installation de spaCy et gensim\n",
    "!pip install spacy gensim"
   ]
  },
  {
   "cell_type": "code",
   "execution_count": 1,
   "id": "a77b5aaf-2869-4070-a494-65256ec27f73",
   "metadata": {
    "tags": []
   },
   "outputs": [],
   "source": [
    "# Importation des librairies nécessaires\n",
    "import spacy\n",
    "from spacy.lang.en import STOP_WORDS\n",
    "from gensim.models import Word2Vec\n",
    "\n",
    "import os\n",
    "import pandas as pd\n",
    "import numpy as np\n",
    "\n",
    "from sklearn.model_selection import train_test_split\n",
    "from sklearn.svm import SVC\n",
    "from sklearn.metrics import accuracy_score, classification_report, f1_score\n",
    "from sklearn.model_selection import GridSearchCV"
   ]
  },
  {
   "cell_type": "code",
   "execution_count": 10,
   "id": "4534f19f-a1d5-4d84-80c1-5ab2b2fc1ae5",
   "metadata": {
    "tags": []
   },
   "outputs": [
    {
     "name": "stdout",
     "output_type": "stream",
     "text": [
      "Collecting en-core-web-sm==3.7.1\n",
      "  Downloading https://github.com/explosion/spacy-models/releases/download/en_core_web_sm-3.7.1/en_core_web_sm-3.7.1-py3-none-any.whl (12.8 MB)\n",
      "     ---------------------------------------- 0.0/12.8 MB ? eta -:--:--\n",
      "     - -------------------------------------- 0.4/12.8 MB 12.2 MB/s eta 0:00:02\n",
      "     --- ------------------------------------ 1.1/12.8 MB 11.8 MB/s eta 0:00:01\n",
      "     ---- ----------------------------------- 1.5/12.8 MB 8.6 MB/s eta 0:00:02\n",
      "     ----- ---------------------------------- 1.8/12.8 MB 9.0 MB/s eta 0:00:02\n",
      "     ------- -------------------------------- 2.3/12.8 MB 9.1 MB/s eta 0:00:02\n",
      "     -------- ------------------------------- 2.7/12.8 MB 9.7 MB/s eta 0:00:02\n",
      "     --------- ------------------------------ 3.1/12.8 MB 9.5 MB/s eta 0:00:02\n",
      "     ----------- ---------------------------- 3.7/12.8 MB 9.8 MB/s eta 0:00:01\n",
      "     ------------ --------------------------- 4.1/12.8 MB 9.7 MB/s eta 0:00:01\n",
      "     ------------- -------------------------- 4.5/12.8 MB 10.2 MB/s eta 0:00:01\n",
      "     -------------- ------------------------- 4.5/12.8 MB 9.1 MB/s eta 0:00:01\n",
      "     --------------- ------------------------ 5.0/12.8 MB 9.4 MB/s eta 0:00:01\n",
      "     ----------------- ---------------------- 5.5/12.8 MB 9.3 MB/s eta 0:00:01\n",
      "     ------------------ --------------------- 6.0/12.8 MB 9.6 MB/s eta 0:00:01\n",
      "     -------------------- ------------------- 6.5/12.8 MB 9.9 MB/s eta 0:00:01\n",
      "     --------------------- ------------------ 7.0/12.8 MB 10.0 MB/s eta 0:00:01\n",
      "     --------------------- ------------------ 7.0/12.8 MB 10.0 MB/s eta 0:00:01\n",
      "     ----------------------- ---------------- 7.4/12.8 MB 9.4 MB/s eta 0:00:01\n",
      "     ------------------------ --------------- 7.9/12.8 MB 9.5 MB/s eta 0:00:01\n",
      "     ------------------------- -------------- 8.3/12.8 MB 9.5 MB/s eta 0:00:01\n",
      "     --------------------------- ------------ 8.8/12.8 MB 9.7 MB/s eta 0:00:01\n",
      "     ---------------------------- ----------- 9.3/12.8 MB 9.7 MB/s eta 0:00:01\n",
      "     ------------------------------ --------- 9.7/12.8 MB 9.8 MB/s eta 0:00:01\n",
      "     ------------------------------- -------- 10.1/12.8 MB 9.8 MB/s eta 0:00:01\n",
      "     -------------------------------- ------- 10.5/12.8 MB 9.8 MB/s eta 0:00:01\n",
      "     ---------------------------------- ----- 11.0/12.8 MB 9.9 MB/s eta 0:00:01\n",
      "     ----------------------------------- ---- 11.4/12.8 MB 9.8 MB/s eta 0:00:01\n",
      "     ------------------------------------ --- 11.8/12.8 MB 9.9 MB/s eta 0:00:01\n",
      "     ------------------------------------- - 12.3/12.8 MB 10.1 MB/s eta 0:00:01\n",
      "     --------------------------------------  12.6/12.8 MB 10.1 MB/s eta 0:00:01\n",
      "     --------------------------------------  12.8/12.8 MB 10.1 MB/s eta 0:00:01\n",
      "     --------------------------------------  12.8/12.8 MB 10.1 MB/s eta 0:00:01\n",
      "     --------------------------------------  12.8/12.8 MB 10.1 MB/s eta 0:00:01\n",
      "     ---------------------------------------- 12.8/12.8 MB 8.8 MB/s eta 0:00:00\n",
      "Requirement already satisfied: spacy<3.8.0,>=3.7.2 in c:\\users\\guilts0300\\appdata\\local\\anaconda3\\lib\\site-packages (from en-core-web-sm==3.7.1) (3.7.2)\n",
      "Requirement already satisfied: spacy-legacy<3.1.0,>=3.0.11 in c:\\users\\guilts0300\\appdata\\local\\anaconda3\\lib\\site-packages (from spacy<3.8.0,>=3.7.2->en-core-web-sm==3.7.1) (3.0.12)\n",
      "Requirement already satisfied: spacy-loggers<2.0.0,>=1.0.0 in c:\\users\\guilts0300\\appdata\\local\\anaconda3\\lib\\site-packages (from spacy<3.8.0,>=3.7.2->en-core-web-sm==3.7.1) (1.0.5)\n",
      "Requirement already satisfied: murmurhash<1.1.0,>=0.28.0 in c:\\users\\guilts0300\\appdata\\local\\anaconda3\\lib\\site-packages (from spacy<3.8.0,>=3.7.2->en-core-web-sm==3.7.1) (1.0.10)\n",
      "Requirement already satisfied: cymem<2.1.0,>=2.0.2 in c:\\users\\guilts0300\\appdata\\local\\anaconda3\\lib\\site-packages (from spacy<3.8.0,>=3.7.2->en-core-web-sm==3.7.1) (2.0.8)\n",
      "Requirement already satisfied: preshed<3.1.0,>=3.0.2 in c:\\users\\guilts0300\\appdata\\local\\anaconda3\\lib\\site-packages (from spacy<3.8.0,>=3.7.2->en-core-web-sm==3.7.1) (3.0.9)\n",
      "Requirement already satisfied: thinc<8.3.0,>=8.1.8 in c:\\users\\guilts0300\\appdata\\local\\anaconda3\\lib\\site-packages (from spacy<3.8.0,>=3.7.2->en-core-web-sm==3.7.1) (8.2.2)\n",
      "Requirement already satisfied: wasabi<1.2.0,>=0.9.1 in c:\\users\\guilts0300\\appdata\\local\\anaconda3\\lib\\site-packages (from spacy<3.8.0,>=3.7.2->en-core-web-sm==3.7.1) (1.1.2)\n",
      "Requirement already satisfied: srsly<3.0.0,>=2.4.3 in c:\\users\\guilts0300\\appdata\\local\\anaconda3\\lib\\site-packages (from spacy<3.8.0,>=3.7.2->en-core-web-sm==3.7.1) (2.4.8)\n",
      "Requirement already satisfied: catalogue<2.1.0,>=2.0.6 in c:\\users\\guilts0300\\appdata\\local\\anaconda3\\lib\\site-packages (from spacy<3.8.0,>=3.7.2->en-core-web-sm==3.7.1) (2.0.10)\n",
      "Requirement already satisfied: weasel<0.4.0,>=0.1.0 in c:\\users\\guilts0300\\appdata\\local\\anaconda3\\lib\\site-packages (from spacy<3.8.0,>=3.7.2->en-core-web-sm==3.7.1) (0.3.4)\n",
      "Requirement already satisfied: typer<0.10.0,>=0.3.0 in c:\\users\\guilts0300\\appdata\\local\\anaconda3\\lib\\site-packages (from spacy<3.8.0,>=3.7.2->en-core-web-sm==3.7.1) (0.9.0)\n",
      "Requirement already satisfied: smart-open<7.0.0,>=5.2.1 in c:\\users\\guilts0300\\appdata\\local\\anaconda3\\lib\\site-packages (from spacy<3.8.0,>=3.7.2->en-core-web-sm==3.7.1) (5.2.1)\n",
      "Requirement already satisfied: tqdm<5.0.0,>=4.38.0 in c:\\users\\guilts0300\\appdata\\local\\anaconda3\\lib\\site-packages (from spacy<3.8.0,>=3.7.2->en-core-web-sm==3.7.1) (4.65.0)\n",
      "Requirement already satisfied: requests<3.0.0,>=2.13.0 in c:\\users\\guilts0300\\appdata\\local\\anaconda3\\lib\\site-packages (from spacy<3.8.0,>=3.7.2->en-core-web-sm==3.7.1) (2.31.0)\n",
      "Requirement already satisfied: pydantic!=1.8,!=1.8.1,<3.0.0,>=1.7.4 in c:\\users\\guilts0300\\appdata\\local\\anaconda3\\lib\\site-packages (from spacy<3.8.0,>=3.7.2->en-core-web-sm==3.7.1) (2.5.2)\n",
      "Requirement already satisfied: jinja2 in c:\\users\\guilts0300\\appdata\\local\\anaconda3\\lib\\site-packages (from spacy<3.8.0,>=3.7.2->en-core-web-sm==3.7.1) (3.1.2)\n",
      "Requirement already satisfied: setuptools in c:\\users\\guilts0300\\appdata\\local\\anaconda3\\lib\\site-packages (from spacy<3.8.0,>=3.7.2->en-core-web-sm==3.7.1) (68.0.0)\n",
      "Requirement already satisfied: packaging>=20.0 in c:\\users\\guilts0300\\appdata\\local\\anaconda3\\lib\\site-packages (from spacy<3.8.0,>=3.7.2->en-core-web-sm==3.7.1) (23.0)\n",
      "Requirement already satisfied: langcodes<4.0.0,>=3.2.0 in c:\\users\\guilts0300\\appdata\\local\\anaconda3\\lib\\site-packages (from spacy<3.8.0,>=3.7.2->en-core-web-sm==3.7.1) (3.3.0)\n",
      "Requirement already satisfied: numpy>=1.19.0 in c:\\users\\guilts0300\\appdata\\local\\anaconda3\\lib\\site-packages (from spacy<3.8.0,>=3.7.2->en-core-web-sm==3.7.1) (1.24.3)\n",
      "Requirement already satisfied: annotated-types>=0.4.0 in c:\\users\\guilts0300\\appdata\\local\\anaconda3\\lib\\site-packages (from pydantic!=1.8,!=1.8.1,<3.0.0,>=1.7.4->spacy<3.8.0,>=3.7.2->en-core-web-sm==3.7.1) (0.6.0)\n",
      "Requirement already satisfied: pydantic-core==2.14.5 in c:\\users\\guilts0300\\appdata\\local\\anaconda3\\lib\\site-packages (from pydantic!=1.8,!=1.8.1,<3.0.0,>=1.7.4->spacy<3.8.0,>=3.7.2->en-core-web-sm==3.7.1) (2.14.5)\n",
      "Requirement already satisfied: typing-extensions>=4.6.1 in c:\\users\\guilts0300\\appdata\\local\\anaconda3\\lib\\site-packages (from pydantic!=1.8,!=1.8.1,<3.0.0,>=1.7.4->spacy<3.8.0,>=3.7.2->en-core-web-sm==3.7.1) (4.7.1)\n",
      "Requirement already satisfied: charset-normalizer<4,>=2 in c:\\users\\guilts0300\\appdata\\local\\anaconda3\\lib\\site-packages (from requests<3.0.0,>=2.13.0->spacy<3.8.0,>=3.7.2->en-core-web-sm==3.7.1) (2.0.4)\n",
      "Requirement already satisfied: idna<4,>=2.5 in c:\\users\\guilts0300\\appdata\\local\\anaconda3\\lib\\site-packages (from requests<3.0.0,>=2.13.0->spacy<3.8.0,>=3.7.2->en-core-web-sm==3.7.1) (3.4)\n",
      "Requirement already satisfied: urllib3<3,>=1.21.1 in c:\\users\\guilts0300\\appdata\\local\\anaconda3\\lib\\site-packages (from requests<3.0.0,>=2.13.0->spacy<3.8.0,>=3.7.2->en-core-web-sm==3.7.1) (1.26.16)\n",
      "Requirement already satisfied: certifi>=2017.4.17 in c:\\users\\guilts0300\\appdata\\local\\anaconda3\\lib\\site-packages (from requests<3.0.0,>=2.13.0->spacy<3.8.0,>=3.7.2->en-core-web-sm==3.7.1) (2023.11.17)\n",
      "Requirement already satisfied: blis<0.8.0,>=0.7.8 in c:\\users\\guilts0300\\appdata\\local\\anaconda3\\lib\\site-packages (from thinc<8.3.0,>=8.1.8->spacy<3.8.0,>=3.7.2->en-core-web-sm==3.7.1) (0.7.11)\n",
      "Requirement already satisfied: confection<1.0.0,>=0.0.1 in c:\\users\\guilts0300\\appdata\\local\\anaconda3\\lib\\site-packages (from thinc<8.3.0,>=8.1.8->spacy<3.8.0,>=3.7.2->en-core-web-sm==3.7.1) (0.1.4)\n",
      "Requirement already satisfied: colorama in c:\\users\\guilts0300\\appdata\\local\\anaconda3\\lib\\site-packages (from tqdm<5.0.0,>=4.38.0->spacy<3.8.0,>=3.7.2->en-core-web-sm==3.7.1) (0.4.6)\n",
      "Requirement already satisfied: click<9.0.0,>=7.1.1 in c:\\users\\guilts0300\\appdata\\local\\anaconda3\\lib\\site-packages (from typer<0.10.0,>=0.3.0->spacy<3.8.0,>=3.7.2->en-core-web-sm==3.7.1) (8.0.4)\n",
      "Requirement already satisfied: cloudpathlib<0.17.0,>=0.7.0 in c:\\users\\guilts0300\\appdata\\local\\anaconda3\\lib\\site-packages (from weasel<0.4.0,>=0.1.0->spacy<3.8.0,>=3.7.2->en-core-web-sm==3.7.1) (0.16.0)\n",
      "Requirement already satisfied: MarkupSafe>=2.0 in c:\\users\\guilts0300\\appdata\\local\\anaconda3\\lib\\site-packages (from jinja2->spacy<3.8.0,>=3.7.2->en-core-web-sm==3.7.1) (2.1.1)\n",
      "\u001b[38;5;2m[+] Download and installation successful\u001b[0m\n",
      "You can now load the package via spacy.load('en_core_web_sm')\n"
     ]
    }
   ],
   "source": [
    "# Téléchargement du modèle spaCy entraîné pour des textes en anglais \n",
    "\n",
    "!python -m spacy download en_core_web_sm"
   ]
  },
  {
   "cell_type": "markdown",
   "id": "03fa1d3f-85f0-4481-a2b0-a0f326516a7c",
   "metadata": {},
   "source": [
    "/!\\ Les chemins des dossiers de revues positives et négatives sont à adapter en fonction des vôtres."
   ]
  },
  {
   "cell_type": "code",
   "execution_count": 10,
   "id": "162e15f1-0a40-4b57-a716-83aeb9aa3d59",
   "metadata": {
    "tags": []
   },
   "outputs": [],
   "source": [
    "# Chargement des données \n",
    "\n",
    "# Chemins des dossiers de revues positives et négatives\n",
    "positive_path = \"C:/Users/guilts0300/Documents/APT/3A IODAA/ONTO-TAL/tuto_TAL-main/notebooks/ressources/movies/movies1000/pos\"\n",
    "negative_path = \"C:/Users/guilts0300/Documents/APT/3A IODAA/ONTO-TAL/tuto_TAL-main/notebooks/ressources/movies/movies1000/neg\"\n",
    "\n",
    "# Lecture des fichiers de revues\n",
    "def load_reviews(folder_path):\n",
    "    reviews = []\n",
    "    for filename in os.listdir(folder_path):\n",
    "        with open(os.path.join(folder_path, filename), 'r', encoding='utf-8') as file:\n",
    "            reviews.append(file.read())\n",
    "    return reviews\n",
    "\n",
    "positive_reviews = load_reviews(positive_path)\n",
    "negative_reviews = load_reviews(negative_path)"
   ]
  },
  {
   "cell_type": "markdown",
   "id": "22d0034b-6da8-4d5f-8923-5cead7a3b82c",
   "metadata": {
    "jp-MarkdownHeadingCollapsed": true,
    "tags": []
   },
   "source": [
    "# II. Prétraitements et modélisation"
   ]
  },
  {
   "cell_type": "markdown",
   "id": "c424fefd-53d7-4a17-81fe-087569b8332a",
   "metadata": {
    "jp-MarkdownHeadingCollapsed": true,
    "tags": []
   },
   "source": [
    "## Fonctions de prétraitement"
   ]
  },
  {
   "cell_type": "code",
   "execution_count": 12,
   "id": "9d6affb9-2b37-4363-9f04-564d6c3c42cb",
   "metadata": {
    "tags": []
   },
   "outputs": [],
   "source": [
    "# Prétraitements des données \n",
    "# Utilisation de spaCy pour tokeniser, lemmatiser et supprimer les stop words.\n",
    "\n",
    "nlp = spacy.load(\"en_core_web_sm\")\n",
    "\n",
    "# Fonction de prétraitement \n",
    "def preprocess_text(text):\n",
    "    \"\"\" \n",
    "    Cette fonction preprocess_text prend un texte en entrée, l'analyse avec spaCy, effectue la lemmatisation, \n",
    "    et supprime les mots vides.\n",
    "    \"\"\"\n",
    "    doc = nlp(text)\n",
    "    tokens = [token.lemma_ for token in doc if token.text.lower() not in STOP_WORDS]\n",
    "    return tokens\n",
    "\n",
    "# Prétraitement des reviews positives et négatives\n",
    "processed_positive_reviews = [preprocess_text(review) for review in positive_reviews]\n",
    "processed_negative_reviews = [preprocess_text(review) for review in negative_reviews]"
   ]
  },
  {
   "cell_type": "markdown",
   "id": "03cca613-5096-4237-9cb9-b2ec0b8800f5",
   "metadata": {
    "jp-MarkdownHeadingCollapsed": true,
    "tags": []
   },
   "source": [
    "## Construction du modèle Word2Vec et du classifieur SVM"
   ]
  },
  {
   "cell_type": "code",
   "execution_count": 13,
   "id": "205af0fd-44d0-409f-a33b-513854bd0c97",
   "metadata": {
    "tags": []
   },
   "outputs": [],
   "source": [
    "# Modèle Word2Vec sur les reviews préprocessées\n",
    "model = Word2Vec(processed_positive_reviews + processed_negative_reviews, vector_size=100, window=5, min_count=1, workers=4)"
   ]
  },
  {
   "cell_type": "code",
   "execution_count": 14,
   "id": "f7cbc2d4-b3d2-4b21-b1cf-041c56a26128",
   "metadata": {},
   "outputs": [],
   "source": [
    "# Stratégie d'aggrégation naïve : on fait la moyenne des vecteurs de mots pour représenter chaque review.\n",
    "def average_word_vectors(words, model, vocabulary, num_features):\n",
    "    \"\"\"\n",
    "    Cette fonction prend en entrée une liste de mots, un modèle Word2Vec, le vocabulaire du modèle, \n",
    "    et le nombre de caractéristiques du modèle. \n",
    "    Elle calcule la moyenne des vecteurs de mots présents dans la liste.\n",
    "    \"\"\"\n",
    "    feature_vector = np.zeros((num_features,), dtype=\"float64\")\n",
    "    nwords = 0.\n",
    "\n",
    "    for word in words:\n",
    "        if word in vocabulary:\n",
    "            nwords = nwords + 1.\n",
    "            feature_vector = np.add(feature_vector, model.wv[word])\n",
    "\n",
    "    if nwords:\n",
    "        feature_vector = np.divide(feature_vector, nwords)\n",
    "\n",
    "    return feature_vector\n",
    "\n",
    "def get_document_vectors(docs, model, vocabulary, num_features):\n",
    "    \"\"\"\n",
    "    Cette fonction la fonction précédente pour obtenir les vecteurs de documents à partir d'une liste de \n",
    "    documents.\n",
    "    \"\"\"\n",
    "    documents = [average_word_vectors(doc, model, vocabulary, num_features) for doc in docs]\n",
    "    return np.array(documents)"
   ]
  },
  {
   "cell_type": "code",
   "execution_count": 15,
   "id": "d654a302-ce7f-43cf-bf6b-213c83ad18a8",
   "metadata": {},
   "outputs": [
    {
     "name": "stdout",
     "output_type": "stream",
     "text": [
      "Accuracy: 0.6225\n"
     ]
    }
   ],
   "source": [
    "# Entrainement et évaluation du modèle\n",
    "\n",
    "X = get_document_vectors(processed_positive_reviews + processed_negative_reviews, model, model.wv.index_to_key, 100)\n",
    "# Etiquettes des reviews\n",
    "y = [1] * len(processed_positive_reviews) + [0] * len(processed_negative_reviews)\n",
    "\n",
    "# Division du dataset en données d'entrainement et de test\n",
    "X_train, X_test, y_train, y_test = train_test_split(X, y, test_size=0.2, random_state=42)\n",
    "\n",
    "# On utilise les vecteurs de documents pour entraîner un SVM à noyau linéaire (comme dans le premier notebook)\n",
    "svm_classifier = SVC(kernel='linear')\n",
    "svm_classifier.fit(X_train, y_train)\n",
    "\n",
    "# On évalue le modèle par son accuracy\n",
    "predictions = svm_classifier.predict(X_test)\n",
    "accuracy = accuracy_score(y_test, predictions)\n",
    "print(f\"Accuracy: {accuracy}\")"
   ]
  },
  {
   "cell_type": "markdown",
   "id": "0139393a-991e-4274-b906-ff2b35dc8159",
   "metadata": {
    "jp-MarkdownHeadingCollapsed": true,
    "tags": []
   },
   "source": [
    "# III. Conclusion"
   ]
  },
  {
   "cell_type": "markdown",
   "id": "409009c8-13d4-4975-a93b-56f1f46564c5",
   "metadata": {},
   "source": [
    "On  a obtenu une accuracy de 62%, ce qui est 20 points moins performant que l'accuracy du modèle retenu dans le notebook précédent. Comme vu en classe avec le notebook representationLearning (TAL), les stratégies naïves d'aggrégation somme/moyenne ne fonctionnent pas bien sur les avis longs (en particulier avec de nombreux mots fréquents). Cela ajoute beaucoup de bruits.\n",
    "\n",
    "Au regard de la durée d'exécution des cellules et de l'entraînement du modèle, on décide de ne pas effectuer de GridSearch sur ce modèle utilisant Word2Vec, étant donné qu'il est probable que, même optmisé, il ne soit pas plus performant que le modèle précédent.On aurait pu toutefois faire du GridSearch pour ajuster quelques paramètres de Word2Vec et les expérimenter pour optimiser le modèle, notamment : \n",
    "\n",
    "- vector_size : Dimension des vecteurs de mots. Des vecteurs de taille plus grande peuvent capturer des relations plus complexes entre les mots, mais peuvent nécessiter plus de données pour être entraînés correctement.\n",
    "\n",
    "- window : Définit la taille de la fenêtre de contexte lors de l'apprentissage du modèle. Une fenêtre plus grande peut capturer des relations contextuelles plus larges, mais cela peut être plus coûteux en termes de temps et nécessiter plus de données.\n",
    "\n",
    "- min_count : Nombre minimum d'occurrences d'un mot pour être pris en compte lors de l'entraînement. Des valeurs plus élevées peuvent aider à éliminer le bruit en ignorant les mots rares, mais cela peut également  exclure des mots importants si l'on fixe le seuil trop haut.\n",
    "\n",
    "- workers : Nombre de cœurs CPU à utiliser lors de l'entraînement du modèle. Utiliser plusieurs cœurs peut accélérer le processus d'entraînement.\n",
    "\n",
    "- epochs : Nombre d'époques d'entraînement. Augmenter le nombre d'époques peut permettre au modèle de mieux s'ajuster aux données, mais on peut également à faire du surapprentissage sur le jeu de données d'entraînement."
   ]
  }
 ],
 "metadata": {
  "kernelspec": {
   "display_name": "Python 3 (ipykernel)",
   "language": "python",
   "name": "python3"
  },
  "language_info": {
   "codemirror_mode": {
    "name": "ipython",
    "version": 3
   },
   "file_extension": ".py",
   "mimetype": "text/x-python",
   "name": "python",
   "nbconvert_exporter": "python",
   "pygments_lexer": "ipython3",
   "version": "3.11.4"
  }
 },
 "nbformat": 4,
 "nbformat_minor": 5
}
