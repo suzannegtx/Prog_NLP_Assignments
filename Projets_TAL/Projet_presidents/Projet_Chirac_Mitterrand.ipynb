{
 "cells": [
  {
   "cell_type": "markdown",
   "metadata": {},
   "source": [
    "# **Reconnaissance d'orateur**\n",
    "\n",
    "### **<span style=\"color: #DC143C\">Objectif</span>**\n",
    "\n",
    "Ce notebook a pour ambition de construire un modèle de **reconnaissance d'orateur** entre les paroles de deux présidents : **François Mitterand** et **Jacques Chirac**.  \n",
    "\n",
    "### **<span style=\"color: #DC143C\">Méthode</span>**\n",
    "\n",
    "Nous comparerons les performances de différents modèles puis utiliserons leurs meilleurs paramètres afin d'évaluer l'influence de différents pré-traitements sur la performance. Enfin, nous appliquerons les traitements optimaux sur les données test. Les résultats seront sauvegardés dans un ficher .txt.\n",
    "\n",
    "### **<span style=\"color: #DC143C\">Plan</span>**\n",
    "\n",
    "1. Chaîne de pré-traitements\n",
    "    1. Importation des données\n",
    "    2. Pré-traitements des données\n",
    "    3. Apprentissage d'un classifieur\n",
    "    4. Construction de la chaîne\n",
    "2. Exploitation de la chaîne de pré-traitements\n",
    "    1. Optimisation des hyperparamètres\n",
    "    2. Campagne de test sur les pré-traitements des données possibles\n",
    "3. Application des résultats aux données de test"
   ]
  },
  {
   "cell_type": "markdown",
   "metadata": {},
   "source": [
    "## **<span style=\"color: #40E0D0\">1. Chaîne de pré-traitements</span>**\n",
    "\n",
    "### **<span style=\"color: #DC143C\">A. Importation des données</span>**\n",
    "\n",
    "Les données sont contenues dans le dossier data. Nous avons à notre disposition deux jeux de données :\n",
    "- corpus.tache1.learn\n",
    "- corpus.tache1.test\n",
    "\n",
    "Le premier contient des paroles de discours des présidents étiquettées, tandis que celles du second ne le sont pas.  \n",
    "Pour cette raison, nous utiliserons deux fonctions différentes pour importer ces jeux de données."
   ]
  },
  {
   "cell_type": "code",
   "execution_count": 1,
   "metadata": {},
   "outputs": [],
   "source": [
    "# Chargement des librairies\n",
    "import numpy as np\n",
    "import pandas as pd\n",
    "import seaborn as sns\n",
    "import matplotlib.pyplot as plt\n",
    "%matplotlib inline\n",
    "import codecs\n",
    "import re"
   ]
  },
  {
   "cell_type": "code",
   "execution_count": 2,
   "metadata": {},
   "outputs": [],
   "source": [
    "# Fonctions utiles\n",
    "\n",
    "def compte_lignes(filename):\n",
    "    \"\"\"\n",
    "    Retourne le nombre de lignes d'un fichier texte.\n",
    "\n",
    "    Args:\n",
    "        filename: fichier texte\n",
    "\n",
    "    Returns:\n",
    "        count: le nombre de lignes du fichier\n",
    "    \"\"\"\n",
    "    count = 0\n",
    "    with open(filename, \"r\") as f:\n",
    "        for line in f:\n",
    "            count += 1\n",
    "    return count\n",
    "\n",
    "def extract_labels_txt(filename, n_lines):\n",
    "    \"\"\"\n",
    "    Retourne les phrases d'un fichier texte et leur label associé\n",
    "    dans deux variables distinctes.\n",
    "\n",
    "    Args:\n",
    "        filename: fichier texte\n",
    "        n_lines (int): nombre de lignes du fichier\n",
    "\n",
    "    Returns:\n",
    "        alltxts: une liste contenant les phrases du fichier\n",
    "        labels: un vecteur contenant les labels\n",
    "    \"\"\"\n",
    "    corpus = codecs.open(filename, \"r\", encoding=\"utf-8\")\n",
    "    alltxts = []\n",
    "    labels = np.ones(n_lines) * (-1)\n",
    "    for i in range(n_lines):\n",
    "        line = corpus.readline()\n",
    "        label = re.search(r\"<[0-9]*:[0-9]*:(.)>.*\",line).group(1)\n",
    "        txt = re.search(r\"<[0-9]*:[0-9]*:.>(.*)\",line).group(1)\n",
    "        if label == 'M':\n",
    "            labels[i] = 1\n",
    "        alltxts.append(txt)\n",
    "    corpus.close()\n",
    "    return labels, alltxts\n",
    "\n",
    "def extract_txt(filename, n_lines):\n",
    "    \"\"\"\n",
    "    Retourne les phrases d'un fichier texte.\n",
    "\n",
    "    Args:\n",
    "        filename: fichier texte\n",
    "        n_lines (int): nombre de lignes du fichier\n",
    "\n",
    "    Returns:\n",
    "        alltxts: une liste contenant les phrases du fichier\n",
    "    \"\"\"\n",
    "    corpus = codecs.open(filename, \"r\", encoding=\"utf-8\")\n",
    "    alltxts = []\n",
    "    for i in range(n_lines):\n",
    "        line = corpus.readline()\n",
    "        txt = re.search(r\"<[0-9]*:[0-9]*>(.*)\",line).group(1)\n",
    "        alltxts.append(txt)\n",
    "    corpus.close()\n",
    "    return alltxts"
   ]
  },
  {
   "cell_type": "code",
   "execution_count": 3,
   "metadata": {},
   "outputs": [
    {
     "name": "stdout",
     "output_type": "stream",
     "text": [
      "Nombre de lignes pour le corpus d'entrainement = 57413\n",
      "Nombre de lignes pour le corpus de test = 27162\n",
      "\n",
      "Dans le corpus d'entrainement, il y a :\n",
      "Nombre de M = 7523\n",
      "Nombre de C = 49890\n"
     ]
    }
   ],
   "source": [
    "# Chemin d'accès des données\n",
    "filename_learn = \"data/corpus.tache1.learn.utf8\"\n",
    "filename_test = \"data/corpus.tache1.test.utf8\"\n",
    "\n",
    "# Comptage des lignes\n",
    "n_train = compte_lignes(filename_learn)\n",
    "n_test = compte_lignes(filename_test)\n",
    "print(\"Nombre de lignes pour le corpus d'entrainement =\", n_train)\n",
    "print(\"Nombre de lignes pour le corpus de test =\", n_test)\n",
    "\n",
    "# Extraction des labels et des phrases\n",
    "labels_learn, corpus_learn = extract_labels_txt(filename_learn,n_train)\n",
    "corpus_test = extract_txt(filename_test,n_test)\n",
    "print(\"\\nDans le corpus d'entrainement, il y a :\")\n",
    "print(\"Nombre de M =\", np.sum(np.where(labels_learn == 1,1,0)))\n",
    "print(\"Nombre de C =\", np.sum(np.where(labels_learn == -1,1,0)))"
   ]
  },
  {
   "cell_type": "markdown",
   "metadata": {},
   "source": [
    "### **<span style=\"color: #DC143C\">B. Pré-traitements des données</span>**\n",
    "\n",
    "Les pré-traitements possibles pour un texte sont multiples :\n",
    "- Enlever des informations \"inutiles\" : chiffres, ponctuations, capitales, etc... \n",
    "- Eliminer les mots-vides (*stopwords*)\n",
    "- Supprimer les terminaisons des mots (*stemming*)\n",
    "- Eliminer les mots trop rares ou trop fréquents\n",
    "- Encoder les mots par paires ou triplets\n",
    "- Segmenter le texte en mots (*tokenization*)\n",
    "\n",
    "Dans un premier temps, nous nous contenterons de réaliser des pré-traitements simples sur les données (mettre le texte en minuscule, supprimer les accents) en utilisant **CountVectorizer**.  \n",
    "Nous aurons l'opportunité d'essayer des pré-traitements plus variés ultérieurement.  \n",
    "\n",
    "Etant donné que seul le corpus_learn est étiquetté, nous utiliserons uniquement celui-ci pour les prochaines parties de ce notebook. Il va nous permettre de créer les ensembles d'appprentissage et de test.  \n",
    "Commençons donc par regarder à quoi ressemble nos données."
   ]
  },
  {
   "cell_type": "code",
   "execution_count": 4,
   "metadata": {},
   "outputs": [
    {
     "name": "stdout",
     "output_type": "stream",
     "text": [
      "L'ensemble d'apprentissage contient 45930 phrases.\n",
      "L'ensemble de test contient 11483 phrases.\n"
     ]
    }
   ],
   "source": [
    "# Séparation des corpus_learn et labels_learn en ensemble \n",
    "# d'apprentissage et de test\n",
    "from sklearn.model_selection import train_test_split\n",
    "\n",
    "X_train, X_test, y_train, y_test = train_test_split(\n",
    "    corpus_learn, labels_learn,\n",
    "    test_size=0.2, random_state=42)\n",
    "\n",
    "print(f\"L'ensemble d'apprentissage contient {len(X_train)} phrases.\")\n",
    "print(f\"L'ensemble de test contient {len(X_test)} phrases.\")"
   ]
  },
  {
   "cell_type": "code",
   "execution_count": 5,
   "metadata": {},
   "outputs": [
    {
     "name": "stdout",
     "output_type": "stream",
     "text": [
      "[\" Mes amis libanais auxquels se joignent ce soir, et j'en suis particulièrement heureux, mes amis de l'Association Internationale des Maires Francophones.\\r\", \" Je veux également, en notre nom à tous, exprimer ma gratitude et mes remerciements à nos hôtes, Monsieur l'Ambassadeur de France en Tunisie et <nom> , qui nous offrent leur hospitalité et leur organisation pour cette rencontre.\\r\", \" Il appartient à l'ONU de donner sa légitimité à ce processus.\\r\", ' Cent fois, elle aurait pu se séparer, se défaire, se dissocier.\\r', \" C'est un accomplissement !\\r\", ' Chacun de vous, chacun de nous, chaque citoyen, en est responsable.\\r', \" Nous avons d'abord renforcé la coopération multilatérale qui doit être le fondement d'un système international en pleine évolution.\\r\", ' Une femme libre encore, Fantine, la mère de Cosette.\\r', \" L'assurance maladie doit prendre en compte le développement d'actes nouveaux liés à la prévention.\\r\", ' Au nom de quoi les rythmes de notre démocratie devraient-ils rester immuables ?\\r']\n",
      "[-1. -1. -1. -1. -1. -1. -1. -1. -1. -1.]\n"
     ]
    }
   ],
   "source": [
    "# Observation des premières lignes de l'ensemble d'apprentissage\n",
    "print(X_train[:10])\n",
    "print(y_train[:10])"
   ]
  },
  {
   "cell_type": "markdown",
   "metadata": {},
   "source": [
    "Comme nous pouvons le voir dans les extraits ci-dessus, le texte est parsemé d'éléments inutiles, comme les ponctuations, les mots avec des majuscules, les mots au singulier et au pluriel, les mots trop commun ()\"le\", \"la\", ...), etc.  \n",
    "\n",
    "Nous ne chercherons pas immédiatement à répondre à ces problématiques mais nous pouvons nous y préparer.\n",
    "- A partir d'un fichier de mots-vides français, nous allons créer une liste de stopwords que nous pourrons utiliser plus tard.\n",
    "- La classe FrenchStemmer() du module NLTK va nous permettre de créer une fonction de stemming."
   ]
  },
  {
   "cell_type": "code",
   "execution_count": 6,
   "metadata": {},
   "outputs": [
    {
     "name": "stdout",
     "output_type": "stream",
     "text": [
      "Il y a 691 stopwords dans le fichier stopwords.txt.\n",
      "Les 10 premiers stopwords sont : ['a', 'abord', 'absolument', 'afin', 'ah', 'ai', 'aie', 'aient', 'aies', 'ailleurs'].\n"
     ]
    }
   ],
   "source": [
    "# Fonction pour lire un fichier texte\n",
    "def read_file(fn):\n",
    "    with codecs.open(fn,encoding=\"utf-8\") as f:\n",
    "        return f.read()\n",
    "\n",
    "# Création d'une liste de stopwords à partir du fichier data/stopwords.txt\n",
    "stopwords = read_file(\"data/stopwords.txt\").split(\"\\r\\n\")\n",
    "\n",
    "# Aperçu des stopwords\n",
    "print(f\"Il y a {len(stopwords)} stopwords dans le fichier stopwords.txt.\")\n",
    "print(f\"Les 10 premiers stopwords sont : {stopwords[:10]}.\")"
   ]
  },
  {
   "cell_type": "code",
   "execution_count": 7,
   "metadata": {},
   "outputs": [],
   "source": [
    "# Création d'une fonction stemmer\n",
    "from nltk.stem.snowball import FrenchStemmer\n",
    "\n",
    "def stemmer(line) :\n",
    "    stemmer = FrenchStemmer()\n",
    "    words = []\n",
    "    for word in line.split(\" \") :\n",
    "        if word != \"\" :\n",
    "            words.append(stemmer.stem(word))\n",
    "    new_line = ' '.join(words)\n",
    "    return new_line"
   ]
  },
  {
   "cell_type": "markdown",
   "metadata": {},
   "source": [
    "Nous pouvons maintenant définir notre **modèle de base** pour le pré-traitement des données."
   ]
  },
  {
   "cell_type": "code",
   "execution_count": 8,
   "metadata": {},
   "outputs": [],
   "source": [
    "# Chargement des librairies pour le traitement du texte\n",
    "from sklearn.feature_extraction.text import CountVectorizer\n",
    "\n",
    "# Création d'un objet de type CountVectorizer\n",
    "vectorizer = CountVectorizer(\n",
    "    strip_accents='ascii', # enlève les accents\n",
    "    lowercase=True,        # mets en minuscule\n",
    ")\n",
    "\n",
    "# Autres paramètres possibles :\n",
    "    # stop_words=stopwords,  # enlève les mots vides\n",
    "    # preprocessor=stemmer,  # applique la fonction stemmer\n",
    "    # max_df=5000,           # nombre max de fois où un mot doit apparaître pour être pris en compte\n",
    "    # min_df=6,              # nombre min de fois où un mot doit apparaître pour être pris en compte\n",
    "    # ngram_range=(1,3)      # ngrammes de taille 1 à 3 (unigrammes, bigrammes et trigrammes)\n",
    "\n",
    "X_train_processing = vectorizer.fit_transform(X_train)\n",
    "X_test_processing = vectorizer.transform(X_test)"
   ]
  },
  {
   "cell_type": "code",
   "execution_count": 9,
   "metadata": {},
   "outputs": [
    {
     "data": {
      "image/png": "[encoded data removed]",
      "text/plain": [
       "<Figure size 640x480 with 2 Axes>"
      ]
     },
     "metadata": {},
     "output_type": "display_data"
    }
   ],
   "source": [
    "# Aperçu des mots les plus et moins fréquents\n",
    "# dans le set d'apprentissage après les pré-traitements\n",
    "vocabulaire = np.array(vectorizer.get_feature_names_out())\n",
    "comptage = X_train_processing.toarray().sum(0)\n",
    "n = 20\n",
    "\n",
    "ind = comptage.argsort()[-n:]\n",
    "plt.subplot(1, 2, 1)\n",
    "plt.barh(vocabulaire[ind], comptage[ind])\n",
    "plt.title(\"les \"+str(n)+\" mots les plus fréquents\")\n",
    "\n",
    "ind = comptage.argsort()[:n]\n",
    "plt.subplot(1, 2, 2)\n",
    "plt.barh(vocabulaire[ind], comptage[ind])\n",
    "plt.title(\"les \"+str(n)+\" mots les moins fréquents\")\n",
    "\n",
    "plt.tight_layout()"
   ]
  },
  {
   "cell_type": "markdown",
   "metadata": {},
   "source": [
    "Ce n'est pas encore très parlant. On peut déjà remarquer d'une part que les mots les plus communs sont principalement des déterminants et des pronoms donc très répandus et peu informatifs. D'autre part, on peut soupçonner qu'un grand nombre de mots ne sont présents qu'une fois et donc ne peuvent servir à discriminer entre les orateurs.  \n",
    "\n",
    "Les pré-traitements déjà réalisés ne sont pas non plus anodins puisqu'ils ont déjà permis de réduire la taille du vocabulaire de moitié, comme on peut le voir ci-dessous."
   ]
  },
  {
   "cell_type": "code",
   "execution_count": 10,
   "metadata": {},
   "outputs": [
    {
     "name": "stdout",
     "output_type": "stream",
     "text": [
      "Avant le data processing :\n",
      "   - la taille du vocabulaire est de 53848 mots.\n",
      "   - les 20 mots les plus fréquents sont :\n",
      "[('de', 54901), ('', 45930), ('la', 31797), ('et', 27729), ('à', 20757), ('les', 19450), ('le', 19287), ('des', 17229), ('que', 12556), ('qui', 11797), ('en', 11426), ('pour', 8855), ('dans', 8752), ('du', 8497), ('un', 7443), ('une', 7135), ('plus', 5687), ('nous', 5684), ('au', 5646), ('vous', 5586)]\n",
      "\n",
      "Après le data processing :\n",
      "   - la taille du vocabulaire est de 25278 mots.\n",
      "   - les 20 mots les plus fréquents sont :\n",
      "['de' 'la' 'et' 'le' 'les' 'des' 'est' 'en' 'que' 'qui' 'un' 'une' 'pour'\n",
      " 'dans' 'du' 'je' 'il' 'nous' 'vous' 'au']\n"
     ]
    }
   ],
   "source": [
    "# Observation des mots les plus fréquents dans le corpus d'entrainement\n",
    "from collections import Counter\n",
    "\n",
    "wc = Counter()\n",
    "for text in X_train:\n",
    "    wc.update(text.split(\" \"))\n",
    "\n",
    "print(\"Avant le data processing :\")\n",
    "print(f\"   - la taille du vocabulaire est de {len(wc)} mots.\")\n",
    "print(\"   - les 20 mots les plus fréquents sont :\")\n",
    "print(wc.most_common(20))\n",
    "\n",
    "print(\"\\nAprès le data processing :\")\n",
    "print(f\"   - la taille du vocabulaire est de {len(vocabulaire)} mots.\")\n",
    "print(\"   - les 20 mots les plus fréquents sont :\")\n",
    "ind = comptage.argsort()[-n:]\n",
    "print(vocabulaire[ind][::-1])"
   ]
  },
  {
   "cell_type": "code",
   "execution_count": 11,
   "metadata": {},
   "outputs": [
    {
     "data": {
      "image/png": "[encoded data removed]",
      "text/plain": [
       "<Figure size 640x480 with 2 Axes>"
      ]
     },
     "metadata": {},
     "output_type": "display_data"
    }
   ],
   "source": [
    "freq = [f for w,f in wc.most_common(1000)]\n",
    "\n",
    "plt.subplot(1, 2, 1)\n",
    "plt.plot(freq[:300])\n",
    "plt.title(\"Avant le data processing\")\n",
    "plt.xlabel(\"Rang du mot\")\n",
    "plt.ylabel(\"Fréquence du mot\")\n",
    "\n",
    "col_sum = np.sum(X_train_processing, axis=0)\n",
    "col_sum = np.squeeze(np.asarray(col_sum))\n",
    "col_sum = np.sort(col_sum, axis=0)[::-1]\n",
    "\n",
    "plt.subplot(1, 2, 2)\n",
    "plt.plot(col_sum[:300])\n",
    "plt.title(\"Après le data processing\")\n",
    "plt.xlabel(\"Rang du mot\")\n",
    "plt.ylabel(\"Fréquence du mot\")\n",
    "\n",
    "plt.tight_layout()"
   ]
  },
  {
   "cell_type": "markdown",
   "metadata": {},
   "source": [
    "### **<span style=\"color: #DC143C\">C. Apprentissage d'un classifieur</span>**"
   ]
  },
  {
   "cell_type": "code",
   "execution_count": 12,
   "metadata": {},
   "outputs": [
    {
     "name": "stdout",
     "output_type": "stream",
     "text": [
      "15.15% des phrases sont de Mitterand dans le set d'apprentissage.\n",
      "14.81% des phrases sont de Mitterand dans le set de test.\n"
     ]
    }
   ],
   "source": [
    "counter = Counter(y_train)\n",
    "print(f\"{round(counter[1] / counter[-1] * 100, 2)}% des phrases sont de Mitterand dans le set d'apprentissage.\")\n",
    "\n",
    "counter = Counter(y_test)\n",
    "print(f\"{round(counter[1] / counter[-1] * 100, 2)}% des phrases sont de Mitterand dans le set de test.\")"
   ]
  },
  {
   "cell_type": "markdown",
   "metadata": {},
   "source": [
    "Les classes ne sont visiblement pas équilibrées : il y a environ 15% d'une classe et 85% de l'autre. Nous devons donc prendre quelques mesures de précaution.  \n",
    "\n",
    "En particulier, nous préférerons l'utilisation de la métrique *balanced_accuracy* à *accuracy* qui surestimerait les performances des modèles."
   ]
  },
  {
   "cell_type": "markdown",
   "metadata": {},
   "source": [
    "Nous testerons dans la suite de ce notebook trois modèles de classification :\n",
    "- Naive Bayes\n",
    "- SVM\n",
    "- Régression logistique"
   ]
  },
  {
   "cell_type": "code",
   "execution_count": 13,
   "metadata": {},
   "outputs": [
    {
     "name": "stderr",
     "output_type": "stream",
     "text": [
      "c:\\Users\\corne\\anaconda3\\Lib\\site-packages\\sklearn\\linear_model\\_logistic.py:460: ConvergenceWarning: lbfgs failed to converge (status=1):\n",
      "STOP: TOTAL NO. of ITERATIONS REACHED LIMIT.\n",
      "\n",
      "Increase the number of iterations (max_iter) or scale the data as shown in:\n",
      "    https://scikit-learn.org/stable/modules/preprocessing.html\n",
      "Please also refer to the documentation for alternative solver options:\n",
      "    https://scikit-learn.org/stable/modules/linear_model.html#logistic-regression\n",
      "  n_iter_i = _check_optimize_result(\n",
      "c:\\Users\\corne\\anaconda3\\Lib\\site-packages\\sklearn\\svm\\_classes.py:32: FutureWarning: The default value of `dual` will change from `True` to `'auto'` in 1.5. Set the value of `dual` explicitly to suppress the warning.\n",
      "  warnings.warn(\n",
      "c:\\Users\\corne\\anaconda3\\Lib\\site-packages\\sklearn\\svm\\_base.py:1250: ConvergenceWarning: Liblinear failed to converge, increase the number of iterations.\n",
      "  warnings.warn(\n"
     ]
    }
   ],
   "source": [
    "# Chargement des librairies pour l'apprentissage\n",
    "from sklearn.naive_bayes import MultinomialNB\n",
    "from sklearn.linear_model import LogisticRegression\n",
    "from sklearn.svm import LinearSVC\n",
    "from sklearn.metrics import accuracy_score\n",
    "from sklearn.metrics import balanced_accuracy_score\n",
    "\n",
    "# Apprentissage et prédiction\n",
    "clf_nb = MultinomialNB()\n",
    "clf_lr = LogisticRegression(random_state=)\n",
    "clf_svm = LinearSVC(random_state=42)\n",
    "\n",
    "clf_nb.fit(X_train_processing,y_train)\n",
    "clf_lr.fit(X_train_processing,y_train)\n",
    "clf_svm.fit(X_train_processing,y_train)\n",
    "\n",
    "pred_nb = clf_nb.predict(X_test_processing)\n",
    "pred_lr = clf_lr.predict(X_test_processing)\n",
    "pred_svm = clf_svm.predict(X_test_processing)"
   ]
  },
  {
   "cell_type": "code",
   "execution_count": 14,
   "metadata": {},
   "outputs": [
    {
     "name": "stdout",
     "output_type": "stream",
     "text": [
      "Naïve Bayes accuracy: 0.8961072890359663\n",
      "Naïve Bayes balanced accuracy: 0.7194699817632693\n",
      "\n",
      "Logistic Regression accuracy: 0.9030741095532526\n",
      "Logistic Regression balanced accuracy: 0.6938443506437133\n",
      "\n",
      "SVM accuracy: 0.8864408255682313\n",
      "SVM balanced accuracy: 0.7156468098682762\n"
     ]
    }
   ],
   "source": [
    "# Affichage des performances des modèles\n",
    "print(f\"Naïve Bayes accuracy: {accuracy_score(y_test, pred_nb)}\")\n",
    "print(f\"Naïve Bayes balanced accuracy: {balanced_accuracy_score(y_test, pred_nb)}\")\n",
    "print(f\"\\nLogistic Regression accuracy: {accuracy_score(y_test, pred_lr)}\")\n",
    "print(f\"Logistic Regression balanced accuracy: {balanced_accuracy_score(y_test, pred_lr)}\")\n",
    "print(f\"\\nSVM accuracy: {accuracy_score(y_test, pred_svm)}\")\n",
    "print(f\"SVM balanced accuracy: {balanced_accuracy_score(y_test, pred_svm)}\")"
   ]
  },
  {
   "cell_type": "code",
   "execution_count": 15,
   "metadata": {},
   "outputs": [
    {
     "data": {
      "image/png": "[encoded data removed]",
      "text/plain": [
       "<Figure size 1500x500 with 6 Axes>"
      ]
     },
     "metadata": {},
     "output_type": "display_data"
    }
   ],
   "source": [
    "# Matrices de confusion des modèles\n",
    "from sklearn.metrics import ConfusionMatrixDisplay\n",
    "\n",
    "figure, (ax1, ax2, ax3) = plt.subplots(1, 3, figsize=(15,5))\n",
    "\n",
    "ax1.set_title(\"Naïve Bayes\")\n",
    "ConfusionMatrixDisplay.from_predictions(y_test, pred_nb, ax=ax1)\n",
    "ax2.set_title(\"Logistic Regression\")\n",
    "ConfusionMatrixDisplay.from_predictions(y_test, pred_lr, ax=ax2)\n",
    "ax3.set_title(\"SVM\")\n",
    "ConfusionMatrixDisplay.from_predictions(y_test, pred_svm, ax=ax3)\n",
    "\n",
    "plt.tight_layout()"
   ]
  },
  {
   "cell_type": "markdown",
   "metadata": {},
   "source": [
    "### **<span style=\"color: #DC143C\">D. Construction de la chaîne</span>**\n",
    "\n",
    "Comme nous avons pu le voir plus tôt, les classes sont assez déséquilibrées. Il est donc préférable d'utiliser des outils du modules imblearn pour construire la chaîne de traitements."
   ]
  },
  {
   "cell_type": "code",
   "execution_count": 16,
   "metadata": {},
   "outputs": [],
   "source": [
    "# Création d'une pipeline pour le traitement du texte\n",
    "from imblearn.pipeline import Pipeline\n",
    "from imblearn.over_sampling import SMOTE\n",
    "\n",
    "# Fonction pour créer la pipeline de classification\n",
    "def classifier(vectorizer, clf):\n",
    "    pipeline = Pipeline([(\"Data_processing\", vectorizer),\n",
    "                         (\"Resampling\", SMOTE(random_state=42)),\n",
    "                         (\"Classification\", clf)])\n",
    "    return pipeline\n",
    "\n",
    "# Fonction pour évaluer les modèles\n",
    "def metriques(model_name, model, X_train, y_train, X_test, y_test):\n",
    "    model.fit(X_train,y_train)\n",
    "    y_pred = model.predict(X_test)\n",
    "    \n",
    "    acc = accuracy_score(y_test, y_pred)\n",
    "    bal_acc = balanced_accuracy_score(y_test, y_pred)\n",
    "    \n",
    "    print(f\"{model_name} accuracy: {acc}\")\n",
    "    print(f\"{model_name} balanced accuracy: {bal_acc}\")\n",
    "    return y_pred\n",
    "\n",
    "# Fonction globale pour la chaine de traitement\n",
    "def chaine_pretraitement(model, vectorizer, clf, X_train, y_train, X_test, y_test):\n",
    "    model = classifier(vectorizer, clf)\n",
    "    y_pred = metriques(model, model, X_train, y_train, X_test, y_test)\n",
    "    return y_pred"
   ]
  },
  {
   "cell_type": "code",
   "execution_count": 17,
   "metadata": {},
   "outputs": [
    {
     "name": "stdout",
     "output_type": "stream",
     "text": [
      "Pipeline(steps=[('Data_processing', CountVectorizer(strip_accents='ascii')),\n",
      "                ('Resampling', SMOTE(random_state=42)),\n",
      "                ('Classification', MultinomialNB())]) accuracy: 0.8563964120874336\n",
      "Pipeline(steps=[('Data_processing', CountVectorizer(strip_accents='ascii')),\n",
      "                ('Resampling', SMOTE(random_state=42)),\n",
      "                ('Classification', MultinomialNB())]) balanced accuracy: 0.7403927384678365\n"
     ]
    },
    {
     "name": "stderr",
     "output_type": "stream",
     "text": [
      "c:\\Users\\corne\\anaconda3\\Lib\\site-packages\\sklearn\\linear_model\\_logistic.py:460: ConvergenceWarning: lbfgs failed to converge (status=1):\n",
      "STOP: TOTAL NO. of ITERATIONS REACHED LIMIT.\n",
      "\n",
      "Increase the number of iterations (max_iter) or scale the data as shown in:\n",
      "    https://scikit-learn.org/stable/modules/preprocessing.html\n",
      "Please also refer to the documentation for alternative solver options:\n",
      "    https://scikit-learn.org/stable/modules/linear_model.html#logistic-regression\n",
      "  n_iter_i = _check_optimize_result(\n"
     ]
    },
    {
     "name": "stdout",
     "output_type": "stream",
     "text": [
      "Pipeline(steps=[('Data_processing', CountVectorizer(strip_accents='ascii')),\n",
      "                ('Resampling', SMOTE(random_state=42)),\n",
      "                ('Classification', LogisticRegression())]) accuracy: 0.8280937037359575\n",
      "Pipeline(steps=[('Data_processing', CountVectorizer(strip_accents='ascii')),\n",
      "                ('Resampling', SMOTE(random_state=42)),\n",
      "                ('Classification', LogisticRegression())]) balanced accuracy: 0.7152297764619933\n"
     ]
    },
    {
     "name": "stderr",
     "output_type": "stream",
     "text": [
      "c:\\Users\\corne\\anaconda3\\Lib\\site-packages\\sklearn\\svm\\_classes.py:32: FutureWarning: The default value of `dual` will change from `True` to `'auto'` in 1.5. Set the value of `dual` explicitly to suppress the warning.\n",
      "  warnings.warn(\n",
      "c:\\Users\\corne\\anaconda3\\Lib\\site-packages\\sklearn\\svm\\_base.py:1250: ConvergenceWarning: Liblinear failed to converge, increase the number of iterations.\n",
      "  warnings.warn(\n"
     ]
    },
    {
     "name": "stdout",
     "output_type": "stream",
     "text": [
      "Pipeline(steps=[('Data_processing', CountVectorizer(strip_accents='ascii')),\n",
      "                ('Resampling', SMOTE(random_state=42)),\n",
      "                ('Classification', LinearSVC())]) accuracy: 0.8265261691195681\n",
      "Pipeline(steps=[('Data_processing', CountVectorizer(strip_accents='ascii')),\n",
      "                ('Resampling', SMOTE(random_state=42)),\n",
      "                ('Classification', LinearSVC())]) balanced accuracy: 0.7039756464642251\n"
     ]
    },
    {
     "data": {
      "image/png": "[encoded data removed]",
      "text/plain": [
       "<Figure size 1500x500 with 6 Axes>"
      ]
     },
     "metadata": {},
     "output_type": "display_data"
    }
   ],
   "source": [
    "y_pred_nb = chaine_pretraitement(\"Naïve Bayes\", vectorizer, clf_nb, \n",
    "                                 X_train, y_train, X_test, y_test)\n",
    "y_pred_lr = chaine_pretraitement(\"Logistic Regression\", vectorizer, clf_lr,\n",
    "                                 X_train, y_train, X_test, y_test)\n",
    "y_pred_svm = chaine_pretraitement(\"SVM\", vectorizer, clf_svm,\n",
    "                                  X_train, y_train, X_test, y_test)\n",
    "\n",
    "figure, (ax1, ax2, ax3) = plt.subplots(1, 3, figsize=(15,5))\n",
    "\n",
    "ax1.set_title(\"Naïve Bayes\")\n",
    "cm_nb = ConfusionMatrixDisplay.from_predictions(y_test, y_pred_nb, ax=ax1)\n",
    "ax2.set_title(\"Logistic Regression\")\n",
    "cm_lr = ConfusionMatrixDisplay.from_predictions(y_test, y_pred_lr, ax=ax2)\n",
    "ax3.set_title(\"SVM\")\n",
    "cm_svm = ConfusionMatrixDisplay.from_predictions(y_test, y_pred_svm, ax=ax3)\n",
    "\n",
    "plt.tight_layout()"
   ]
  },
  {
   "cell_type": "markdown",
   "metadata": {},
   "source": [
    "## **<span style=\"color: #40E0D0\">2. Exploitation de la chaîne de pré-traitements</span>**\n",
    "\n",
    "### **<span style=\"color: #DC143C\">A. Optimisation des hyperparamètres</span>**"
   ]
  },
  {
   "cell_type": "code",
   "execution_count": 18,
   "metadata": {},
   "outputs": [],
   "source": [
    "# Chargement des librairies pour l'optimisation des hyperparamètres\n",
    "from sklearn.model_selection import GridSearchCV\n",
    "\n",
    "# Fonction pour identifier les meilleurs hyperparamètres\n",
    "def HyperParamOptimisation(vectorizer, clf, parameters, X_train, y_train,):\n",
    "    pipeline = classifier(vectorizer, clf)\n",
    "    params = parameters\n",
    "    \n",
    "    grid = GridSearchCV(estimator=pipeline, param_grid=params,\n",
    "                        scoring='balanced_accuracy', n_jobs=-1)\n",
    "    grid.fit(X_train, y_train)\n",
    "\n",
    "    print('Best Score: ', grid.best_score_)\n",
    "    print('Best Params: ', grid.best_params_)\n",
    "\n",
    "    return grid.best_params_"
   ]
  },
  {
   "cell_type": "code",
   "execution_count": 27,
   "metadata": {},
   "outputs": [
    {
     "name": "stdout",
     "output_type": "stream",
     "text": [
      "Best Score:  0.7304854088547594\n",
      "Best Params:  {'Classification__alpha': 1}\n"
     ]
    }
   ],
   "source": [
    "# Optimisation des hyperparamètres du modèle Naïve Bayes\n",
    "parameters = {'Classification__alpha': [0, 0.1, 1, 10, 100]}\n",
    "\n",
    "best_params_nb = HyperParamOptimisation(vectorizer, clf_nb, parameters, X_train, y_train)"
   ]
  },
  {
   "cell_type": "code",
   "execution_count": 19,
   "metadata": {},
   "outputs": [
    {
     "name": "stdout",
     "output_type": "stream",
     "text": [
      "Best Score:  0.7046694633583547\n",
      "Best Params:  {'Classification__C': 1, 'Classification__penalty': 'l2', 'Classification__solver': 'liblinear'}\n"
     ]
    }
   ],
   "source": [
    "# Optimisation des hyperparamètres du modèle Logistic Regression\n",
    "parameters= {'Classification__penalty':['l1', 'l2'],\n",
    "             'Classification__C':[0.1, 1, 10, 100],\n",
    "             'Classification__solver':['liblinear', 'saga']}\n",
    "\n",
    "best_params_lr = HyperParamOptimisation(vectorizer, clf_lr, parameters, X_train, y_train)"
   ]
  },
  {
   "cell_type": "code",
   "execution_count": 21,
   "metadata": {},
   "outputs": [
    {
     "name": "stderr",
     "output_type": "stream",
     "text": [
      "c:\\Users\\corne\\anaconda3\\Lib\\site-packages\\sklearn\\svm\\_classes.py:32: FutureWarning: The default value of `dual` will change from `True` to `'auto'` in 1.5. Set the value of `dual` explicitly to suppress the warning.\n",
      "  warnings.warn(\n"
     ]
    },
    {
     "name": "stdout",
     "output_type": "stream",
     "text": [
      "Best Score:  0.7015564705810426\n",
      "Best Params:  {'Classification__C': 0.1}\n"
     ]
    }
   ],
   "source": [
    "# Optimisation des hyperparamètres du modèle SVM\n",
    "parameters = {'Classification__C': [0.1, 1, 10, 100]}\n",
    "\n",
    "best_params_svm = HyperParamOptimisation(vectorizer, clf_svm, parameters, X_train, y_train)"
   ]
  },
  {
   "cell_type": "markdown",
   "metadata": {},
   "source": [
    "Comparé aux essais du 2.C, l'optimisation des paramètres des classifieurs utilisés a bien permis une **légère amélioration de la performance des modèle**. La balanced accuracy du **Naïve Bayes** est ainsi passée de 0.71 à 0.73.  \n",
    "\n",
    "Etant montré que ce classifieur, avec son paramètre alpha égal à 1, avait le meilleure performance, c'est avec celui-ci que nous continueront dans la suite de ce notebook.\n"
   ]
  },
  {
   "cell_type": "markdown",
   "metadata": {},
   "source": [
    "### **<span style=\"color: #DC143C\">B. Campagne de test sur les pré-traitements des données possibles</span>**\n",
    "\n",
    "This step is called the realization of a campaign of experiments: it is the key point that we want to work on in NLP this year.\n",
    "1. It is impossible to test all the combinations in relation to the above proposals... Therefore, we have to eliminate some of them.\n",
    "    - By discussing with the business experts\n",
    "    - By doing preliminary tests\n",
    "1. After this first filtering, we must:\n",
    "    - Choose an evaluation that is reliable and not too slow (cross-validation, leave-one-out, split learning/single test)\n",
    "    - Run large experiments\n",
    "        - = *grid-search\n",
    "        - parallelise on several machines\n",
    "        - know how to run on a server and disconnect\n",
    "1. Collect and analyze results"
   ]
  },
  {
   "cell_type": "code",
   "execution_count": 34,
   "metadata": {},
   "outputs": [],
   "source": [
    "def grid_search(vectorizer, clf, parameters, X_train, y_train):\n",
    "    pipeline = classifier(vectorizer, clf)\n",
    "    params = parameters\n",
    "    \n",
    "    grid = GridSearchCV(pipeline, params, scoring='balanced_accuracy', n_jobs=-1)\n",
    "    grid.fit(X_train, y_train)\n",
    "    \n",
    "    print(grid.best_score_)\n",
    "    print(grid.best_params_)\n",
    "    return grid.cv_results_"
   ]
  },
  {
   "cell_type": "code",
   "execution_count": 32,
   "metadata": {},
   "outputs": [
    {
     "name": "stdout",
     "output_type": "stream",
     "text": [
      "0.7934771611495022\n",
      "{'Data_processing__max_df': 1000, 'Data_processing__min_df': 4, 'Data_processing__ngram_range': (1, 3), 'Data_processing__preprocessor': None, 'Data_processing__stop_words': None}\n"
     ]
    },
    {
     "data": {
      "text/plain": [
       "{'Data_processing__max_df': 1000,\n",
       " 'Data_processing__min_df': 4,\n",
       " 'Data_processing__ngram_range': (1, 3),\n",
       " 'Data_processing__preprocessor': None,\n",
       " 'Data_processing__stop_words': None}"
      ]
     },
     "execution_count": 32,
     "metadata": {},
     "output_type": "execute_result"
    }
   ],
   "source": [
    "parameters = {'Data_processing__stop_words':[None, stopwords],\n",
    "              'Data_processing__preprocessor':[None, stemmer],\n",
    "              'Data_processing__max_df': [500, 1000, 5000],\n",
    "              'Data_processing__min_df': [2, 4, 6],\n",
    "              'Data_processing__ngram_range': [(1, 1), (1, 2), (1, 3)]}\n",
    "\n",
    "clf_nb = MultinomialNB(alpha=1)\n",
    "grid_search(vectorizer, clf_nb, parameters, X_train, y_train)"
   ]
  },
  {
   "cell_type": "code",
   "execution_count": 55,
   "metadata": {},
   "outputs": [
    {
     "ename": "TypeError",
     "evalue": "MultinomialNB.__init__() got an unexpected keyword argument 'random_state'",
     "output_type": "error",
     "traceback": [
      "\u001b[1;31m---------------------------------------------------------------------------\u001b[0m",
      "\u001b[1;31mTypeError\u001b[0m                                 Traceback (most recent call last)",
      "Cell \u001b[1;32mIn[55], line 4\u001b[0m\n\u001b[0;32m      1\u001b[0m parameters \u001b[38;5;241m=\u001b[39m {\u001b[38;5;124m'\u001b[39m\u001b[38;5;124mData_processing__stop_words\u001b[39m\u001b[38;5;124m'\u001b[39m:[\u001b[38;5;28;01mNone\u001b[39;00m, stopwords],\n\u001b[0;32m      2\u001b[0m               \u001b[38;5;124m'\u001b[39m\u001b[38;5;124mData_processing__preprocessor\u001b[39m\u001b[38;5;124m'\u001b[39m:[\u001b[38;5;28;01mNone\u001b[39;00m, stemmer]}\n\u001b[1;32m----> 4\u001b[0m clf_nb \u001b[38;5;241m=\u001b[39m MultinomialNB(alpha\u001b[38;5;241m=\u001b[39m\u001b[38;5;241m1\u001b[39m, random_state\u001b[38;5;241m=\u001b[39m\u001b[38;5;241m42\u001b[39m)\n\u001b[0;32m      5\u001b[0m cv_results \u001b[38;5;241m=\u001b[39m grid_search(vectorizer, clf_nb, parameters, X_train, y_train)\n",
      "\u001b[1;31mTypeError\u001b[0m: MultinomialNB.__init__() got an unexpected keyword argument 'random_state'"
     ]
    }
   ],
   "source": [
    "parameters = {'Data_processing__stop_words':[None, stopwords],\n",
    "              'Data_processing__preprocessor':[None, stemmer]}\n",
    "\n",
    "clf_nb = MultinomialNB(alpha=1)\n",
    "cv_results = grid_search(vectorizer, clf_nb, parameters, X_train, y_train)"
   ]
  },
  {
   "cell_type": "code",
   "execution_count": 56,
   "metadata": {},
   "outputs": [
    {
     "data": {
      "text/html": [
       "<div>\n",
       "<style scoped>\n",
       "    .dataframe tbody tr th:only-of-type {\n",
       "        vertical-align: middle;\n",
       "    }\n",
       "\n",
       "    .dataframe tbody tr th {\n",
       "        vertical-align: top;\n",
       "    }\n",
       "\n",
       "    .dataframe thead th {\n",
       "        text-align: right;\n",
       "    }\n",
       "</style>\n",
       "<table border=\"1\" class=\"dataframe\">\n",
       "  <thead>\n",
       "    <tr style=\"text-align: right;\">\n",
       "      <th></th>\n",
       "      <th>stop_words</th>\n",
       "      <th>preprocessor</th>\n",
       "      <th>mean_balanced_accuracy</th>\n",
       "    </tr>\n",
       "  </thead>\n",
       "  <tbody>\n",
       "    <tr>\n",
       "      <th>0</th>\n",
       "      <td>None</td>\n",
       "      <td>None</td>\n",
       "      <td>0.730485</td>\n",
       "    </tr>\n",
       "    <tr>\n",
       "      <th>1</th>\n",
       "      <td>[a, abord, absolument, afin, ah, ai, aie, aien...</td>\n",
       "      <td>None</td>\n",
       "      <td>0.732096</td>\n",
       "    </tr>\n",
       "    <tr>\n",
       "      <th>2</th>\n",
       "      <td>None</td>\n",
       "      <td>&lt;function stemmer at 0x00000289CE388180&gt;</td>\n",
       "      <td>0.710527</td>\n",
       "    </tr>\n",
       "    <tr>\n",
       "      <th>3</th>\n",
       "      <td>[a, abord, absolument, afin, ah, ai, aie, aien...</td>\n",
       "      <td>&lt;function stemmer at 0x00000289CE388180&gt;</td>\n",
       "      <td>0.735231</td>\n",
       "    </tr>\n",
       "  </tbody>\n",
       "</table>\n",
       "</div>"
      ],
      "text/plain": [
       "                                          stop_words  \\\n",
       "0                                               None   \n",
       "1  [a, abord, absolument, afin, ah, ai, aie, aien...   \n",
       "2                                               None   \n",
       "3  [a, abord, absolument, afin, ah, ai, aie, aien...   \n",
       "\n",
       "                               preprocessor  mean_balanced_accuracy  \n",
       "0                                      None                0.730485  \n",
       "1                                      None                0.732096  \n",
       "2  <function stemmer at 0x00000289CE388180>                0.710527  \n",
       "3  <function stemmer at 0x00000289CE388180>                0.735231  "
      ]
     },
     "execution_count": 56,
     "metadata": {},
     "output_type": "execute_result"
    }
   ],
   "source": [
    "import pandas as pd\n",
    "cv_results = pd.DataFrame(cv_results)\n",
    "results = cv_results[['param_Data_processing__stop_words', 'param_Data_processing__preprocessor', 'mean_test_score']]\n",
    "results.columns = ['stop_words', 'preprocessor', 'mean_balanced_accuracy']\n",
    "results"
   ]
  },
  {
   "cell_type": "code",
   "execution_count": 58,
   "metadata": {},
   "outputs": [
    {
     "name": "stderr",
     "output_type": "stream",
     "text": [
      "c:\\Users\\corne\\anaconda3\\Lib\\site-packages\\sklearn\\feature_extraction\\text.py:408: UserWarning: Your stop_words may be inconsistent with your preprocessing. Tokenizing the stop words generated tokens ['absolu', 'ailleur', 'ains', 'allon', 'alor', 'apre', 'aupr', 'aur', 'aurion', 'auron', 'auss', 'aut', 'autr', 'auxquel', 'avi', 'avion', 'avon', 'ayon', 'base', 'bigr', 'cec', 'cel', 'cepend', 'cert', 'chaqu', 'chich', 'cinqu', 'cinquantain', 'cinquantiem', 'cinquiem', 'comm', 'compar', 'compr', 'concern', 'contr', 'dan', 'dedan', 'dehor', 'dej', 'derni', 'derri', 'derrier', 'desorm', 'desquel', 'deuxiem', 'dev', 'dever', 'devr', 'dir', 'direct', 'diver', 'dixiem', 'douz', 'douziem', 'droit', 'dur', 'désorm', 'egal', 'encor', 'enver', 'euss', 'eussion', 'exact', 'except', 'eûm', 'forc', 'fuss', 'fussion', 'fûm', 'gen', 'hel', 'hor', 'horm', 'hu', 'huitiem', 'import', 'just', 'laiss', 'laquel', 'lesquel', 'longtemp', 'lor', 'lorsqu', 'mainten', 'malgr', 'maximal', 'mem', 'merc', 'mill', 'min', 'minc', 'minimal', 'moin', 'moindr', 'moyen', 'multipl', 'mêm', 'neanmoin', 'necessair', 'neuviem', 'nomm', 'not', 'notr', 'néanmoin', 'nôtr', 'onziem', 'oui', 'outr', 'parc', 'parl', 'parm', 'parol', 'parsem', 'part', 'particuli', 'pass', 'pend', 'pens', 'person', 'piec', 'pir', 'plusieur', 'possess', 'possibl', 'pourr', 'pouv', 'pre', 'prealabl', 'precis', 'premi', 'prob', 'probabl', 'proced', 'proch', 'puisqu', 'quar', 'quatorz', 'quatr', 'quatriem', 'quelconqu', 'quelqu', 'quiconqu', 'quinz', 'quoiqu', 'rar', 'relat', 'remarqu', 'rendr', 'rest', 'restrict', 'revoic', 'san', 'saprist', 'seiz', 'sembl', 'semblabl', 'septiem', 'ser', 'serion', 'seron', 'sixiem', 'soix', 'somm', 'soyon', 'specif', 'specul', 'strict', 'subtil', 'suff', 'suffis', 'suiv', 'suivr', 'superpos', 'tand', 'tardiv', 'ten', 'tent', 'touch', 'toujour', 'tre', 'treiz', 'trent', 'troisiem', 'uniform', 'uniqu', 'ver', 'vi', 'viv', 'voi', 'voic', 'voir', 'votr', 'vôtr', 'éti', 'étion', 'ête'] not in stop_words.\n",
      "  warnings.warn(\n"
     ]
    },
    {
     "name": "stdout",
     "output_type": "stream",
     "text": [
      "0.7539746200855444\n",
      "{'Data_processing__max_df': 5000, 'Data_processing__min_df': 4, 'Data_processing__ngram_range': (1, 2), 'Data_processing__preprocessor': <function stemmer at 0x00000289CE388180>, 'Data_processing__stop_words': ['a', 'abord', 'absolument', 'afin', 'ah', 'ai', 'aie', 'aient', 'aies', 'ailleurs', 'ainsi', 'ait', 'allaient', 'allo', 'allons', 'allô', 'alors', 'anterieur', 'anterieure', 'anterieures', 'apres', 'après', 'as', 'assez', 'attendu', 'au', 'aucun', 'aucune', 'aucuns', 'aujourd', \"aujourd'hui\", 'aupres', 'auquel', 'aura', 'aurai', 'auraient', 'aurais', 'aurait', 'auras', 'aurez', 'auriez', 'aurions', 'aurons', 'auront', 'aussi', 'autant', 'autre', 'autrefois', 'autrement', 'autres', 'autrui', 'aux', 'auxquelles', 'auxquels', 'avaient', 'avais', 'avait', 'avant', 'avec', 'avez', 'aviez', 'avions', 'avoir', 'avons', 'ayant', 'ayez', 'ayons', 'b', 'bah', 'bas', 'basee', 'bat', 'beau', 'beaucoup', 'bien', 'bigre', 'bon', 'boum', 'bravo', 'brrr', 'c', 'car', 'ce', 'ceci', 'cela', 'celle', 'celle-ci', 'celle-là', 'celles', 'celles-ci', 'celles-là', 'celui', 'celui-ci', 'celui-là', 'celà', 'cent', 'cependant', 'certain', 'certaine', 'certaines', 'certains', 'certes', 'ces', 'cet', 'cette', 'ceux', 'ceux-ci', 'ceux-là', 'chacun', 'chacune', 'chaque', 'cher', 'chers', 'chez', 'chiche', 'chut', 'chère', 'chères', 'ci', 'cinq', 'cinquantaine', 'cinquante', 'cinquantième', 'cinquième', 'clac', 'clic', 'combien', 'comme', 'comment', 'comparable', 'comparables', 'compris', 'concernant', 'contre', 'couic', 'crac', 'd', 'da', 'dans', 'de', 'debout', 'dedans', 'dehors', 'deja', 'delà', 'depuis', 'dernier', 'derniere', 'derriere', 'derrière', 'des', 'desormais', 'desquelles', 'desquels', 'dessous', 'dessus', 'deux', 'deuxième', 'deuxièmement', 'devant', 'devers', 'devra', 'devrait', 'different', 'differentes', 'differents', 'différent', 'différente', 'différentes', 'différents', 'dire', 'directe', 'directement', 'dit', 'dite', 'dits', 'divers', 'diverse', 'diverses', 'dix', 'dix-huit', 'dix-neuf', 'dix-sept', 'dixième', 'doit', 'doivent', 'donc', 'dont', 'dos', 'douze', 'douzième', 'dring', 'droite', 'du', 'duquel', 'durant', 'dès', 'début', 'désormais', 'e', 'effet', 'egale', 'egalement', 'egales', 'eh', 'elle', 'elle-même', 'elles', 'elles-mêmes', 'en', 'encore', 'enfin', 'entre', 'envers', 'environ', 'es', 'essai', 'est', 'et', 'etant', 'etc', 'etre', 'eu', 'eue', 'eues', 'euh', 'eurent', 'eus', 'eusse', 'eussent', 'eusses', 'eussiez', 'eussions', 'eut', 'eux', 'eux-mêmes', 'exactement', 'excepté', 'extenso', 'exterieur', 'eûmes', 'eût', 'eûtes', 'f', 'fais', 'faisaient', 'faisant', 'fait', 'faites', 'façon', 'feront', 'fi', 'flac', 'floc', 'fois', 'font', 'force', 'furent', 'fus', 'fusse', 'fussent', 'fusses', 'fussiez', 'fussions', 'fut', 'fûmes', 'fût', 'fûtes', 'g', 'gens', 'h', 'ha', 'haut', 'hein', 'hem', 'hep', 'hi', 'ho', 'holà', 'hop', 'hormis', 'hors', 'hou', 'houp', 'hue', 'hui', 'huit', 'huitième', 'hum', 'hurrah', 'hé', 'hélas', 'i', 'ici', 'il', 'ils', 'importe', 'j', 'je', 'jusqu', 'jusque', 'juste', 'k', 'l', 'la', 'laisser', 'laquelle', 'las', 'le', 'lequel', 'les', 'lesquelles', 'lesquels', 'leur', 'leurs', 'longtemps', 'lors', 'lorsque', 'lui', 'lui-meme', 'lui-même', 'là', 'lès', 'm', 'ma', 'maint', 'maintenant', 'mais', 'malgre', 'malgré', 'maximale', 'me', 'meme', 'memes', 'merci', 'mes', 'mien', 'mienne', 'miennes', 'miens', 'mille', 'mince', 'mine', 'minimale', 'moi', 'moi-meme', 'moi-même', 'moindres', 'moins', 'mon', 'mot', 'moyennant', 'multiple', 'multiples', 'même', 'mêmes', 'n', 'na', 'naturel', 'naturelle', 'naturelles', 'ne', 'neanmoins', 'necessaire', 'necessairement', 'neuf', 'neuvième', 'ni', 'nombreuses', 'nombreux', 'nommés', 'non', 'nos', 'notamment', 'notre', 'nous', 'nous-mêmes', 'nouveau', 'nouveaux', 'nul', 'néanmoins', 'nôtre', 'nôtres', 'o', 'oh', 'ohé', 'ollé', 'olé', 'on', 'ont', 'onze', 'onzième', 'ore', 'ou', 'ouf', 'ouias', 'oust', 'ouste', 'outre', 'ouvert', 'ouverte', 'ouverts', 'o|', 'où', 'p', 'paf', 'pan', 'par', 'parce', 'parfois', 'parle', 'parlent', 'parler', 'parmi', 'parole', 'parseme', 'partant', 'particulier', 'particulière', 'particulièrement', 'pas', 'passé', 'pendant', 'pense', 'permet', 'personne', 'personnes', 'peu', 'peut', 'peuvent', 'peux', 'pff', 'pfft', 'pfut', 'pif', 'pire', 'pièce', 'plein', 'plouf', 'plupart', 'plus', 'plusieurs', 'plutôt', 'possessif', 'possessifs', 'possible', 'possibles', 'pouah', 'pour', 'pourquoi', 'pourrais', 'pourrait', 'pouvait', 'prealable', 'precisement', 'premier', 'première', 'premièrement', 'pres', 'probable', 'probante', 'procedant', 'proche', 'près', 'psitt', 'pu', 'puis', 'puisque', 'pur', 'pure', 'q', 'qu', 'quand', 'quant', 'quant-à-soi', 'quanta', 'quarante', 'quatorze', 'quatre', 'quatre-vingt', 'quatrième', 'quatrièmement', 'que', 'quel', 'quelconque', 'quelle', 'quelles', \"quelqu'un\", 'quelque', 'quelques', 'quels', 'qui', 'quiconque', 'quinze', 'quoi', 'quoique', 'r', 'rare', 'rarement', 'rares', 'relative', 'relativement', 'remarquable', 'rend', 'rendre', 'restant', 'reste', 'restent', 'restrictif', 'retour', 'revoici', 'revoilà', 'rien', 's', 'sa', 'sacrebleu', 'sait', 'sans', 'sapristi', 'sauf', 'se', 'sein', 'seize', 'selon', 'semblable', 'semblaient', 'semble', 'semblent', 'sent', 'sept', 'septième', 'sera', 'serai', 'seraient', 'serais', 'serait', 'seras', 'serez', 'seriez', 'serions', 'serons', 'seront', 'ses', 'seul', 'seule', 'seulement', 'si', 'sien', 'sienne', 'siennes', 'siens', 'sinon', 'six', 'sixième', 'soi', 'soi-même', 'soient', 'sois', 'soit', 'soixante', 'sommes', 'son', 'sont', 'sous', 'souvent', 'soyez', 'soyons', 'specifique', 'specifiques', 'speculatif', 'stop', 'strictement', 'subtiles', 'suffisant', 'suffisante', 'suffit', 'suis', 'suit', 'suivant', 'suivante', 'suivantes', 'suivants', 'suivre', 'sujet', 'superpose', 'sur', 'surtout', 't', 'ta', 'tac', 'tandis', 'tant', 'tardive', 'te', 'tel', 'telle', 'tellement', 'telles', 'tels', 'tenant', 'tend', 'tenir', 'tente', 'tes', 'tic', 'tien', 'tienne', 'tiennes', 'tiens', 'toc', 'toi', 'toi-même', 'ton', 'touchant', 'toujours', 'tous', 'tout', 'toute', 'toutefois', 'toutes', 'treize', 'trente', 'tres', 'trois', 'troisième', 'troisièmement', 'trop', 'très', 'tsoin', 'tsouin', 'tu', 'té', 'u', 'un', 'une', 'unes', 'uniformement', 'unique', 'uniques', 'uns', 'v', 'va', 'vais', 'valeur', 'vas', 'vers', 'via', 'vif', 'vifs', 'vingt', 'vivat', 'vive', 'vives', 'vlan', 'voici', 'voie', 'voient', 'voilà', 'voire', 'vont', 'vos', 'votre', 'vous', 'vous-mêmes', 'vu', 'vé', 'vôtre', 'vôtres', 'w', 'x', 'y', 'z', 'zut', 'à', 'â', 'ça', 'ès', 'étaient', 'étais', 'était', 'étant', 'état', 'étiez', 'étions', 'été', 'étée', 'étées', 'étés', 'êtes', 'être', 'ô']}\n"
     ]
    }
   ],
   "source": [
    "parameters = {'Data_processing__stop_words':[stopwords],\n",
    "              'Data_processing__preprocessor':[stemmer],\n",
    "              'Data_processing__max_df': [500, 1000, 5000],\n",
    "              'Data_processing__min_df': [2, 4, 6],\n",
    "              'Data_processing__ngram_range': [(1, 1), (1, 2), (1, 3)]}\n",
    "\n",
    "clf_nb = MultinomialNB(alpha=1)\n",
    "cv_results = grid_search(vectorizer, clf_nb, parameters, X_train, y_train)"
   ]
  },
  {
   "cell_type": "code",
   "execution_count": 66,
   "metadata": {},
   "outputs": [
    {
     "data": {
      "text/html": [
       "<div>\n",
       "<style scoped>\n",
       "    .dataframe tbody tr th:only-of-type {\n",
       "        vertical-align: middle;\n",
       "    }\n",
       "\n",
       "    .dataframe tbody tr th {\n",
       "        vertical-align: top;\n",
       "    }\n",
       "\n",
       "    .dataframe thead th {\n",
       "        text-align: right;\n",
       "    }\n",
       "</style>\n",
       "<table border=\"1\" class=\"dataframe\">\n",
       "  <thead>\n",
       "    <tr style=\"text-align: right;\">\n",
       "      <th></th>\n",
       "      <th>max_df</th>\n",
       "      <th>min_df</th>\n",
       "      <th>ngram_range</th>\n",
       "      <th>mean_balanced_accuracy</th>\n",
       "    </tr>\n",
       "  </thead>\n",
       "  <tbody>\n",
       "    <tr>\n",
       "      <th>0</th>\n",
       "      <td>500</td>\n",
       "      <td>2</td>\n",
       "      <td>(1, 1)</td>\n",
       "      <td>0.733126</td>\n",
       "    </tr>\n",
       "    <tr>\n",
       "      <th>1</th>\n",
       "      <td>500</td>\n",
       "      <td>2</td>\n",
       "      <td>(1, 2)</td>\n",
       "      <td>0.733040</td>\n",
       "    </tr>\n",
       "    <tr>\n",
       "      <th>2</th>\n",
       "      <td>500</td>\n",
       "      <td>2</td>\n",
       "      <td>(1, 3)</td>\n",
       "      <td>0.729898</td>\n",
       "    </tr>\n",
       "    <tr>\n",
       "      <th>3</th>\n",
       "      <td>500</td>\n",
       "      <td>4</td>\n",
       "      <td>(1, 1)</td>\n",
       "      <td>0.731689</td>\n",
       "    </tr>\n",
       "    <tr>\n",
       "      <th>4</th>\n",
       "      <td>500</td>\n",
       "      <td>4</td>\n",
       "      <td>(1, 2)</td>\n",
       "      <td>0.746645</td>\n",
       "    </tr>\n",
       "    <tr>\n",
       "      <th>5</th>\n",
       "      <td>500</td>\n",
       "      <td>4</td>\n",
       "      <td>(1, 3)</td>\n",
       "      <td>0.747491</td>\n",
       "    </tr>\n",
       "    <tr>\n",
       "      <th>6</th>\n",
       "      <td>500</td>\n",
       "      <td>6</td>\n",
       "      <td>(1, 1)</td>\n",
       "      <td>0.728813</td>\n",
       "    </tr>\n",
       "    <tr>\n",
       "      <th>7</th>\n",
       "      <td>500</td>\n",
       "      <td>6</td>\n",
       "      <td>(1, 2)</td>\n",
       "      <td>0.743766</td>\n",
       "    </tr>\n",
       "    <tr>\n",
       "      <th>8</th>\n",
       "      <td>500</td>\n",
       "      <td>6</td>\n",
       "      <td>(1, 3)</td>\n",
       "      <td>0.743588</td>\n",
       "    </tr>\n",
       "    <tr>\n",
       "      <th>9</th>\n",
       "      <td>1000</td>\n",
       "      <td>2</td>\n",
       "      <td>(1, 1)</td>\n",
       "      <td>0.743205</td>\n",
       "    </tr>\n",
       "    <tr>\n",
       "      <th>10</th>\n",
       "      <td>1000</td>\n",
       "      <td>2</td>\n",
       "      <td>(1, 2)</td>\n",
       "      <td>0.736583</td>\n",
       "    </tr>\n",
       "    <tr>\n",
       "      <th>11</th>\n",
       "      <td>1000</td>\n",
       "      <td>2</td>\n",
       "      <td>(1, 3)</td>\n",
       "      <td>0.735035</td>\n",
       "    </tr>\n",
       "    <tr>\n",
       "      <th>12</th>\n",
       "      <td>1000</td>\n",
       "      <td>4</td>\n",
       "      <td>(1, 1)</td>\n",
       "      <td>0.743026</td>\n",
       "    </tr>\n",
       "    <tr>\n",
       "      <th>13</th>\n",
       "      <td>1000</td>\n",
       "      <td>4</td>\n",
       "      <td>(1, 2)</td>\n",
       "      <td>0.752279</td>\n",
       "    </tr>\n",
       "    <tr>\n",
       "      <th>14</th>\n",
       "      <td>1000</td>\n",
       "      <td>4</td>\n",
       "      <td>(1, 3)</td>\n",
       "      <td>0.752239</td>\n",
       "    </tr>\n",
       "    <tr>\n",
       "      <th>15</th>\n",
       "      <td>1000</td>\n",
       "      <td>6</td>\n",
       "      <td>(1, 1)</td>\n",
       "      <td>0.739067</td>\n",
       "    </tr>\n",
       "    <tr>\n",
       "      <th>16</th>\n",
       "      <td>1000</td>\n",
       "      <td>6</td>\n",
       "      <td>(1, 2)</td>\n",
       "      <td>0.750505</td>\n",
       "    </tr>\n",
       "    <tr>\n",
       "      <th>17</th>\n",
       "      <td>1000</td>\n",
       "      <td>6</td>\n",
       "      <td>(1, 3)</td>\n",
       "      <td>0.751390</td>\n",
       "    </tr>\n",
       "    <tr>\n",
       "      <th>18</th>\n",
       "      <td>5000</td>\n",
       "      <td>2</td>\n",
       "      <td>(1, 1)</td>\n",
       "      <td>0.745132</td>\n",
       "    </tr>\n",
       "    <tr>\n",
       "      <th>19</th>\n",
       "      <td>5000</td>\n",
       "      <td>2</td>\n",
       "      <td>(1, 2)</td>\n",
       "      <td>0.739767</td>\n",
       "    </tr>\n",
       "    <tr>\n",
       "      <th>20</th>\n",
       "      <td>5000</td>\n",
       "      <td>2</td>\n",
       "      <td>(1, 3)</td>\n",
       "      <td>0.738407</td>\n",
       "    </tr>\n",
       "    <tr>\n",
       "      <th>21</th>\n",
       "      <td>5000</td>\n",
       "      <td>4</td>\n",
       "      <td>(1, 1)</td>\n",
       "      <td>0.745376</td>\n",
       "    </tr>\n",
       "    <tr>\n",
       "      <th>22</th>\n",
       "      <td>5000</td>\n",
       "      <td>4</td>\n",
       "      <td>(1, 2)</td>\n",
       "      <td>0.753975</td>\n",
       "    </tr>\n",
       "    <tr>\n",
       "      <th>23</th>\n",
       "      <td>5000</td>\n",
       "      <td>4</td>\n",
       "      <td>(1, 3)</td>\n",
       "      <td>0.753346</td>\n",
       "    </tr>\n",
       "    <tr>\n",
       "      <th>24</th>\n",
       "      <td>5000</td>\n",
       "      <td>6</td>\n",
       "      <td>(1, 1)</td>\n",
       "      <td>0.742588</td>\n",
       "    </tr>\n",
       "    <tr>\n",
       "      <th>25</th>\n",
       "      <td>5000</td>\n",
       "      <td>6</td>\n",
       "      <td>(1, 2)</td>\n",
       "      <td>0.750791</td>\n",
       "    </tr>\n",
       "    <tr>\n",
       "      <th>26</th>\n",
       "      <td>5000</td>\n",
       "      <td>6</td>\n",
       "      <td>(1, 3)</td>\n",
       "      <td>0.750776</td>\n",
       "    </tr>\n",
       "  </tbody>\n",
       "</table>\n",
       "</div>"
      ],
      "text/plain": [
       "   max_df min_df ngram_range  mean_balanced_accuracy\n",
       "0     500      2      (1, 1)                0.733126\n",
       "1     500      2      (1, 2)                0.733040\n",
       "2     500      2      (1, 3)                0.729898\n",
       "3     500      4      (1, 1)                0.731689\n",
       "4     500      4      (1, 2)                0.746645\n",
       "5     500      4      (1, 3)                0.747491\n",
       "6     500      6      (1, 1)                0.728813\n",
       "7     500      6      (1, 2)                0.743766\n",
       "8     500      6      (1, 3)                0.743588\n",
       "9    1000      2      (1, 1)                0.743205\n",
       "10   1000      2      (1, 2)                0.736583\n",
       "11   1000      2      (1, 3)                0.735035\n",
       "12   1000      4      (1, 1)                0.743026\n",
       "13   1000      4      (1, 2)                0.752279\n",
       "14   1000      4      (1, 3)                0.752239\n",
       "15   1000      6      (1, 1)                0.739067\n",
       "16   1000      6      (1, 2)                0.750505\n",
       "17   1000      6      (1, 3)                0.751390\n",
       "18   5000      2      (1, 1)                0.745132\n",
       "19   5000      2      (1, 2)                0.739767\n",
       "20   5000      2      (1, 3)                0.738407\n",
       "21   5000      4      (1, 1)                0.745376\n",
       "22   5000      4      (1, 2)                0.753975\n",
       "23   5000      4      (1, 3)                0.753346\n",
       "24   5000      6      (1, 1)                0.742588\n",
       "25   5000      6      (1, 2)                0.750791\n",
       "26   5000      6      (1, 3)                0.750776"
      ]
     },
     "execution_count": 66,
     "metadata": {},
     "output_type": "execute_result"
    }
   ],
   "source": [
    "cv_results = pd.DataFrame(cv_results)\n",
    "results = cv_results[['param_Data_processing__max_df', 'param_Data_processing__min_df', 'param_Data_processing__ngram_range', 'mean_test_score']]\n",
    "results.columns = ['max_df', 'min_df', 'ngram_range', 'mean_balanced_accuracy']\n",
    "results"
   ]
  },
  {
   "cell_type": "code",
   "execution_count": 69,
   "metadata": {},
   "outputs": [
    {
     "ename": "AttributeError",
     "evalue": "'Series' object has no attribute 'pivot'",
     "output_type": "error",
     "traceback": [
      "\u001b[1;31m---------------------------------------------------------------------------\u001b[0m",
      "\u001b[1;31mAttributeError\u001b[0m                            Traceback (most recent call last)",
      "Cell \u001b[1;32mIn[69], line 6\u001b[0m\n\u001b[0;32m      4\u001b[0m \u001b[38;5;66;03m# Supposons que votre DataFrame s'appelle df\u001b[39;00m\n\u001b[0;32m      5\u001b[0m results \u001b[38;5;241m=\u001b[39m results[\u001b[38;5;124m'\u001b[39m\u001b[38;5;124mngram_range\u001b[39m\u001b[38;5;124m'\u001b[39m] \u001b[38;5;241m==\u001b[39m (\u001b[38;5;241m1\u001b[39m, \u001b[38;5;241m1\u001b[39m)\n\u001b[1;32m----> 6\u001b[0m pivot_table \u001b[38;5;241m=\u001b[39m results\u001b[38;5;241m.\u001b[39mpivot(index\u001b[38;5;241m=\u001b[39m\u001b[38;5;124m'\u001b[39m\u001b[38;5;124mmin_df\u001b[39m\u001b[38;5;124m'\u001b[39m, columns\u001b[38;5;241m=\u001b[39m\u001b[38;5;124m'\u001b[39m\u001b[38;5;124mmax_df\u001b[39m\u001b[38;5;124m'\u001b[39m, values\u001b[38;5;241m=\u001b[39m\u001b[38;5;124m'\u001b[39m\u001b[38;5;124mmean_balanced_accuracy\u001b[39m\u001b[38;5;124m'\u001b[39m)\n\u001b[0;32m      8\u001b[0m plt\u001b[38;5;241m.\u001b[39mfigure(figsize\u001b[38;5;241m=\u001b[39m(\u001b[38;5;241m10\u001b[39m, \u001b[38;5;241m7\u001b[39m))\n\u001b[0;32m      9\u001b[0m sns\u001b[38;5;241m.\u001b[39mheatmap(pivot_table, annot\u001b[38;5;241m=\u001b[39m\u001b[38;5;28;01mTrue\u001b[39;00m, cmap\u001b[38;5;241m=\u001b[39m\u001b[38;5;124m\"\u001b[39m\u001b[38;5;124mYlGnBu\u001b[39m\u001b[38;5;124m\"\u001b[39m)\n",
      "File \u001b[1;32mc:\\Users\\corne\\anaconda3\\Lib\\site-packages\\pandas\\core\\generic.py:5902\u001b[0m, in \u001b[0;36mNDFrame.__getattr__\u001b[1;34m(self, name)\u001b[0m\n\u001b[0;32m   5895\u001b[0m \u001b[38;5;28;01mif\u001b[39;00m (\n\u001b[0;32m   5896\u001b[0m     name \u001b[38;5;129;01mnot\u001b[39;00m \u001b[38;5;129;01min\u001b[39;00m \u001b[38;5;28mself\u001b[39m\u001b[38;5;241m.\u001b[39m_internal_names_set\n\u001b[0;32m   5897\u001b[0m     \u001b[38;5;129;01mand\u001b[39;00m name \u001b[38;5;129;01mnot\u001b[39;00m \u001b[38;5;129;01min\u001b[39;00m \u001b[38;5;28mself\u001b[39m\u001b[38;5;241m.\u001b[39m_metadata\n\u001b[0;32m   5898\u001b[0m     \u001b[38;5;129;01mand\u001b[39;00m name \u001b[38;5;129;01mnot\u001b[39;00m \u001b[38;5;129;01min\u001b[39;00m \u001b[38;5;28mself\u001b[39m\u001b[38;5;241m.\u001b[39m_accessors\n\u001b[0;32m   5899\u001b[0m     \u001b[38;5;129;01mand\u001b[39;00m \u001b[38;5;28mself\u001b[39m\u001b[38;5;241m.\u001b[39m_info_axis\u001b[38;5;241m.\u001b[39m_can_hold_identifiers_and_holds_name(name)\n\u001b[0;32m   5900\u001b[0m ):\n\u001b[0;32m   5901\u001b[0m     \u001b[38;5;28;01mreturn\u001b[39;00m \u001b[38;5;28mself\u001b[39m[name]\n\u001b[1;32m-> 5902\u001b[0m \u001b[38;5;28;01mreturn\u001b[39;00m \u001b[38;5;28mobject\u001b[39m\u001b[38;5;241m.\u001b[39m\u001b[38;5;21m__getattribute__\u001b[39m(\u001b[38;5;28mself\u001b[39m, name)\n",
      "\u001b[1;31mAttributeError\u001b[0m: 'Series' object has no attribute 'pivot'"
     ]
    }
   ],
   "source": [
    "import seaborn as sns\n",
    "import matplotlib.pyplot as plt\n",
    "\n",
    "# Supposons que votre DataFrame s'appelle df\n",
    "results = results['ngram_range'] == (1, 1)\n",
    "pivot_table = results.pivot(index='min_df', columns='max_df', values='mean_balanced_accuracy')\n",
    "\n",
    "plt.figure(figsize=(10, 7))\n",
    "sns.heatmap(pivot_table, annot=True, cmap=\"YlGnBu\")\n",
    "plt.title(\"Score en fonction de max_df et min_df\")\n",
    "plt.xlabel(\"max_df\")\n",
    "plt.ylabel(\"min_df\")\n",
    "plt.show()"
   ]
  },
  {
   "cell_type": "code",
   "execution_count": 70,
   "metadata": {},
   "outputs": [
    {
     "data": {
      "text/plain": [
       "0      True\n",
       "1     False\n",
       "2     False\n",
       "3      True\n",
       "4     False\n",
       "5     False\n",
       "6      True\n",
       "7     False\n",
       "8     False\n",
       "9      True\n",
       "10    False\n",
       "11    False\n",
       "12     True\n",
       "13    False\n",
       "14    False\n",
       "15     True\n",
       "16    False\n",
       "17    False\n",
       "18     True\n",
       "19    False\n",
       "20    False\n",
       "21     True\n",
       "22    False\n",
       "23    False\n",
       "24     True\n",
       "25    False\n",
       "26    False\n",
       "Name: ngram_range, dtype: bool"
      ]
     },
     "execution_count": 70,
     "metadata": {},
     "output_type": "execute_result"
    }
   ],
   "source": [
    "results"
   ]
  },
  {
   "cell_type": "markdown",
   "metadata": {},
   "source": [
    "## **<span style=\"color: #40E0D0\">3. Application des résultats aux données de test</span>**\n",
    "\n",
    "### **<span style=\"color: #DC143C\">A. Modèle final</span>**"
   ]
  },
  {
   "cell_type": "code",
   "execution_count": 61,
   "metadata": {},
   "outputs": [
    {
     "name": "stderr",
     "output_type": "stream",
     "text": [
      "c:\\Users\\corne\\anaconda3\\Lib\\site-packages\\sklearn\\feature_extraction\\text.py:408: UserWarning: Your stop_words may be inconsistent with your preprocessing. Tokenizing the stop words generated tokens ['absolu', 'ailleur', 'ains', 'allon', 'alor', 'apre', 'aupr', 'aur', 'aurion', 'auron', 'auss', 'aut', 'autr', 'auxquel', 'avi', 'avion', 'avon', 'ayon', 'base', 'bigr', 'cec', 'cel', 'cepend', 'cert', 'chaqu', 'chich', 'cinqu', 'cinquantain', 'cinquantiem', 'cinquiem', 'comm', 'compar', 'compr', 'concern', 'contr', 'dan', 'dedan', 'dehor', 'dej', 'derni', 'derri', 'derrier', 'desorm', 'desquel', 'deuxiem', 'dev', 'dever', 'devr', 'dir', 'direct', 'diver', 'dixiem', 'douz', 'douziem', 'droit', 'dur', 'désorm', 'egal', 'encor', 'enver', 'euss', 'eussion', 'exact', 'except', 'eûm', 'forc', 'fuss', 'fussion', 'fûm', 'gen', 'hel', 'hor', 'horm', 'hu', 'huitiem', 'import', 'just', 'laiss', 'laquel', 'lesquel', 'longtemp', 'lor', 'lorsqu', 'mainten', 'malgr', 'maximal', 'mem', 'merc', 'mill', 'min', 'minc', 'minimal', 'moin', 'moindr', 'moyen', 'multipl', 'mêm', 'neanmoin', 'necessair', 'neuviem', 'nomm', 'not', 'notr', 'néanmoin', 'nôtr', 'onziem', 'oui', 'outr', 'parc', 'parl', 'parm', 'parol', 'parsem', 'part', 'particuli', 'pass', 'pend', 'pens', 'person', 'piec', 'pir', 'plusieur', 'possess', 'possibl', 'pourr', 'pouv', 'pre', 'prealabl', 'precis', 'premi', 'prob', 'probabl', 'proced', 'proch', 'puisqu', 'quar', 'quatorz', 'quatr', 'quatriem', 'quelconqu', 'quelqu', 'quiconqu', 'quinz', 'quoiqu', 'rar', 'relat', 'remarqu', 'rendr', 'rest', 'restrict', 'revoic', 'san', 'saprist', 'seiz', 'sembl', 'semblabl', 'septiem', 'ser', 'serion', 'seron', 'sixiem', 'soix', 'somm', 'soyon', 'specif', 'specul', 'strict', 'subtil', 'suff', 'suffis', 'suiv', 'suivr', 'superpos', 'tand', 'tardiv', 'ten', 'tent', 'touch', 'toujour', 'tre', 'treiz', 'trent', 'troisiem', 'uniform', 'uniqu', 'ver', 'vi', 'viv', 'voi', 'voic', 'voir', 'votr', 'vôtr', 'éti', 'étion', 'ête'] not in stop_words.\n",
      "  warnings.warn(\n"
     ]
    },
    {
     "data": {
      "text/html": [
       "<style>#sk-container-id-1 {color: black;}#sk-container-id-1 pre{padding: 0;}#sk-container-id-1 div.sk-toggleable {background-color: white;}#sk-container-id-1 label.sk-toggleable__label {cursor: pointer;display: block;width: 100%;margin-bottom: 0;padding: 0.3em;box-sizing: border-box;text-align: center;}#sk-container-id-1 label.sk-toggleable__label-arrow:before {content: \"▸\";float: left;margin-right: 0.25em;color: #696969;}#sk-container-id-1 label.sk-toggleable__label-arrow:hover:before {color: black;}#sk-container-id-1 div.sk-estimator:hover label.sk-toggleable__label-arrow:before {color: black;}#sk-container-id-1 div.sk-toggleable__content {max-height: 0;max-width: 0;overflow: hidden;text-align: left;background-color: #f0f8ff;}#sk-container-id-1 div.sk-toggleable__content pre {margin: 0.2em;color: black;border-radius: 0.25em;background-color: #f0f8ff;}#sk-container-id-1 input.sk-toggleable__control:checked~div.sk-toggleable__content {max-height: 200px;max-width: 100%;overflow: auto;}#sk-container-id-1 input.sk-toggleable__control:checked~label.sk-toggleable__label-arrow:before {content: \"▾\";}#sk-container-id-1 div.sk-estimator input.sk-toggleable__control:checked~label.sk-toggleable__label {background-color: #d4ebff;}#sk-container-id-1 div.sk-label input.sk-toggleable__control:checked~label.sk-toggleable__label {background-color: #d4ebff;}#sk-container-id-1 input.sk-hidden--visually {border: 0;clip: rect(1px 1px 1px 1px);clip: rect(1px, 1px, 1px, 1px);height: 1px;margin: -1px;overflow: hidden;padding: 0;position: absolute;width: 1px;}#sk-container-id-1 div.sk-estimator {font-family: monospace;background-color: #f0f8ff;border: 1px dotted black;border-radius: 0.25em;box-sizing: border-box;margin-bottom: 0.5em;}#sk-container-id-1 div.sk-estimator:hover {background-color: #d4ebff;}#sk-container-id-1 div.sk-parallel-item::after {content: \"\";width: 100%;border-bottom: 1px solid gray;flex-grow: 1;}#sk-container-id-1 div.sk-label:hover label.sk-toggleable__label {background-color: #d4ebff;}#sk-container-id-1 div.sk-serial::before {content: \"\";position: absolute;border-left: 1px solid gray;box-sizing: border-box;top: 0;bottom: 0;left: 50%;z-index: 0;}#sk-container-id-1 div.sk-serial {display: flex;flex-direction: column;align-items: center;background-color: white;padding-right: 0.2em;padding-left: 0.2em;position: relative;}#sk-container-id-1 div.sk-item {position: relative;z-index: 1;}#sk-container-id-1 div.sk-parallel {display: flex;align-items: stretch;justify-content: center;background-color: white;position: relative;}#sk-container-id-1 div.sk-item::before, #sk-container-id-1 div.sk-parallel-item::before {content: \"\";position: absolute;border-left: 1px solid gray;box-sizing: border-box;top: 0;bottom: 0;left: 50%;z-index: -1;}#sk-container-id-1 div.sk-parallel-item {display: flex;flex-direction: column;z-index: 1;position: relative;background-color: white;}#sk-container-id-1 div.sk-parallel-item:first-child::after {align-self: flex-end;width: 50%;}#sk-container-id-1 div.sk-parallel-item:last-child::after {align-self: flex-start;width: 50%;}#sk-container-id-1 div.sk-parallel-item:only-child::after {width: 0;}#sk-container-id-1 div.sk-dashed-wrapped {border: 1px dashed gray;margin: 0 0.4em 0.5em 0.4em;box-sizing: border-box;padding-bottom: 0.4em;background-color: white;}#sk-container-id-1 div.sk-label label {font-family: monospace;font-weight: bold;display: inline-block;line-height: 1.2em;}#sk-container-id-1 div.sk-label-container {text-align: center;}#sk-container-id-1 div.sk-container {/* jupyter's `normalize.less` sets `[hidden] { display: none; }` but bootstrap.min.css set `[hidden] { display: none !important; }` so we also need the `!important` here to be able to override the default hidden behavior on the sphinx rendered scikit-learn.org. See: https://github.com/scikit-learn/scikit-learn/issues/21755 */display: inline-block !important;position: relative;}#sk-container-id-1 div.sk-text-repr-fallback {display: none;}</style><div id=\"sk-container-id-1\" class=\"sk-top-container\"><div class=\"sk-text-repr-fallback\"><pre>MultinomialNB(alpha=1)</pre><b>In a Jupyter environment, please rerun this cell to show the HTML representation or trust the notebook. <br />On GitHub, the HTML representation is unable to render, please try loading this page with nbviewer.org.</b></div><div class=\"sk-container\" hidden><div class=\"sk-item\"><div class=\"sk-estimator sk-toggleable\"><input class=\"sk-toggleable__control sk-hidden--visually\" id=\"sk-estimator-id-1\" type=\"checkbox\" checked><label for=\"sk-estimator-id-1\" class=\"sk-toggleable__label sk-toggleable__label-arrow\">MultinomialNB</label><div class=\"sk-toggleable__content\"><pre>MultinomialNB(alpha=1)</pre></div></div></div></div></div>"
      ],
      "text/plain": [
       "MultinomialNB(alpha=1)"
      ]
     },
     "execution_count": 61,
     "metadata": {},
     "output_type": "execute_result"
    }
   ],
   "source": [
    "vectorizer = CountVectorizer(\n",
    "    strip_accents='ascii', # enlève les accents\n",
    "    lowercase=True,        # mets en minuscule\n",
    "    stop_words=stopwords,  # enlève les mots vides\n",
    "    preprocessor=stemmer,  # applique la fonction stemmer\n",
    "    max_df=1000,           # nombre max de fois où un mot doit apparaître pour être pris en compte\n",
    "    min_df=4,              # nombre min de fois où un mot doit apparaître pour être pris en compte\n",
    "    ngram_range=(1,3)      # ngrammes de taille 1 à 3 (unigrammes, bigrammes et trigrammes)\n",
    ")\n",
    "\n",
    "X_train_final = vectorizer.fit_transform(X_train)\n",
    "\n",
    "# Créer une instance de SVM\n",
    "clf_final = MultinomialNB(alpha=1)\n",
    "\n",
    "# Entraîner le modèle SVM sur les données d'entraînement\n",
    "clf_final.fit(X_train_final, y_train)"
   ]
  },
  {
   "cell_type": "markdown",
   "metadata": {},
   "source": [
    "### **<span style=\"color: #DC143C\">B. Application aux données du corpus de test</span>**"
   ]
  },
  {
   "cell_type": "code",
   "execution_count": 64,
   "metadata": {},
   "outputs": [],
   "source": [
    "# Transformation des données avec le vectoriseur avec les paramètres retenus\n",
    "X_test_data = vectorizer.transform(corpus_test)\n",
    "\n",
    "# Précitions à partir du modèle retenu\n",
    "test_predictions = clf_final.predict(X_test_data)\n",
    "\n",
    "# Sauvegarde des résultats dans un fichier texte\n",
    "with open(\"./resultats.txt\", 'w', encoding='utf-8') as file:\n",
    "    for prediction in test_predictions:\n",
    "        if prediction == 1:\n",
    "            file.write(\"M\\n\")\n",
    "        else:\n",
    "            file.write(\"C\\n\")"
   ]
  }
 ],
 "metadata": {
  "kernelspec": {
   "display_name": "Python 3",
   "language": "python",
   "name": "python3"
  },
  "language_info": {
   "codemirror_mode": {
    "name": "ipython",
    "version": 3
   },
   "file_extension": ".py",
   "mimetype": "text/x-python",
   "name": "python",
   "nbconvert_exporter": "python",
   "pygments_lexer": "ipython3",
   "version": "3.11.5"
  }
 },
 "nbformat": 4,
 "nbformat_minor": 2
}
