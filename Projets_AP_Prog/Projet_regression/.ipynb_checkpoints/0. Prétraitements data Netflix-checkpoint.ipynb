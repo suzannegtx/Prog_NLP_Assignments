{
 "cells": [
  {
   "cell_type": "markdown",
   "id": "513bf60f-2254-4205-8f38-4bbfa7755fa4",
   "metadata": {},
   "source": [
    "Ce notebook vsie à effectuer les prétraitements nécessaires et qui permettent d'aboutir aux datasets qui seront utilisés dans les deux notebooks suivants sur l'exploration de modèle et l'optimisation du meilleur modèle apparent. Pour ce jeu de données, on s'intéressera à un modèle de régression pour prédire l'imdb_score d'un film ou d'une série. \n",
    "\n",
    "Les prétraitements touchent principalement à la transformation des variables catégorielles : remapping et one-hot encoding.\n",
    "\n",
    "A la fin de ce notebook, les datasets prétraités sont sauvegardés."
   ]
  },
  {
   "cell_type": "markdown",
   "id": "64a73b7c",
   "metadata": {
    "tags": []
   },
   "source": [
    "# Prétraitements"
   ]
  },
  {
   "cell_type": "markdown",
   "id": "863f459d",
   "metadata": {
    "jp-MarkdownHeadingCollapsed": true,
    "tags": []
   },
   "source": [
    "## I. Chargement des données"
   ]
  },
  {
   "cell_type": "code",
   "execution_count": 1,
   "id": "12593323",
   "metadata": {},
   "outputs": [],
   "source": [
    "#Importation des librairies\n",
    "\n",
    "import pandas as pd"
   ]
  },
  {
   "cell_type": "code",
   "execution_count": 2,
   "id": "afdc776d",
   "metadata": {},
   "outputs": [
    {
     "data": {
      "text/html": [
       "<div>\n",
       "<style scoped>\n",
       "    .dataframe tbody tr th:only-of-type {\n",
       "        vertical-align: middle;\n",
       "    }\n",
       "\n",
       "    .dataframe tbody tr th {\n",
       "        vertical-align: top;\n",
       "    }\n",
       "\n",
       "    .dataframe thead th {\n",
       "        text-align: right;\n",
       "    }\n",
       "</style>\n",
       "<table border=\"1\" class=\"dataframe\">\n",
       "  <thead>\n",
       "    <tr style=\"text-align: right;\">\n",
       "      <th></th>\n",
       "      <th>id</th>\n",
       "      <th>title</th>\n",
       "      <th>type</th>\n",
       "      <th>description</th>\n",
       "      <th>release_year</th>\n",
       "      <th>age_certification</th>\n",
       "      <th>runtime</th>\n",
       "      <th>genres</th>\n",
       "      <th>production_countries</th>\n",
       "      <th>seasons</th>\n",
       "      <th>imdb_id</th>\n",
       "      <th>imdb_score</th>\n",
       "      <th>imdb_votes</th>\n",
       "      <th>tmdb_popularity</th>\n",
       "      <th>tmdb_score</th>\n",
       "    </tr>\n",
       "  </thead>\n",
       "  <tbody>\n",
       "    <tr>\n",
       "      <th>0</th>\n",
       "      <td>ts300399</td>\n",
       "      <td>Five Came Back: The Reference Films</td>\n",
       "      <td>SHOW</td>\n",
       "      <td>This collection includes 12 World War II-era p...</td>\n",
       "      <td>1945</td>\n",
       "      <td>TV-MA</td>\n",
       "      <td>51</td>\n",
       "      <td>['documentation']</td>\n",
       "      <td>['US']</td>\n",
       "      <td>1.0</td>\n",
       "      <td>NaN</td>\n",
       "      <td>NaN</td>\n",
       "      <td>NaN</td>\n",
       "      <td>0.601</td>\n",
       "      <td>NaN</td>\n",
       "    </tr>\n",
       "    <tr>\n",
       "      <th>1</th>\n",
       "      <td>tm82169</td>\n",
       "      <td>Rocky</td>\n",
       "      <td>MOVIE</td>\n",
       "      <td>When world heavyweight boxing champion, Apollo...</td>\n",
       "      <td>1976</td>\n",
       "      <td>PG</td>\n",
       "      <td>119</td>\n",
       "      <td>['drama', 'sport']</td>\n",
       "      <td>['US']</td>\n",
       "      <td>NaN</td>\n",
       "      <td>tt0075148</td>\n",
       "      <td>8.1</td>\n",
       "      <td>588100.0</td>\n",
       "      <td>106.361</td>\n",
       "      <td>7.782</td>\n",
       "    </tr>\n",
       "    <tr>\n",
       "      <th>2</th>\n",
       "      <td>tm17823</td>\n",
       "      <td>Grease</td>\n",
       "      <td>MOVIE</td>\n",
       "      <td>Australian good girl Sandy and greaser Danny f...</td>\n",
       "      <td>1978</td>\n",
       "      <td>PG</td>\n",
       "      <td>110</td>\n",
       "      <td>['romance', 'comedy']</td>\n",
       "      <td>['US']</td>\n",
       "      <td>NaN</td>\n",
       "      <td>tt0077631</td>\n",
       "      <td>7.2</td>\n",
       "      <td>283316.0</td>\n",
       "      <td>33.160</td>\n",
       "      <td>7.406</td>\n",
       "    </tr>\n",
       "    <tr>\n",
       "      <th>3</th>\n",
       "      <td>tm191099</td>\n",
       "      <td>The Sting</td>\n",
       "      <td>MOVIE</td>\n",
       "      <td>A novice con man teams up with an acknowledged...</td>\n",
       "      <td>1973</td>\n",
       "      <td>PG</td>\n",
       "      <td>129</td>\n",
       "      <td>['crime', 'drama', 'comedy', 'music']</td>\n",
       "      <td>['US']</td>\n",
       "      <td>NaN</td>\n",
       "      <td>tt0070735</td>\n",
       "      <td>8.3</td>\n",
       "      <td>266738.0</td>\n",
       "      <td>24.616</td>\n",
       "      <td>8.020</td>\n",
       "    </tr>\n",
       "    <tr>\n",
       "      <th>4</th>\n",
       "      <td>tm69975</td>\n",
       "      <td>Rocky II</td>\n",
       "      <td>MOVIE</td>\n",
       "      <td>After Rocky goes the distance with champ Apoll...</td>\n",
       "      <td>1979</td>\n",
       "      <td>PG</td>\n",
       "      <td>119</td>\n",
       "      <td>['drama', 'sport']</td>\n",
       "      <td>['US']</td>\n",
       "      <td>NaN</td>\n",
       "      <td>tt0079817</td>\n",
       "      <td>7.3</td>\n",
       "      <td>216307.0</td>\n",
       "      <td>75.699</td>\n",
       "      <td>7.246</td>\n",
       "    </tr>\n",
       "    <tr>\n",
       "      <th>5</th>\n",
       "      <td>tm127384</td>\n",
       "      <td>Monty Python and the Holy Grail</td>\n",
       "      <td>MOVIE</td>\n",
       "      <td>King Arthur, accompanied by his squire, recrui...</td>\n",
       "      <td>1975</td>\n",
       "      <td>PG</td>\n",
       "      <td>91</td>\n",
       "      <td>['fantasy', 'comedy']</td>\n",
       "      <td>['GB']</td>\n",
       "      <td>NaN</td>\n",
       "      <td>tt0071853</td>\n",
       "      <td>8.2</td>\n",
       "      <td>547292.0</td>\n",
       "      <td>20.964</td>\n",
       "      <td>7.804</td>\n",
       "    </tr>\n",
       "    <tr>\n",
       "      <th>6</th>\n",
       "      <td>tm17249</td>\n",
       "      <td>Animal House</td>\n",
       "      <td>MOVIE</td>\n",
       "      <td>At a 1962 College, Dean Vernon Wormer is deter...</td>\n",
       "      <td>1978</td>\n",
       "      <td>R</td>\n",
       "      <td>109</td>\n",
       "      <td>['comedy']</td>\n",
       "      <td>['US']</td>\n",
       "      <td>NaN</td>\n",
       "      <td>tt0077975</td>\n",
       "      <td>7.4</td>\n",
       "      <td>123611.0</td>\n",
       "      <td>17.372</td>\n",
       "      <td>7.020</td>\n",
       "    </tr>\n",
       "    <tr>\n",
       "      <th>7</th>\n",
       "      <td>ts22164</td>\n",
       "      <td>Monty Python's Flying Circus</td>\n",
       "      <td>SHOW</td>\n",
       "      <td>A British sketch comedy series with the shows ...</td>\n",
       "      <td>1969</td>\n",
       "      <td>TV-14</td>\n",
       "      <td>30</td>\n",
       "      <td>['comedy', 'european']</td>\n",
       "      <td>['GB']</td>\n",
       "      <td>4.0</td>\n",
       "      <td>tt0063929</td>\n",
       "      <td>8.8</td>\n",
       "      <td>75654.0</td>\n",
       "      <td>24.773</td>\n",
       "      <td>8.258</td>\n",
       "    </tr>\n",
       "    <tr>\n",
       "      <th>8</th>\n",
       "      <td>tm70993</td>\n",
       "      <td>Life of Brian</td>\n",
       "      <td>MOVIE</td>\n",
       "      <td>Brian Cohen is an average young Jewish man, bu...</td>\n",
       "      <td>1979</td>\n",
       "      <td>R</td>\n",
       "      <td>94</td>\n",
       "      <td>['comedy']</td>\n",
       "      <td>['GB']</td>\n",
       "      <td>NaN</td>\n",
       "      <td>tt0079470</td>\n",
       "      <td>8.0</td>\n",
       "      <td>405022.0</td>\n",
       "      <td>19.787</td>\n",
       "      <td>7.762</td>\n",
       "    </tr>\n",
       "    <tr>\n",
       "      <th>9</th>\n",
       "      <td>tm16479</td>\n",
       "      <td>White Christmas</td>\n",
       "      <td>MOVIE</td>\n",
       "      <td>Two talented song-and-dance men team up after ...</td>\n",
       "      <td>1954</td>\n",
       "      <td>NaN</td>\n",
       "      <td>120</td>\n",
       "      <td>['comedy', 'music', 'romance']</td>\n",
       "      <td>['US']</td>\n",
       "      <td>NaN</td>\n",
       "      <td>tt0047673</td>\n",
       "      <td>7.5</td>\n",
       "      <td>46586.0</td>\n",
       "      <td>11.598</td>\n",
       "      <td>7.200</td>\n",
       "    </tr>\n",
       "  </tbody>\n",
       "</table>\n",
       "</div>"
      ],
      "text/plain": [
       "         id                                title   type  \\\n",
       "0  ts300399  Five Came Back: The Reference Films   SHOW   \n",
       "1   tm82169                                Rocky  MOVIE   \n",
       "2   tm17823                               Grease  MOVIE   \n",
       "3  tm191099                            The Sting  MOVIE   \n",
       "4   tm69975                             Rocky II  MOVIE   \n",
       "5  tm127384      Monty Python and the Holy Grail  MOVIE   \n",
       "6   tm17249                         Animal House  MOVIE   \n",
       "7   ts22164         Monty Python's Flying Circus   SHOW   \n",
       "8   tm70993                        Life of Brian  MOVIE   \n",
       "9   tm16479                      White Christmas  MOVIE   \n",
       "\n",
       "                                         description  release_year  \\\n",
       "0  This collection includes 12 World War II-era p...          1945   \n",
       "1  When world heavyweight boxing champion, Apollo...          1976   \n",
       "2  Australian good girl Sandy and greaser Danny f...          1978   \n",
       "3  A novice con man teams up with an acknowledged...          1973   \n",
       "4  After Rocky goes the distance with champ Apoll...          1979   \n",
       "5  King Arthur, accompanied by his squire, recrui...          1975   \n",
       "6  At a 1962 College, Dean Vernon Wormer is deter...          1978   \n",
       "7  A British sketch comedy series with the shows ...          1969   \n",
       "8  Brian Cohen is an average young Jewish man, bu...          1979   \n",
       "9  Two talented song-and-dance men team up after ...          1954   \n",
       "\n",
       "  age_certification  runtime                                 genres  \\\n",
       "0             TV-MA       51                      ['documentation']   \n",
       "1                PG      119                     ['drama', 'sport']   \n",
       "2                PG      110                  ['romance', 'comedy']   \n",
       "3                PG      129  ['crime', 'drama', 'comedy', 'music']   \n",
       "4                PG      119                     ['drama', 'sport']   \n",
       "5                PG       91                  ['fantasy', 'comedy']   \n",
       "6                 R      109                             ['comedy']   \n",
       "7             TV-14       30                 ['comedy', 'european']   \n",
       "8                 R       94                             ['comedy']   \n",
       "9               NaN      120         ['comedy', 'music', 'romance']   \n",
       "\n",
       "  production_countries  seasons    imdb_id  imdb_score  imdb_votes  \\\n",
       "0               ['US']      1.0        NaN         NaN         NaN   \n",
       "1               ['US']      NaN  tt0075148         8.1    588100.0   \n",
       "2               ['US']      NaN  tt0077631         7.2    283316.0   \n",
       "3               ['US']      NaN  tt0070735         8.3    266738.0   \n",
       "4               ['US']      NaN  tt0079817         7.3    216307.0   \n",
       "5               ['GB']      NaN  tt0071853         8.2    547292.0   \n",
       "6               ['US']      NaN  tt0077975         7.4    123611.0   \n",
       "7               ['GB']      4.0  tt0063929         8.8     75654.0   \n",
       "8               ['GB']      NaN  tt0079470         8.0    405022.0   \n",
       "9               ['US']      NaN  tt0047673         7.5     46586.0   \n",
       "\n",
       "   tmdb_popularity  tmdb_score  \n",
       "0            0.601         NaN  \n",
       "1          106.361       7.782  \n",
       "2           33.160       7.406  \n",
       "3           24.616       8.020  \n",
       "4           75.699       7.246  \n",
       "5           20.964       7.804  \n",
       "6           17.372       7.020  \n",
       "7           24.773       8.258  \n",
       "8           19.787       7.762  \n",
       "9           11.598       7.200  "
      ]
     },
     "execution_count": 2,
     "metadata": {},
     "output_type": "execute_result"
    }
   ],
   "source": [
    "#Chargement des données \n",
    "original_df = pd.read_csv('titles.csv')\n",
    "\n",
    "# Affichage des 10 premières lignes du jeu de données\n",
    "original_df.head(10)"
   ]
  },
  {
   "cell_type": "code",
   "execution_count": 3,
   "id": "86c3799b",
   "metadata": {},
   "outputs": [
    {
     "name": "stdout",
     "output_type": "stream",
     "text": [
      "Le jeu de données contient : 6137  enregistrements et  15  colonnes.\n",
      "Les colonnes sont :  Index(['id', 'title', 'type', 'description', 'release_year',\n",
      "       'age_certification', 'runtime', 'genres', 'production_countries',\n",
      "       'seasons', 'imdb_id', 'imdb_score', 'imdb_votes', 'tmdb_popularity',\n",
      "       'tmdb_score'],\n",
      "      dtype='object')\n"
     ]
    }
   ],
   "source": [
    "print(\"Le jeu de données contient :\",original_df.shape[0], \" enregistrements et \", original_df.shape[1], \" colonnes.\")\n",
    "print(\"Les colonnes sont : \", original_df.columns)"
   ]
  },
  {
   "cell_type": "markdown",
   "id": "ac3311ab",
   "metadata": {},
   "source": [
    "Description des colonnes : \n",
    "\n",
    "id: The title ID on JustWatch.\n",
    "\n",
    "title: The name of the title.\n",
    "\n",
    "show_type: TV show or movie.\n",
    "\n",
    "description: A brief description.\n",
    "\n",
    "release_year: The release year.\n",
    "\n",
    "age_certification: The age certification.\n",
    "\n",
    "runtime: The length of the episode (SHOW) or movie.\n",
    "\n",
    "genres: A list of genres.\n",
    "\n",
    "production_countries: A list of countries that - produced the title.\n",
    "\n",
    "seasons: Number of seasons if it's a SHOW.\n",
    "\n",
    "imdb_id: The title ID on IMDB.\n",
    "\n",
    "imdb_score: Score on IMDB.\n",
    "\n",
    "imdb_votes: Votes on IMDB.\n",
    "\n",
    "tmdb_popularity: Popularity on TMDB.\n",
    "\n",
    "tmdb_score: Score on TMDB."
   ]
  },
  {
   "cell_type": "code",
   "execution_count": 4,
   "id": "85faa065",
   "metadata": {},
   "outputs": [
    {
     "data": {
      "text/html": [
       "<div>\n",
       "<style scoped>\n",
       "    .dataframe tbody tr th:only-of-type {\n",
       "        vertical-align: middle;\n",
       "    }\n",
       "\n",
       "    .dataframe tbody tr th {\n",
       "        vertical-align: top;\n",
       "    }\n",
       "\n",
       "    .dataframe thead th {\n",
       "        text-align: right;\n",
       "    }\n",
       "</style>\n",
       "<table border=\"1\" class=\"dataframe\">\n",
       "  <thead>\n",
       "    <tr style=\"text-align: right;\">\n",
       "      <th></th>\n",
       "      <th>release_year</th>\n",
       "      <th>runtime</th>\n",
       "      <th>seasons</th>\n",
       "      <th>imdb_score</th>\n",
       "      <th>imdb_votes</th>\n",
       "      <th>tmdb_popularity</th>\n",
       "      <th>tmdb_score</th>\n",
       "    </tr>\n",
       "  </thead>\n",
       "  <tbody>\n",
       "    <tr>\n",
       "      <th>count</th>\n",
       "      <td>6137.000000</td>\n",
       "      <td>6137.000000</td>\n",
       "      <td>2306.000000</td>\n",
       "      <td>5669.000000</td>\n",
       "      <td>5.653000e+03</td>\n",
       "      <td>6061.000000</td>\n",
       "      <td>5885.000000</td>\n",
       "    </tr>\n",
       "    <tr>\n",
       "      <th>mean</th>\n",
       "      <td>2017.371843</td>\n",
       "      <td>76.381946</td>\n",
       "      <td>2.106678</td>\n",
       "      <td>6.540942</td>\n",
       "      <td>2.115029e+04</td>\n",
       "      <td>19.267196</td>\n",
       "      <td>6.633194</td>\n",
       "    </tr>\n",
       "    <tr>\n",
       "      <th>std</th>\n",
       "      <td>6.603620</td>\n",
       "      <td>39.086828</td>\n",
       "      <td>2.716844</td>\n",
       "      <td>1.135944</td>\n",
       "      <td>9.254225e+04</td>\n",
       "      <td>51.291407</td>\n",
       "      <td>1.251610</td>\n",
       "    </tr>\n",
       "    <tr>\n",
       "      <th>min</th>\n",
       "      <td>1945.000000</td>\n",
       "      <td>0.000000</td>\n",
       "      <td>1.000000</td>\n",
       "      <td>1.500000</td>\n",
       "      <td>5.000000e+00</td>\n",
       "      <td>0.009442</td>\n",
       "      <td>0.500000</td>\n",
       "    </tr>\n",
       "    <tr>\n",
       "      <th>25%</th>\n",
       "      <td>2017.000000</td>\n",
       "      <td>44.000000</td>\n",
       "      <td>1.000000</td>\n",
       "      <td>5.800000</td>\n",
       "      <td>5.170000e+02</td>\n",
       "      <td>3.381000</td>\n",
       "      <td>6.000000</td>\n",
       "    </tr>\n",
       "    <tr>\n",
       "      <th>50%</th>\n",
       "      <td>2019.000000</td>\n",
       "      <td>80.000000</td>\n",
       "      <td>1.000000</td>\n",
       "      <td>6.600000</td>\n",
       "      <td>2.095000e+03</td>\n",
       "      <td>7.580000</td>\n",
       "      <td>6.791000</td>\n",
       "    </tr>\n",
       "    <tr>\n",
       "      <th>75%</th>\n",
       "      <td>2021.000000</td>\n",
       "      <td>105.000000</td>\n",
       "      <td>2.000000</td>\n",
       "      <td>7.300000</td>\n",
       "      <td>8.884000e+03</td>\n",
       "      <td>16.523000</td>\n",
       "      <td>7.400000</td>\n",
       "    </tr>\n",
       "    <tr>\n",
       "      <th>max</th>\n",
       "      <td>2023.000000</td>\n",
       "      <td>225.000000</td>\n",
       "      <td>44.000000</td>\n",
       "      <td>9.600000</td>\n",
       "      <td>2.684317e+06</td>\n",
       "      <td>1078.637000</td>\n",
       "      <td>10.000000</td>\n",
       "    </tr>\n",
       "  </tbody>\n",
       "</table>\n",
       "</div>"
      ],
      "text/plain": [
       "       release_year      runtime      seasons   imdb_score    imdb_votes  \\\n",
       "count   6137.000000  6137.000000  2306.000000  5669.000000  5.653000e+03   \n",
       "mean    2017.371843    76.381946     2.106678     6.540942  2.115029e+04   \n",
       "std        6.603620    39.086828     2.716844     1.135944  9.254225e+04   \n",
       "min     1945.000000     0.000000     1.000000     1.500000  5.000000e+00   \n",
       "25%     2017.000000    44.000000     1.000000     5.800000  5.170000e+02   \n",
       "50%     2019.000000    80.000000     1.000000     6.600000  2.095000e+03   \n",
       "75%     2021.000000   105.000000     2.000000     7.300000  8.884000e+03   \n",
       "max     2023.000000   225.000000    44.000000     9.600000  2.684317e+06   \n",
       "\n",
       "       tmdb_popularity   tmdb_score  \n",
       "count      6061.000000  5885.000000  \n",
       "mean         19.267196     6.633194  \n",
       "std          51.291407     1.251610  \n",
       "min           0.009442     0.500000  \n",
       "25%           3.381000     6.000000  \n",
       "50%           7.580000     6.791000  \n",
       "75%          16.523000     7.400000  \n",
       "max        1078.637000    10.000000  "
      ]
     },
     "execution_count": 4,
     "metadata": {},
     "output_type": "execute_result"
    }
   ],
   "source": [
    "#Affichage de statistiques descriptives pour les descripteurs numériques \n",
    "original_df.describe()"
   ]
  },
  {
   "cell_type": "markdown",
   "id": "ec8ee84d",
   "metadata": {
    "jp-MarkdownHeadingCollapsed": true,
    "tags": []
   },
   "source": [
    "## II. Nettoyage des données"
   ]
  },
  {
   "cell_type": "code",
   "execution_count": 5,
   "id": "c6726eb4",
   "metadata": {},
   "outputs": [],
   "source": [
    "# Suppression des colonnes inutiles pour une première exploration \n",
    "colonnes_a_supprimer = ['id', 'description', 'imdb_id', 'imdb_votes', 'tmdb_popularity', 'tmdb_score']\n",
    "df = original_df.drop(columns=colonnes_a_supprimer)"
   ]
  },
  {
   "cell_type": "code",
   "execution_count": 6,
   "id": "c10f5d34",
   "metadata": {},
   "outputs": [
    {
     "name": "stdout",
     "output_type": "stream",
     "text": [
      "Il reste  5669  enregistrements.\n"
     ]
    },
    {
     "data": {
      "text/html": [
       "<div>\n",
       "<style scoped>\n",
       "    .dataframe tbody tr th:only-of-type {\n",
       "        vertical-align: middle;\n",
       "    }\n",
       "\n",
       "    .dataframe tbody tr th {\n",
       "        vertical-align: top;\n",
       "    }\n",
       "\n",
       "    .dataframe thead th {\n",
       "        text-align: right;\n",
       "    }\n",
       "</style>\n",
       "<table border=\"1\" class=\"dataframe\">\n",
       "  <thead>\n",
       "    <tr style=\"text-align: right;\">\n",
       "      <th></th>\n",
       "      <th>release_year</th>\n",
       "      <th>runtime</th>\n",
       "      <th>seasons</th>\n",
       "      <th>imdb_score</th>\n",
       "    </tr>\n",
       "  </thead>\n",
       "  <tbody>\n",
       "    <tr>\n",
       "      <th>count</th>\n",
       "      <td>5669.000000</td>\n",
       "      <td>5669.000000</td>\n",
       "      <td>2143.000000</td>\n",
       "      <td>5669.000000</td>\n",
       "    </tr>\n",
       "    <tr>\n",
       "      <th>mean</th>\n",
       "      <td>2017.267772</td>\n",
       "      <td>77.945317</td>\n",
       "      <td>2.151657</td>\n",
       "      <td>6.540942</td>\n",
       "    </tr>\n",
       "    <tr>\n",
       "      <th>std</th>\n",
       "      <td>6.689366</td>\n",
       "      <td>38.890644</td>\n",
       "      <td>2.748713</td>\n",
       "      <td>1.135944</td>\n",
       "    </tr>\n",
       "    <tr>\n",
       "      <th>min</th>\n",
       "      <td>1954.000000</td>\n",
       "      <td>0.000000</td>\n",
       "      <td>1.000000</td>\n",
       "      <td>1.500000</td>\n",
       "    </tr>\n",
       "    <tr>\n",
       "      <th>25%</th>\n",
       "      <td>2017.000000</td>\n",
       "      <td>45.000000</td>\n",
       "      <td>1.000000</td>\n",
       "      <td>5.800000</td>\n",
       "    </tr>\n",
       "    <tr>\n",
       "      <th>50%</th>\n",
       "      <td>2019.000000</td>\n",
       "      <td>83.000000</td>\n",
       "      <td>1.000000</td>\n",
       "      <td>6.600000</td>\n",
       "    </tr>\n",
       "    <tr>\n",
       "      <th>75%</th>\n",
       "      <td>2021.000000</td>\n",
       "      <td>105.000000</td>\n",
       "      <td>2.000000</td>\n",
       "      <td>7.300000</td>\n",
       "    </tr>\n",
       "    <tr>\n",
       "      <th>max</th>\n",
       "      <td>2023.000000</td>\n",
       "      <td>225.000000</td>\n",
       "      <td>44.000000</td>\n",
       "      <td>9.600000</td>\n",
       "    </tr>\n",
       "  </tbody>\n",
       "</table>\n",
       "</div>"
      ],
      "text/plain": [
       "       release_year      runtime      seasons   imdb_score\n",
       "count   5669.000000  5669.000000  2143.000000  5669.000000\n",
       "mean    2017.267772    77.945317     2.151657     6.540942\n",
       "std        6.689366    38.890644     2.748713     1.135944\n",
       "min     1954.000000     0.000000     1.000000     1.500000\n",
       "25%     2017.000000    45.000000     1.000000     5.800000\n",
       "50%     2019.000000    83.000000     1.000000     6.600000\n",
       "75%     2021.000000   105.000000     2.000000     7.300000\n",
       "max     2023.000000   225.000000    44.000000     9.600000"
      ]
     },
     "execution_count": 6,
     "metadata": {},
     "output_type": "execute_result"
    }
   ],
   "source": [
    "# Suppression des données manquantes pour le descripteur imdb_score\n",
    "df = df.dropna(subset=['imdb_score'])\n",
    "print('Il reste ', df.shape[0], \" enregistrements.\")\n",
    "df.describe()"
   ]
  },
  {
   "cell_type": "markdown",
   "id": "49f41507",
   "metadata": {
    "jp-MarkdownHeadingCollapsed": true,
    "tags": []
   },
   "source": [
    "## III. Transformations des variables catégorielles"
   ]
  },
  {
   "cell_type": "code",
   "execution_count": 7,
   "id": "5cb5e3f2",
   "metadata": {},
   "outputs": [
    {
     "name": "stdout",
     "output_type": "stream",
     "text": [
      "title                    object\n",
      "type                     object\n",
      "release_year              int64\n",
      "age_certification        object\n",
      "runtime                   int64\n",
      "genres                   object\n",
      "production_countries     object\n",
      "seasons                 float64\n",
      "imdb_score              float64\n",
      "dtype: object\n"
     ]
    }
   ],
   "source": [
    "# Affichage du type de chaque colonne\n",
    "types_de_colonnes = df.dtypes\n",
    "print(types_de_colonnes)"
   ]
  },
  {
   "cell_type": "markdown",
   "id": "5afe137b",
   "metadata": {},
   "source": [
    "Les descripteurs type, release_year, age_certification, genres et production_countries ne sont pas des variables numériques."
   ]
  },
  {
   "cell_type": "markdown",
   "id": "4dc31445",
   "metadata": {},
   "source": [
    "### III.1. Transformation de 'age_certification' "
   ]
  },
  {
   "cell_type": "code",
   "execution_count": 8,
   "id": "132bd85c",
   "metadata": {},
   "outputs": [
    {
     "name": "stdout",
     "output_type": "stream",
     "text": [
      "Nombre de valeurs manquantes pour la variable :  2460\n"
     ]
    }
   ],
   "source": [
    "print(\"Nombre de valeurs manquantes pour la variable : \", df['age_certification'].isnull().sum())"
   ]
  },
  {
   "cell_type": "code",
   "execution_count": 9,
   "id": "2104e4e1",
   "metadata": {},
   "outputs": [
    {
     "name": "stdout",
     "output_type": "stream",
     "text": [
      "Valeurs uniques de la colonne 'age_certification' :  ['PG' 'R' 'TV-14' nan 'TV-MA' 'TV-PG' 'PG-13' 'TV-Y' 'TV-Y7' 'TV-G' 'G'\n",
      " 'NC-17' 'TV-Y7-FV']\n"
     ]
    }
   ],
   "source": [
    "# Affichage des valeurs uniques de la colonne\n",
    "print(\"Valeurs uniques de la colonne 'age_certification' : \", df['age_certification'].unique())"
   ]
  },
  {
   "cell_type": "markdown",
   "id": "b34700bc",
   "metadata": {},
   "source": [
    "Pour mieux comprendre ce dont il s'agit dans cette colonne, on décide de remapper les valeurs de la certification d'âge. On recherche sur internet à quelle catégorie d'âge, plus explicite, ces codes correspondent.\n",
    "Remarque : les classes d'âge varient parfois en fonction des pays où le film est diffusé. Cependant, on s'appuie sur le référentiel américain et notamment tvguidelines.org. Le but du remapping étant la simplification, certaines nuances ont été également omises dans les nouvelles valeurs du remapping. Par exemple, 'TV-Y7' et'TV-Y7-FV'ont été toutes deux remappées en '7+' bien que la seconde mention indique la présence de \"fantasy violence\". "
   ]
  },
  {
   "cell_type": "code",
   "execution_count": 10,
   "id": "286fe317",
   "metadata": {},
   "outputs": [],
   "source": [
    "# Création d'un dictionnaire de mapping des valeurs\n",
    "mapping_valeurs = {'TV-MA': '17+', 'PG': '12+', 'R':'17+', 'TV-14':'13+',  'TV-PG':'7+', 'PG-13':'13+', 'TV-Y':'0+', 'TV-Y7':'7+', 'TV-G':'0+', 'G':'0+',\n",
    " 'NC-17':'17+', 'TV-Y7-FV':'7+'}\n",
    "\n",
    "# Application du remapping à la colonne age_certification\n",
    "df['age_certification'] = df['age_certification'].map(mapping_valeurs)"
   ]
  },
  {
   "cell_type": "code",
   "execution_count": 11,
   "id": "b2e46e64",
   "metadata": {},
   "outputs": [
    {
     "data": {
      "text/plain": [
       "array(['12+', '17+', '13+', nan, '7+', '0+'], dtype=object)"
      ]
     },
     "execution_count": 11,
     "metadata": {},
     "output_type": "execute_result"
    }
   ],
   "source": [
    "df['age_certification'].unique()"
   ]
  },
  {
   "cell_type": "markdown",
   "id": "5d2ff033",
   "metadata": {},
   "source": [
    "### III.2. Transformation de 'genres'"
   ]
  },
  {
   "cell_type": "markdown",
   "id": "52419cec",
   "metadata": {},
   "source": [
    "Pour simplifier l'entraînement du modèle, on simplifie la colonne 'genres' en ne conservant qu'un seul genre, le 1er de la liste, pour chacun des enregistrements."
   ]
  },
  {
   "cell_type": "code",
   "execution_count": 12,
   "id": "87801f72",
   "metadata": {},
   "outputs": [
    {
     "name": "stdout",
     "output_type": "stream",
     "text": [
      "Nombre de valeurs manquantes :  0\n"
     ]
    }
   ],
   "source": [
    "#On vérifie d'baord que la variable 'genres' n'a pas de valeurs manquantes et que tous les enregistrements possèdent bien au moins un genre.\n",
    "print(\"Nombre de valeurs manquantes : \", df['genres'].isnull().sum())"
   ]
  },
  {
   "cell_type": "code",
   "execution_count": 13,
   "id": "9352c399",
   "metadata": {},
   "outputs": [],
   "source": [
    "# On crée une nouvelle colonne 'genre' qui ne retient que le 1er genre de la colonne 'genres' pour chacune des lignes \n",
    "df['genre'] = df['genres'].apply(lambda x: x.replace(\"[\",\"\").replace(\"]\",\"\").replace(\"'\",'').split(\",\")[0])"
   ]
  },
  {
   "cell_type": "code",
   "execution_count": 14,
   "id": "72f7d3b7",
   "metadata": {},
   "outputs": [],
   "source": [
    "#Suppression de la colonne 'genres'. On ne garde que la nouvelle colonne 'genre' créée\n",
    "df.drop(columns='genres', inplace=True)"
   ]
  },
  {
   "cell_type": "code",
   "execution_count": 15,
   "id": "b5d138a9",
   "metadata": {},
   "outputs": [
    {
     "data": {
      "text/plain": [
       "array(['drama', 'romance', 'crime', 'fantasy', 'comedy', 'documentation',\n",
       "       'thriller', 'action', 'animation', 'family', 'reality', 'scifi',\n",
       "       'western', 'horror', 'war', 'music', 'history', '', 'sport'],\n",
       "      dtype=object)"
      ]
     },
     "execution_count": 15,
     "metadata": {},
     "output_type": "execute_result"
    }
   ],
   "source": [
    "df['genre'].unique()"
   ]
  },
  {
   "cell_type": "markdown",
   "id": "aca61575",
   "metadata": {},
   "source": [
    "On a bien des catégories de genres de film. On remarque que l'on a un élément \"vide\" (''). On va supprimer les films n'ayant pas de genre spécifié. "
   ]
  },
  {
   "cell_type": "code",
   "execution_count": 16,
   "id": "8f02984b",
   "metadata": {},
   "outputs": [
    {
     "name": "stdout",
     "output_type": "stream",
     "text": [
      "Taille du df avant suppression :  (5669, 9)\n",
      "Nombre de lignes qui n'ont pas de genre spécifié dans la colonne 'genre' : 5\n",
      "Taille du df après suppression :  (5664, 9)\n"
     ]
    }
   ],
   "source": [
    "#On veut supprimer les lignes qui n'ont pas de genre spécifié\n",
    "print(\"Taille du df avant suppression : \",df.shape)\n",
    "\n",
    "valeur = ''\n",
    "\n",
    "# On compte le nombre de lignes qui n'ont pas de genre spécifié\n",
    "nombre_de_lignes = (df['genre'] == valeur).value_counts().get(True, 0)\n",
    "print(f\"Nombre de lignes qui n'ont pas de genre spécifié dans la colonne 'genre' : {nombre_de_lignes}\")\n",
    "\n",
    "# Création d'un masque booléen pour identifier les lignes à supprimer\n",
    "masque = df['genre'] == valeur\n",
    "\n",
    "# Suppression des lignes correspondantes en utilisant le masque créé\n",
    "df = df[~masque]\n",
    "\n",
    "# réindexation du jeu de données si nécessaire\n",
    "df.reset_index(drop=True, inplace=True)\n",
    "\n",
    "print(\"Taille du df après suppression : \",df.shape)"
   ]
  },
  {
   "cell_type": "code",
   "execution_count": 17,
   "id": "eeca15da",
   "metadata": {},
   "outputs": [
    {
     "data": {
      "text/plain": [
       "array(['drama', 'romance', 'crime', 'fantasy', 'comedy', 'documentation',\n",
       "       'thriller', 'action', 'animation', 'family', 'reality', 'scifi',\n",
       "       'western', 'horror', 'war', 'music', 'history', 'sport'],\n",
       "      dtype=object)"
      ]
     },
     "execution_count": 17,
     "metadata": {},
     "output_type": "execute_result"
    }
   ],
   "source": [
    "#On vérifie les catégories de genre\n",
    "df['genre'].unique()"
   ]
  },
  {
   "cell_type": "markdown",
   "id": "c72bf73e",
   "metadata": {},
   "source": [
    "### III.3. Transformation de 'production_countries' "
   ]
  },
  {
   "cell_type": "code",
   "execution_count": 18,
   "id": "aaf5690a",
   "metadata": {},
   "outputs": [
    {
     "data": {
      "text/plain": [
       "array([\"['US']\", \"['GB']\", \"['EG']\", \"['IN']\", \"['DE']\", \"['IN', 'SU']\",\n",
       "       \"['EG', 'DZ']\", \"['CA', 'FR', 'LB']\", \"['US', 'GB']\",\n",
       "       \"['LB', 'FR']\", \"['JP']\", \"['AR']\", \"['EG', 'FR']\", \"['JP', 'US']\",\n",
       "       \"['US', 'CA']\", \"['GB', 'US']\", \"['FR']\",\n",
       "       \"['IE', 'GB', 'DE', 'FR']\", \"['AU']\",\n",
       "       \"['ET', 'DE', 'GH', 'GB', 'US', 'BF']\", \"['HK']\", \"['MX']\",\n",
       "       \"['CN', 'HK']\", \"['DE', 'US']\", \"['ES', 'AR']\",\n",
       "       \"['DE', 'PS', 'US', 'FR']\", \"['LB', 'BE', 'FR', 'NO']\",\n",
       "       \"['SU', 'IN']\", \"['IT', 'LB', 'BE', 'FR']\", \"['LB']\",\n",
       "       \"['NZ', 'US']\", \"['GB', 'CA', 'US', 'JP']\", \"['CA']\",\n",
       "       \"['US', 'DE']\", \"['CA', 'US']\", \"['US', 'CA', 'DE']\", \"['DK']\",\n",
       "       \"['DE', 'HU', 'GB', 'US']\", \"['FR', 'DE', 'GB', 'CA']\", \"['CO']\",\n",
       "       \"['US', 'CZ']\", \"['DE', 'NZ', 'US']\", \"['IT']\", \"['IE', 'US']\",\n",
       "       \"['GB', 'US', 'CA']\", \"['MX', 'US']\", \"['TW']\", \"['KR']\",\n",
       "       \"['IN', 'US']\", \"['ES', 'GB', 'US']\", \"['US', 'FR', 'CA']\",\n",
       "       \"['CN']\", \"['JP', 'HK']\", \"['ES', 'GB']\", \"['US', 'DE', 'GB']\",\n",
       "       \"['RU']\", \"['NG']\", \"['US', 'HK', 'JP']\", '[]', \"['US', 'NG']\",\n",
       "       \"['PS', 'BE', 'FR', 'ES', 'CH']\", \"['TR']\", \"['HK', 'CN']\",\n",
       "       \"['AR', 'ES']\", \"['FR', 'LB']\", \"['MY']\", \"['FR', 'LB', 'GB']\",\n",
       "       \"['DE', 'KW', 'PS', 'FR']\", \"['PH']\", \"['FR', 'GB']\",\n",
       "       \"['ZA', 'RW', 'GB']\", \"['MA', 'DE', 'PS', 'FR']\",\n",
       "       \"['US', 'AT', 'FR', 'DE', 'NG', 'GB']\",\n",
       "       \"['SE', 'CZ', 'GB', 'DK', 'NL']\", \"['SG']\", \"['KE', 'DE']\",\n",
       "       \"['PS']\", \"['NO']\", \"['US', 'DK']\", \"['ZA']\",\n",
       "       \"['GB', 'US', 'FR', 'DE']\", \"['CL']\", \"['DE', 'CA', 'US']\",\n",
       "       \"['NG', 'GB']\", \"['DE', 'KE']\", \"['SA']\", \"['IN', 'ES']\",\n",
       "       \"['MX', 'ES', 'FR']\", \"['BR', 'US']\", \"['ID']\", \"['IS']\",\n",
       "       \"['DE', 'IN']\", \"['US', 'AE', 'PS', 'NL']\", \"['FR', 'LB', 'PS']\",\n",
       "       \"['FR', 'GB', 'US']\", \"['DE', 'GB', 'US']\", \"['ID', 'US']\",\n",
       "       \"['US', 'FR']\", \"['US', 'BR']\", \"['GB', 'AU', 'CH']\", \"['IL']\",\n",
       "       \"['PL']\", \"['BR']\", \"['GB', 'ZA']\", \"['CN', 'CA', 'US', 'GB']\",\n",
       "       \"['LB', 'AE']\", \"['ES']\", \"['EG', 'GB', 'US']\", \"['FI']\",\n",
       "       \"['IS', 'IE', 'IL', 'NO', 'ZA', 'AE', 'GB']\", \"['CD', 'GB']\",\n",
       "       \"['RO']\", \"['FR', 'DE', 'IT', 'PS']\", \"['AE']\", \"['BE', 'FR']\",\n",
       "       \"['AU', 'GB', 'US']\", \"['IT', 'GB']\", \"['NZ']\",\n",
       "       \"['GB', 'US', 'UA']\", \"['US', 'RU']\", \"['US', 'BG', 'GB']\",\n",
       "       \"['NL']\", \"['GB', 'CA', 'DE']\", \"['ES', 'GB', 'US', 'FR']\",\n",
       "       \"['FR', 'CA']\", \"['IE', 'GB']\", \"['SE']\", \"['UA']\", \"['QA', 'LB']\",\n",
       "       \"['US', 'FR', 'GB']\", \"['CN', 'US']\", \"['GB', 'ES', 'US']\",\n",
       "       \"['BE']\", \"['GB', 'IN']\", \"['TR', 'DE']\",\n",
       "       \"['GB', 'IR', 'JO', 'QA']\", \"['GL', 'FR']\", \"['FR', 'QA']\",\n",
       "       \"['US', 'GH']\", \"['US', 'CN']\", \"['ZA', 'IE']\", \"['CA', 'NG']\",\n",
       "       \"['US', 'AT']\", \"['US', 'IT']\", \"['US', 'CA', 'GB']\",\n",
       "       \"['US', 'JP']\", \"['IE']\", \"['AT']\", \"['FR', 'ES']\",\n",
       "       \"['US', 'AU', 'GB']\", \"['AR', 'VE']\", \"['BY']\",\n",
       "       \"['FR', 'RU', 'US']\", \"['GB', 'AU']\", \"['DE', 'LB']\",\n",
       "       \"['JO', 'LB', 'QA', 'PS', 'AE', 'FR']\", \"['VN']\", \"['GB', 'NL']\",\n",
       "       \"['TN']\", \"['FR', 'IT', 'BR', 'US']\", \"['BE', 'FR', 'US']\",\n",
       "       \"['RO', 'GB', 'BE', 'DE', 'FR']\", \"['CN', 'CA', 'US']\",\n",
       "       \"['CA', 'GB']\", \"['US', 'GB', 'IE']\", \"['CN', 'CO', 'US']\",\n",
       "       \"['US', 'MX']\", \"['TW', 'US', 'CN', 'FR']\", \"['SG', 'ID', 'MY']\",\n",
       "       \"['TH']\", \"['FR', 'US']\", \"['MX', 'NL']\", \"['ZA', 'US', 'DE']\",\n",
       "       \"['CA', 'CN']\", \"['CN', 'JP']\", \"['AT', 'IQ', 'US']\", \"['KH']\",\n",
       "       \"['CH', 'AL', 'IT', 'PL']\", \"['US', 'ES', 'CN']\",\n",
       "       \"['BE', 'IS', 'SE']\", \"['CU', 'US']\",\n",
       "       \"['US', 'CA', 'CN', 'PR', 'GB']\", \"['IT', 'BE', 'FR']\",\n",
       "       \"['CN', 'AU', 'US']\", \"['US', 'IN']\", \"['NL', 'SG', 'FR']\",\n",
       "       \"['AE', 'US']\", \"['ES', 'FR']\", \"['CD']\", \"['DE', 'IT']\",\n",
       "       \"['KR', 'US']\", \"['KH', 'US']\", \"['MX', 'ES']\",\n",
       "       \"['GB', 'US', 'FR']\", \"['CN', 'US', 'CA']\", \"['ES', 'US']\",\n",
       "       \"['TW', 'US']\", \"['IL', 'MA', 'US', 'BG', 'GB']\",\n",
       "       \"['PL', 'RU', 'RS']\", \"['UY', 'AR', 'BR', 'FR', 'DE']\",\n",
       "       \"['FR', 'DE', 'IT', 'ES', 'AR']\", \"['MX', 'ES', 'UY']\",\n",
       "       \"['BR', 'CA']\", \"['CZ', 'GB', 'US']\", \"['US', 'BG']\", \"['PE']\",\n",
       "       \"['CA', 'CN', 'SG', 'US', 'GB', 'ID']\", \"['AR', 'MX']\",\n",
       "       \"['TR', 'US']\", \"['US', 'PL']\", \"['US', 'NL']\",\n",
       "       \"['NO', 'US', 'IS']\", \"['DE', 'GB']\", \"['IN', 'FR']\",\n",
       "       \"['FR', 'IN', 'US']\", \"['IT', 'CH', 'FR']\", \"['AR', 'IT']\",\n",
       "       \"['US', 'CA', 'JP']\", \"['NZ', 'GB', 'DE']\", \"['NL', 'FR', 'CL']\",\n",
       "       \"['PR']\", \"['KE']\", \"['KW']\", \"['US', 'SG', 'GB']\",\n",
       "       \"['FR', 'LU', 'US']\", \"['IR', 'US', 'FR']\", \"['PY']\", \"['PK']\",\n",
       "       \"['HU']\", \"['CA', 'FR', 'LU']\", \"['IE', 'CA']\", \"['BE', 'NL']\",\n",
       "       \"['GB', 'CA']\", \"['CO', 'MX']\", \"['FI', 'MX']\", \"['IQ', 'GB']\",\n",
       "       \"['DK', 'US']\", \"['IE', 'US', 'CA']\", \"['DK', 'ES']\",\n",
       "       \"['DE', 'ES']\", \"['AR', 'US']\", \"['AU', 'US']\",\n",
       "       \"['DE', 'IT', 'CH', 'VA', 'FR']\", \"['US', 'BE', 'GB']\",\n",
       "       \"['MX', 'US', 'CL']\", \"['NG', 'NO']\", \"['GB', 'US', 'BE', 'CA']\",\n",
       "       \"['DE', 'DK', 'NL', 'GB']\", \"['ES', 'UY', 'AR']\",\n",
       "       \"['IN', 'AT', 'DE']\", \"['NG', 'US']\", \"['IS', 'GB']\",\n",
       "       \"['PL', 'AR', 'BR', 'DK', 'FR', 'DE']\", \"['NL', 'NO', 'SE', 'DK']\",\n",
       "       \"['IT', 'ES']\", \"['NL', 'JO', 'DE']\", \"['IT', 'FR']\",\n",
       "       \"['IN', 'NP']\", \"['CZ']\", \"['BD', 'IN']\", \"['TZ']\",\n",
       "       \"['BE', 'FR', 'QA', 'TN']\", \"['CM']\", \"['BD']\", \"['CA', 'ZA']\",\n",
       "       \"['IT', 'AR']\", \"['EG', 'AE', 'NO', 'QA']\", \"['KG']\",\n",
       "       \"['IT', 'MC', 'US', 'CA']\", \"['ES', 'BE', 'BR', 'FR']\",\n",
       "       \"['JP', 'GB']\", \"['LU']\", \"['BR', 'GB']\", \"['ZA', 'GB']\",\n",
       "       \"['AE', 'EG', 'RO', 'SA']\", \"['PH', 'SG']\", \"['FR', 'BE']\",\n",
       "       \"['SN']\", \"['NO', 'SE']\", \"['US', 'AU']\", \"['CA', 'GB', 'US']\",\n",
       "       \"['GB', 'US', 'CA', 'FR', 'JP']\", \"['MX', 'BR']\", \"['JO']\",\n",
       "       \"['CA', 'DK', 'US']\", \"['US', 'AL', 'JO', 'TH']\", \"['BT', 'CN']\",\n",
       "       \"['IT', 'US']\", \"['SG', 'FR', 'IN']\", \"['JP', 'US', 'FR']\",\n",
       "       \"['ES', 'DE']\", \"['CA', 'CN', 'US', 'AU']\", \"['AR', 'ES', 'FR']\",\n",
       "       \"['FR', 'DE']\", \"['US', 'IL']\", \"['EG', 'US']\", \"['CH', 'DE']\",\n",
       "       \"['SN', 'BE', 'FR']\", \"['AR', 'CA', 'CL']\", \"['MY', 'SG']\",\n",
       "       \"['DE', 'NO']\", \"['DE', 'AT']\", \"['LB', 'QA', 'SY', 'FR']\",\n",
       "       \"['LB', 'GB', 'DK']\", \"['GB', 'CN', 'DE']\", \"['CN', 'GB', 'US']\",\n",
       "       \"['CA', 'LK']\", \"['ES', 'MX']\", \"['GB', 'DE', 'US']\",\n",
       "       \"['US', 'CH']\", \"['TW', 'CN']\", \"['US', 'CY']\", \"['US', 'SE']\",\n",
       "       \"['PT', 'ES']\", \"['AO', 'ZA']\", \"['PT']\", \"['US', 'PT']\",\n",
       "       \"['US', 'AR']\", \"['LU', 'BE', 'KH', 'FR']\", \"['AR', 'CL']\",\n",
       "       \"['GH']\", \"['ZW']\", \"['CZ', 'DE']\", \"['UY']\", \"['AE', 'LB']\",\n",
       "       \"['BE', 'SE', 'GB']\", \"['MW', 'GB', 'US']\",\n",
       "       \"['ES', 'US', 'CA', 'FR']\", \"['ES', 'BE', 'DE']\", \"['PE', 'AR']\",\n",
       "       \"['GT', 'UY']\", \"['BR', 'MX']\", \"['FR', 'QA', 'MA']\",\n",
       "       \"['AR', 'RS', 'UY']\", \"['QA', 'IN', 'GB', 'FR']\", \"['JP', 'PH']\",\n",
       "       \"['ES', 'DE', 'DK', 'US']\", \"['CO', 'ES']\", \"['US', 'IE']\",\n",
       "       \"['MU']\", \"['BE', 'DE']\", \"['BG', 'US']\",\n",
       "       \"['GB', 'US', 'BE', 'FR', 'ES']\", \"['US', 'BE', 'ES']\",\n",
       "       \"['MY', 'TW']\", \"['AR', 'UY']\", \"['PH', 'US']\", \"['DE', 'ZA']\",\n",
       "       \"['EG', 'SA']\", \"['PH', 'PS']\", \"['PS', 'DK', 'LB']\",\n",
       "       \"['JP', 'ES']\", \"['JP', 'US', 'PL']\", \"['US', 'HU']\",\n",
       "       \"['NZ', 'GB', 'CA', 'AU']\", \"['US', 'ES', 'GB']\", \"['TR', 'GB']\",\n",
       "       \"['ES', 'KN']\", \"['GB', 'US', 'AT']\", \"['US', 'TR']\",\n",
       "       \"['CO', 'FR', 'LU', 'MX', 'NO']\", \"['DE', 'FR']\", \"['JO', 'SE']\",\n",
       "       \"['US', 'HK']\", \"['US', 'RO']\", \"['DK', 'IS']\",\n",
       "       \"['QA', 'SA', 'EG', 'JO']\", \"['GB', 'US', 'GR']\",\n",
       "       \"['US', 'CA', 'HU']\", \"['LB', 'MA', 'SA', 'TN', 'EG']\",\n",
       "       \"['US', 'ZA', 'GB']\", \"['SE', 'GB']\", \"['US', 'FR', 'DE']\",\n",
       "       \"['LU', 'FR']\", \"['RO', 'SE']\", \"['IN', 'SG', 'US']\",\n",
       "       \"['CL', 'PE']\", \"['LB', 'NO', 'QA', 'ES', 'SE', 'DK', 'FR']\",\n",
       "       \"['GB', 'ES']\", \"['FI', 'EE']\", \"['MY', 'ID']\", \"['AF']\",\n",
       "       \"['DE', 'SG', 'UA', 'US', 'CN']\", \"['GB', 'DE']\", \"['US', 'TH']\",\n",
       "       \"['CA', 'IE']\", \"['ES', 'PE']\", \"['BR', 'IT']\",\n",
       "       \"['CO', 'FR', 'MX']\", \"['BR', 'AR', 'CH', 'US', 'MX', 'DE']\",\n",
       "       \"['TW', 'KR']\", \"['NG', 'KE']\", \"['IN', 'KR']\", \"['DO']\",\n",
       "       \"['ZA', 'US']\", \"['CN', 'HK', 'JP', 'NZ']\", \"['GB', 'IE']\",\n",
       "       \"['US', 'CA', 'CN']\", \"['PA']\", \"['ZA', 'CA']\",\n",
       "       \"['BR', 'PT', 'AR']\", \"['GB', 'NG']\", \"['US', 'GB', 'FI', 'CA']\",\n",
       "       \"['AR', 'CO']\", \"['BE', 'LU']\", \"['DE', 'BE', 'GB']\",\n",
       "       \"['TZ', 'GB']\", \"['US', 'SG']\", \"['DK', 'EG', 'DE']\",\n",
       "       \"['CN', 'GB']\", \"['US', 'CA', 'KR', 'JP']\", \"['CH']\",\n",
       "       \"['ZA', 'EG']\", \"['PS', 'CH', 'QA', 'FR']\", \"['NG', 'CA']\",\n",
       "       \"['IO']\", \"['FO', 'PH']\", \"['KE', 'TZ', 'NG']\"], dtype=object)"
      ]
     },
     "execution_count": 18,
     "metadata": {},
     "output_type": "execute_result"
    }
   ],
   "source": [
    "df['production_countries'].unique()"
   ]
  },
  {
   "cell_type": "markdown",
   "id": "d68a9888",
   "metadata": {},
   "source": [
    "De la même manière que pour la variable genres, on ne va conserver que le 1er pays indiqué dans la liste des pays producteurs du film ou de la série. "
   ]
  },
  {
   "cell_type": "code",
   "execution_count": 19,
   "id": "cb39b124",
   "metadata": {},
   "outputs": [],
   "source": [
    "# On crée une nouvelle colonne 'production_country' qui ne retient que le 1er pays mentionné de la colonne 'production_countries' pour chacune des lignes \n",
    "df['production_country'] = df['production_countries'].apply(lambda x: x.replace(\"[\",\"\").replace(\"]\",\"\").replace(\"'\",'').split(\",\")[0])"
   ]
  },
  {
   "cell_type": "code",
   "execution_count": 20,
   "id": "86a6dd6d",
   "metadata": {},
   "outputs": [],
   "source": [
    "df.drop(columns='production_countries', inplace=True)"
   ]
  },
  {
   "cell_type": "code",
   "execution_count": 21,
   "id": "3950e470",
   "metadata": {},
   "outputs": [
    {
     "data": {
      "text/plain": [
       "array(['US', 'GB', 'EG', 'IN', 'DE', 'CA', 'LB', 'JP', 'AR', 'FR', 'IE',\n",
       "       'AU', 'ET', 'HK', 'MX', 'CN', 'ES', 'SU', 'IT', 'NZ', 'DK', 'CO',\n",
       "       'TW', 'KR', 'RU', 'NG', '', 'PS', 'TR', 'MY', 'PH', 'ZA', 'MA',\n",
       "       'SE', 'SG', 'KE', 'NO', 'CL', 'SA', 'BR', 'ID', 'IS', 'IL', 'PL',\n",
       "       'FI', 'CD', 'RO', 'AE', 'BE', 'NL', 'UA', 'QA', 'GL', 'AT', 'BY',\n",
       "       'JO', 'VN', 'TN', 'TH', 'KH', 'CH', 'CU', 'UY', 'CZ', 'PE', 'PR',\n",
       "       'KW', 'IR', 'PY', 'PK', 'HU', 'IQ', 'BD', 'TZ', 'CM', 'KG', 'LU',\n",
       "       'SN', 'BT', 'PT', 'AO', 'GH', 'ZW', 'MW', 'GT', 'MU', 'BG', 'AF',\n",
       "       'DO', 'PA', 'IO', 'FO'], dtype=object)"
      ]
     },
     "execution_count": 21,
     "metadata": {},
     "output_type": "execute_result"
    }
   ],
   "source": [
    "df['production_country'].unique()"
   ]
  },
  {
   "cell_type": "code",
   "execution_count": 22,
   "id": "66e6da05",
   "metadata": {},
   "outputs": [
    {
     "name": "stdout",
     "output_type": "stream",
     "text": [
      "Taille du df avant suppression :  (5664, 9)\n",
      "Nombre de lignes qui n'ont pas de genre spécifié dans la colonne 'production_country' : 128\n",
      "Taille du df après suppression :  (5536, 9)\n"
     ]
    }
   ],
   "source": [
    "#On veut supprimer les lignes qui n'ont pas de production_country spécifié\n",
    "print(\"Taille du df avant suppression : \",df.shape)\n",
    "\n",
    "valeur = ''\n",
    "\n",
    "# On compte le nombre de lignes qui n'ont pas de production_country spécifié\n",
    "nombre_de_lignes = (df['production_country'] == valeur).value_counts().get(True, 0)\n",
    "print(f\"Nombre de lignes qui n'ont pas de genre spécifié dans la colonne 'production_country' : {nombre_de_lignes}\")\n",
    "\n",
    "# Création d'un masque booléen pour identifier les lignes à supprimer\n",
    "masque = df['production_country'] == valeur\n",
    "\n",
    "# Suppression des lignes correspondantes en utilisant le masque créé\n",
    "df = df[~masque]\n",
    "\n",
    "# Réindexation du jeu de données si nécessaire\n",
    "df.reset_index(drop=True, inplace=True)\n",
    "\n",
    "print(\"Taille du df après suppression : \",df.shape)"
   ]
  },
  {
   "cell_type": "markdown",
   "id": "b9ca1bff",
   "metadata": {},
   "source": [
    "### III.4. Transformation de 'type'"
   ]
  },
  {
   "cell_type": "code",
   "execution_count": 23,
   "id": "6c403fe8",
   "metadata": {},
   "outputs": [
    {
     "name": "stdout",
     "output_type": "stream",
     "text": [
      "['MOVIE' 'SHOW']\n",
      "Nombre de valeurs nulles pour la variable 'type' :  0\n"
     ]
    }
   ],
   "source": [
    "print(df['type'].unique())\n",
    "print(\"Nombre de valeurs nulles pour la variable 'type' : \", df['type'].isnull().sum())"
   ]
  },
  {
   "cell_type": "markdown",
   "id": "311d97e0",
   "metadata": {},
   "source": [
    "Il n'y a que deux valeurs possibles pour la variable type. On n'opère pas plus de transformation pour ce descripteur."
   ]
  },
  {
   "cell_type": "markdown",
   "id": "4bca796e",
   "metadata": {},
   "source": [
    "### III.5. Remapping de release_year et runtime"
   ]
  },
  {
   "cell_type": "markdown",
   "id": "585cdbf2",
   "metadata": {},
   "source": [
    "Pour faciliter le one hot encoding sur ces deux variables qui prennent un grand nombre de valeurs, on remappe ces dernières en décennies et tranches de 10 minutes."
   ]
  },
  {
   "cell_type": "code",
   "execution_count": 24,
   "id": "31540140",
   "metadata": {},
   "outputs": [
    {
     "data": {
      "text/plain": [
       "count    5536.000000\n",
       "mean     2017.197616\n",
       "std         6.741180\n",
       "min      1954.000000\n",
       "25%      2017.000000\n",
       "50%      2019.000000\n",
       "75%      2021.000000\n",
       "max      2023.000000\n",
       "Name: release_year, dtype: float64"
      ]
     },
     "execution_count": 24,
     "metadata": {},
     "output_type": "execute_result"
    }
   ],
   "source": [
    "df['release_year'].describe()"
   ]
  },
  {
   "cell_type": "code",
   "execution_count": 25,
   "id": "04768a13",
   "metadata": {},
   "outputs": [],
   "source": [
    "#Remapping de release_year\n",
    "\n",
    "# Création d'une nouvelle colonne decade qui prend la résultat de la division entière de release_year et la multiplie par 10\n",
    "df['decade'] = (df['release_year'] // 10) * 10\n",
    "\n",
    "#Vérification des valeurs de la colonne decade\n",
    "df['decade'].unique()\n",
    "df.drop(columns='release_year', inplace=True)"
   ]
  },
  {
   "cell_type": "code",
   "execution_count": 26,
   "id": "884b700a",
   "metadata": {},
   "outputs": [
    {
     "data": {
      "text/plain": [
       "array([119, 110, 129,  91, 109,  30,  94, 120, 112, 102,  77,  78, 141,\n",
       "       152,  97,  43, 150, 138, 162, 163, 131, 186, 103, 100, 124, 133,\n",
       "       142,  93, 153,  24, 114, 101,  95,  98, 104, 106, 161,  10, 116,\n",
       "        84, 107,  72, 108, 144,  14, 135, 174,  87, 134, 160, 172, 159,\n",
       "       170, 148, 105, 151,  48,  23,  22,  99,  46,  25,  32,  26, 139,\n",
       "       125, 136,  21,  75,  45,  20,  40,  88,  19,  55, 126, 123, 158,\n",
       "       206, 177, 147,  29, 165, 146,  59, 175,  58, 149, 145, 156,  50,\n",
       "        90,  56,  28, 178,  44, 179, 201, 117,  47,  96, 132, 121,  27,\n",
       "        49, 118,  85, 187, 130,  82,  92,  64, 157, 115, 189,  60, 168,\n",
       "        18,  42,   9,  89,  37, 155, 137,   6, 166, 113, 122, 182,  80,\n",
       "        86, 210, 167,  15,  71, 224, 127, 193,  11,  61, 213, 183,  67,\n",
       "         7,   0, 188,  66, 169,  69,  57,  79, 225, 173,  73, 143,  65,\n",
       "        54,  53,  17, 154,  83,  81,  16,  68, 128,  63,   3, 140, 111,\n",
       "         2,  76,  52,  74,  12,  70, 180,  41,   4,  51,  62,  31,  35,\n",
       "         8,   5,  36,  13,  33,  39,  34,  38, 164, 209, 171, 176, 181],\n",
       "      dtype=int64)"
      ]
     },
     "execution_count": 26,
     "metadata": {},
     "output_type": "execute_result"
    }
   ],
   "source": [
    "df['runtime'].unique()"
   ]
  },
  {
   "cell_type": "markdown",
   "id": "27470156",
   "metadata": {},
   "source": [
    "Pour le moment, on considère la variable runtime comme numérique, bien que savoir s'il faut la considérer comme catégorielle ou numérique soit ambigue. Par la suite, on pourra toujours remapper les valeurs de runtime si les considérer comme numériques ne s'avère pas très pertinent ou moins pertinent que de les considérer comme catégorielles. "
   ]
  },
  {
   "cell_type": "markdown",
   "id": "2c6b0f6b",
   "metadata": {
    "jp-MarkdownHeadingCollapsed": true,
    "tags": []
   },
   "source": [
    "## IV. Séparation du dataset en deux : movie/série "
   ]
  },
  {
   "cell_type": "markdown",
   "id": "5423dd51",
   "metadata": {},
   "source": [
    "Afin d'exploiter la variable seasons pour laquelle nous avons toujours une valeur manquante lorsqu'il s'agit de film, on divise le jeu de données pour en créer deux : l'un comportant les films et donc sans le descripteur 'seasons' et l'autre contenant les séries et donc avec le descripteur 'seasons'. "
   ]
  },
  {
   "cell_type": "code",
   "execution_count": 27,
   "id": "8ec11500",
   "metadata": {},
   "outputs": [
    {
     "name": "stderr",
     "output_type": "stream",
     "text": [
      "C:\\Users\\guilts0300\\AppData\\Local\\Temp\\ipykernel_23808\\2842985520.py:4: SettingWithCopyWarning: \n",
      "A value is trying to be set on a copy of a slice from a DataFrame\n",
      "\n",
      "See the caveats in the documentation: https://pandas.pydata.org/pandas-docs/stable/user_guide/indexing.html#returning-a-view-versus-a-copy\n",
      "  df_movies.drop(columns=['seasons', 'type'], inplace=True)\n",
      "C:\\Users\\guilts0300\\AppData\\Local\\Temp\\ipykernel_23808\\2842985520.py:5: SettingWithCopyWarning: \n",
      "A value is trying to be set on a copy of a slice from a DataFrame\n",
      "\n",
      "See the caveats in the documentation: https://pandas.pydata.org/pandas-docs/stable/user_guide/indexing.html#returning-a-view-versus-a-copy\n",
      "  df_series.drop(columns='type', inplace=True)\n"
     ]
    }
   ],
   "source": [
    "# Création de deux nouveaux jeu de données en fonction de la valeur de 'type'\n",
    "df_movies = df.loc[df['type'] == 'MOVIE']\n",
    "df_series = df.loc[df['type'] == 'SHOW']\n",
    "df_movies.drop(columns=['seasons', 'type'], inplace=True)\n",
    "df_series.drop(columns='type', inplace=True)"
   ]
  },
  {
   "cell_type": "code",
   "execution_count": 37,
   "id": "4d1c7124",
   "metadata": {},
   "outputs": [
    {
     "name": "stdout",
     "output_type": "stream",
     "text": [
      "Dimensions de df entier :  (5536, 9)\n",
      "Dimensions de df_movies :  (3423, 7)\n",
      "Dimensions de df_series :  (2113, 8)\n"
     ]
    }
   ],
   "source": [
    "print(\"Dimensions de df entier : \",df.shape)\n",
    "print(\"Dimensions de df_movies : \", df_movies.shape)\n",
    "print(\"Dimensions de df_series : \", df_series.shape)"
   ]
  },
  {
   "cell_type": "code",
   "execution_count": 31,
   "id": "80ed508e",
   "metadata": {},
   "outputs": [
    {
     "name": "stdout",
     "output_type": "stream",
     "text": [
      "Nombre de valeurs manquantes de la variable 'seasons' dans df_series :  0\n"
     ]
    }
   ],
   "source": [
    "print(\"Nombre de valeurs manquantes de la variable 'seasons' dans df_series : \", df_series['seasons'].isnull().sum())"
   ]
  },
  {
   "cell_type": "code",
   "execution_count": 33,
   "id": "a8599823",
   "metadata": {},
   "outputs": [
    {
     "data": {
      "text/plain": [
       "title                   0\n",
       "age_certification     204\n",
       "runtime                 0\n",
       "seasons                 0\n",
       "imdb_score              0\n",
       "genre                   0\n",
       "production_country      0\n",
       "decade                  0\n",
       "dtype: int64"
      ]
     },
     "execution_count": 33,
     "metadata": {},
     "output_type": "execute_result"
    }
   ],
   "source": [
    "#On vérifie que df_series ne contient pas de valeurs manquantes \n",
    "df_series.isnull().sum()"
   ]
  },
  {
   "cell_type": "markdown",
   "id": "651d7078",
   "metadata": {},
   "source": [
    "df_series contient des valeurs manquantes pour la variable age_certification. On va donc créer 2 sous jeux de données : l'un ne contenant pas l'attribut age_certification, permettant ainsi de garder le plus d'enregistrements possibles et l'autre contenant la variable age_certification pour laquelle il n'y a pas de valeurs manquantes (jeu de données de taille plus petite que le premier)."
   ]
  },
  {
   "cell_type": "code",
   "execution_count": 42,
   "id": "f8f0f0bb",
   "metadata": {},
   "outputs": [],
   "source": [
    "df_series_wo_age=df_series.drop(columns='age_certification') #sous jeu de données sans (without=wo) le descripteur age_certification\n",
    "df_series_w_age=df_series.dropna(subset=['age_certification']) #sous jeu de données avec la variable age_certification mais sans les valeurs manquantes"
   ]
  },
  {
   "cell_type": "code",
   "execution_count": 40,
   "id": "3deb8f20",
   "metadata": {},
   "outputs": [
    {
     "data": {
      "text/plain": [
       "title                 0\n",
       "age_certification     0\n",
       "runtime               0\n",
       "seasons               0\n",
       "imdb_score            0\n",
       "genre                 0\n",
       "production_country    0\n",
       "decade                0\n",
       "dtype: int64"
      ]
     },
     "execution_count": 40,
     "metadata": {},
     "output_type": "execute_result"
    }
   ],
   "source": [
    "df_series_w_age.isnull().sum()"
   ]
  },
  {
   "cell_type": "code",
   "execution_count": 43,
   "id": "d3d184bc",
   "metadata": {},
   "outputs": [],
   "source": [
    "#On effectue la même chose pour df_movies \n",
    "df_movies.isnull().sum()\n",
    "\n",
    "df_movies_wo_age=df_movies.drop(columns='age_certification') #sous dataset sans le descripteur age_certification\n",
    "df_movies_w_age=df_movies.dropna(subset=['age_certification']) #sous dataset avec la variable age_certification sans NA"
   ]
  },
  {
   "cell_type": "markdown",
   "id": "e12d5cf3",
   "metadata": {},
   "source": [
    "Les 4 datasets n'ont désormais plus de valeurs manquantes."
   ]
  },
  {
   "cell_type": "markdown",
   "id": "b43fd9e7",
   "metadata": {
    "jp-MarkdownHeadingCollapsed": true,
    "tags": []
   },
   "source": [
    "## V. One-hot encodage "
   ]
  },
  {
   "cell_type": "code",
   "execution_count": 49,
   "id": "82b0210a",
   "metadata": {},
   "outputs": [],
   "source": [
    "# One-hot encoding sur les variables catégorielles\n",
    "df_movies_w_age_encoded = pd.get_dummies(df_movies_w_age, columns=['age_certification', 'genre', 'production_country', 'decade'])\n",
    "df_series_w_age_encoded = pd.get_dummies(df_series_w_age, columns=['age_certification', 'genre', 'production_country', 'decade'])\n",
    "df_movies_wo_age_encoded = pd.get_dummies(df_movies_wo_age, columns=['genre', 'production_country', 'decade'])\n",
    "df_series_wo_age_encoded = pd.get_dummies(df_series_wo_age, columns=['genre', 'production_country', 'decade'])"
   ]
  },
  {
   "cell_type": "markdown",
   "id": "7e60afe7",
   "metadata": {},
   "source": [
    "# Sauvegarde des datasets"
   ]
  },
  {
   "cell_type": "code",
   "execution_count": 50,
   "id": "83b5dba3",
   "metadata": {},
   "outputs": [],
   "source": [
    "df_movies_w_age_encoded.to_csv('df_movies_w_age_encoded.csv', index=False)\n",
    "df_series_w_age_encoded.to_csv('df_series_w_age_encoded.csv', index=False)\n",
    "df_movies_wo_age_encoded.to_csv('df_movies_wo_age_encoded.csv', index=False)\n",
    "df_series_wo_age_encoded.to_csv('df_series_wo_age_encoded.csv', index=False)"
   ]
  }
 ],
 "metadata": {
  "kernelspec": {
   "display_name": "Python 3 (ipykernel)",
   "language": "python",
   "name": "python3"
  },
  "language_info": {
   "codemirror_mode": {
    "name": "ipython",
    "version": 3
   },
   "file_extension": ".py",
   "mimetype": "text/x-python",
   "name": "python",
   "nbconvert_exporter": "python",
   "pygments_lexer": "ipython3",
   "version": "3.11.4"
  }
 },
 "nbformat": 4,
 "nbformat_minor": 5
}
