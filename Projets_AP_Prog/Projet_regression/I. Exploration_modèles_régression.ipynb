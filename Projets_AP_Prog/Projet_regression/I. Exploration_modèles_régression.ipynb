{
 "cells": [
  {
   "cell_type": "markdown",
   "id": "b6994e1b",
   "metadata": {},
   "source": [
    "Dans ce notebook, on repart des jeux de données créés à l'issue du notebook \"0.Prétraitements\".\n",
    "Il s'agit ici de la phase exploratoire de l'analyse : on teste différents modèles pour retenir le modèle qui convient le plus et qui a les meilleures performances. \n",
    "\n",
    "Malheureusement, aucun des modèles testés (régression linéaire, Lasso, SVR, Random Forest) n'affiche de bonnes performances. Le meilleur d'entre eux, le SVR, obtient un R_carré que très légèrement supérieur à 20%, ce qui est insatisfaisant. \n",
    "\n",
    "Les causes de ces piètres performances, sont selon moi, diverses : \n",
    "- modèles inadaptés \n",
    "- jeu de données inadapté ou trop complexe. \n",
    "\n",
    "On a privilégié la considération de runtime comme variable catégorielle plutôt que numérique, bien que les performances n'en soient pas augmentées de beaucoup par cette considération. \n",
    "\n",
    "Pour pallier la complexité du jeu de données (plus de 100 descripteurs), on a approfondi les prétraitements en supprimant les modalités sous-représentées (fréquence inférieure à 1% du jeu de données) des variables genre, production_country, runtime et decade."
   ]
  },
  {
   "cell_type": "markdown",
   "id": "dae160dc",
   "metadata": {
    "jp-MarkdownHeadingCollapsed": true,
    "tags": []
   },
   "source": [
    "# Chargement des données"
   ]
  },
  {
   "cell_type": "code",
   "execution_count": 48,
   "id": "14b832fc",
   "metadata": {
    "tags": []
   },
   "outputs": [],
   "source": [
    "#Importation des librairies\n",
    "\n",
    "import pandas as pd\n",
    "import numpy as np\n",
    "import matplotlib.pyplot as plt\n",
    "from sklearn.model_selection import train_test_split\n",
    "from sklearn.linear_model import LinearRegression, Lasso, LassoCV\n",
    "from sklearn.model_selection import GridSearchCV, cross_val_score\n",
    "from sklearn.ensemble import RandomForestRegressor\n",
    "from sklearn.svm import SVR\n",
    "from sklearn.metrics import mean_squared_error, r2_score\n",
    "from sklearn.preprocessing import StandardScaler\n",
    "from sklearn.feature_selection import RFE"
   ]
  },
  {
   "cell_type": "markdown",
   "id": "072dcec1-5636-4cb7-aea8-dfa78cf804c6",
   "metadata": {},
   "source": [
    "Pour rapper, les 4 jeux de données suivants ont été obtenus après les prétraitements effectués dans le 1er notebook intitulé \"0. Prétraitements\". \n",
    "On a notamment : \n",
    "- supprimer les variables inutiles \n",
    "- remapper certaines variables : genres, production_countries, age_certification, release_year afin de les simplifier\n",
    "- considérer runtime comme une variable numérique \n",
    "- transformer les variables catégorielles en dummies \n",
    "- séparer le dataset en 2 suivant le type : movies ou series. \n",
    "- créer à partir de ces 2 datasets, 2 jeux pour chacun : l'un avec la variable age_certification, l'autre sans (car age_certification comporte un certain nombre de valeurs manquantes). Dans le dataset avec l'âge, toutes les lignes ayant des valeurs manquantes au niveau de la varibale age ont été supprimées."
   ]
  },
  {
   "cell_type": "code",
   "execution_count": 49,
   "id": "3dc7ef12",
   "metadata": {
    "tags": []
   },
   "outputs": [],
   "source": [
    "#Chargement des données \n",
    "df_movies_wo_age = pd.read_csv('df_movies_wo_age_encoded.csv')\n",
    "df_series_wo_age = pd.read_csv('df_series_wo_age_encoded.csv')\n",
    "df_movies_w_age = pd.read_csv('df_movies_w_age_encoded.csv')\n",
    "df_series_w_age = pd.read_csv('df_series_w_age_encoded.csv')"
   ]
  },
  {
   "cell_type": "markdown",
   "id": "c1e91406",
   "metadata": {},
   "source": [
    "Pour faciliter la construction de modèles par la suite, on réorganise l'ordre des colonnes des datasets de sorte à avoir la variable à prédire, ici l'imdb_score, en 2e colonne (après le titre) et tous les descripteurs à la suite de imdb_score. "
   ]
  },
  {
   "cell_type": "code",
   "execution_count": 50,
   "id": "6966ca33",
   "metadata": {
    "tags": []
   },
   "outputs": [],
   "source": [
    "#colonne à déplacer\n",
    "col_to_move = 'imdb_score' \n",
    "#Position visée \n",
    "new_position = 1\n",
    "\n",
    "##### Pour df_movies_wo_age\n",
    "# Récupération des noms des colonnes actuelles\n",
    "columns = df_movies_wo_age.columns.tolist()\n",
    "# Récupération de l'index de la colonne que vous souhaitez déplacer\n",
    "col_index = columns.index(col_to_move)\n",
    "# Suppression de la colonne de la liste\n",
    "columns.pop(col_index)\n",
    "# Insertion de la colonne à la nouvelle position\n",
    "columns.insert(new_position, col_to_move)\n",
    "# Réorganisation du DataFrame avec le nouvel ordre des colonnes\n",
    "df_movies_wo_age = df_movies_wo_age[columns]\n",
    "\n",
    "##### Pour df_movies_w_age\n",
    "# Récupération des noms des colonnes actuelles\n",
    "columns = df_movies_w_age.columns.tolist()\n",
    "# Récupération de l'index de la colonne que vous souhaitez déplacer\n",
    "col_index = columns.index(col_to_move)\n",
    "# Suppression de la colonne de la liste\n",
    "columns.pop(col_index)\n",
    "# Insertion de la colonne à la nouvelle position\n",
    "columns.insert(new_position, col_to_move)\n",
    "# Réorganisation du DataFrame avec le nouvel ordre des colonnes\n",
    "df_movies_w_age = df_movies_w_age[columns]\n",
    "\n",
    "##### Pour df_series_wo_age\n",
    "columns = df_series_wo_age.columns.tolist()\n",
    "col_index = columns.index(col_to_move)\n",
    "columns.pop(col_index)\n",
    "columns.insert(new_position, col_to_move)\n",
    "df_series_wo_age = df_series_wo_age[columns]\n",
    "\n",
    "##### Pour df_series_w_age\n",
    "columns = df_series_w_age.columns.tolist()\n",
    "col_index = columns.index(col_to_move)\n",
    "columns.pop(col_index)\n",
    "columns.insert(new_position, col_to_move)\n",
    "df_series_w_age = df_series_w_age[columns]"
   ]
  },
  {
   "cell_type": "markdown",
   "id": "21509545",
   "metadata": {
    "jp-MarkdownHeadingCollapsed": true,
    "tags": []
   },
   "source": [
    "# 1. Phase I : Exploration "
   ]
  },
  {
   "cell_type": "markdown",
   "id": "f2badc93-0693-44c3-b3cd-fc6e109ef8bc",
   "metadata": {},
   "source": [
    "Dans un premier temps, afin d'utiliser un maximum de données, on se servira exclusivement des jeux de données sans la variable age_certification (car ils sont de plus grande taille, puisqu'aucune valeur manquante n'a dû être supprimée pour cette variable car on l'a retirée). "
   ]
  },
  {
   "cell_type": "markdown",
   "id": "3cdc74d8",
   "metadata": {
    "tags": []
   },
   "source": [
    "## 1.1. Modèles de régression sans age_certification "
   ]
  },
  {
   "cell_type": "markdown",
   "id": "e890760e-d9ea-4492-8afd-a05cfc3e9a6b",
   "metadata": {},
   "source": [
    "On commence par tester le modèle le plus simple, celui de la régression linéaire."
   ]
  },
  {
   "cell_type": "markdown",
   "id": "a20d1d56",
   "metadata": {
    "tags": []
   },
   "source": [
    "### 1.1.1. Régression linéaire"
   ]
  },
  {
   "cell_type": "markdown",
   "id": "1b6e5fe7",
   "metadata": {
    "tags": []
   },
   "source": [
    "#### Movies"
   ]
  },
  {
   "cell_type": "code",
   "execution_count": 51,
   "id": "80ecaff8",
   "metadata": {
    "tags": []
   },
   "outputs": [
    {
     "name": "stdout",
     "output_type": "stream",
     "text": [
      "Movies :\n",
      "Mean Squared Error: 8.014531003861611e+16\n",
      "R-squared: -6.727562402885829e+16\n"
     ]
    }
   ],
   "source": [
    "#Pour le jeu df_movies_wo_age \n",
    "\n",
    "X = df_movies_wo_age.iloc[:, 2:] # Sélection des descripteurs\n",
    "y = df_movies_wo_age['imdb_score']  # Variable cible\n",
    "\n",
    "# On divise les données en ensembles d'entraînement et de test\n",
    "X_train, X_test, y_train, y_test = train_test_split(X, y, test_size=0.2, random_state=42) #On garde 20% des données pour les tests\n",
    "\n",
    "# Création du modèle de régression linéaire et entraînement\n",
    "model = LinearRegression()\n",
    "model.fit(X_train, y_train)\n",
    "\n",
    "# Prédictions sur l'ensemble de test\n",
    "y_pred = model.predict(X_test)\n",
    "\n",
    "# Evaluation des performances du modèle\n",
    "mse = mean_squared_error(y_test, y_pred)\n",
    "r2 = r2_score(y_test, y_pred)\n",
    "\n",
    "print(\"Movies :\")\n",
    "print(f'Mean Squared Error: {mse}')\n",
    "print(f'R-squared: {r2}')"
   ]
  },
  {
   "cell_type": "code",
   "execution_count": 52,
   "id": "960b03eb-e09f-4bf4-a4a5-fe4c93ce77ef",
   "metadata": {
    "tags": []
   },
   "outputs": [
    {
     "name": "stdout",
     "output_type": "stream",
     "text": [
      "Movies :\n",
      "Mean Squared Error: 6.2452676716349325e+22\n",
      "R-squared: -5.242406319646821e+22\n"
     ]
    }
   ],
   "source": [
    "#On normalise cette fois les données, étant donné que runtime est considéré ici comme une variable numérique.\n",
    "\n",
    "X = df_movies_wo_age.iloc[:, 2:] # Sélection des descripteurs\n",
    "y = df_movies_wo_age['imdb_score']  # Variable cible\n",
    "\n",
    "# On divise les données en ensembles d'entraînement et de test\n",
    "X_train, X_test, y_train, y_test = train_test_split(X, y, test_size=0.2, random_state=42) #On garde 20% des données pour les tests\n",
    "\n",
    "#Pour la normalisation des données \n",
    "scaler = StandardScaler()\n",
    "X_train_scaled = scaler.fit_transform(X_train)\n",
    "X_test_scaled = scaler.transform(X_test)\n",
    "\n",
    "# Création du modèle de régression linéaire et entraînement\n",
    "model = LinearRegression()\n",
    "model.fit(X_train_scaled, y_train)\n",
    "\n",
    "# Prédictions sur l'ensemble de test\n",
    "y_pred = model.predict(X_test_scaled)\n",
    "\n",
    "# Evaluation des performances du modèle\n",
    "mse = mean_squared_error(y_test, y_pred)\n",
    "r2 = r2_score(y_test, y_pred)\n",
    "\n",
    "print(\"Movies :\")\n",
    "print(f'Mean Squared Error: {mse}')\n",
    "print(f'R-squared: {r2}')"
   ]
  },
  {
   "cell_type": "markdown",
   "id": "852c15cf",
   "metadata": {},
   "source": [
    "#### Series "
   ]
  },
  {
   "cell_type": "code",
   "execution_count": 53,
   "id": "e8ecc15e",
   "metadata": {
    "tags": []
   },
   "outputs": [
    {
     "name": "stdout",
     "output_type": "stream",
     "text": [
      "Series :\n",
      "Mean Squared Error: 3.1852474819870234e+17\n",
      "R-squared: -2.9021703483799974e+17\n"
     ]
    }
   ],
   "source": [
    "#Pour le jeu df_series_wo_age \n",
    "\n",
    "X = df_series_wo_age.iloc[:, 2:] # Sélection des descripteurs\n",
    "y = df_series_wo_age['imdb_score']  # Variable cible\n",
    "\n",
    "# On divise les données en ensembles d'entraînement et de test\n",
    "X_train, X_test, y_train, y_test = train_test_split(X, y, test_size=0.2, random_state=42) #On garde 20% des données pour les tests\n",
    "\n",
    "# Création du modèle de régression linéaire et entraînement\n",
    "model = LinearRegression()\n",
    "model.fit(X_train, y_train)\n",
    "\n",
    "# Prédictions sur l'ensemble de test\n",
    "y_pred = model.predict(X_test)\n",
    "\n",
    "# Evaluation des performances du modèle\n",
    "mse = mean_squared_error(y_test, y_pred)\n",
    "r2 = r2_score(y_test, y_pred)\n",
    "\n",
    "print(\"Series :\")\n",
    "print(f'Mean Squared Error: {mse}')\n",
    "print(f'R-squared: {r2}')"
   ]
  },
  {
   "cell_type": "markdown",
   "id": "3fe8d44e",
   "metadata": {},
   "source": [
    "Peu importe si on normalise les données ou non, on obtient un R-squared négatif, ce qui est surprenant et très mauvais signe mais peut être interprété par le fait que le modèle est tellement mauvais qu'il effectue pire que la moyenne de la variable cible. \n",
    "Cela peut être du au fait que le modèle : \n",
    "- est surajusté et donc qu'il a des très pauvres performances en généralisation,  \n",
    "- est appliqué à des données qui ne sont pas adaptées au type de modèle utilisé.\n",
    "    \n",
    "Comme nous sommes en présence d'un nombre important de descripteurs, on peut  essayer d'appliquer un modèle de régression Lasso, qui permettrait de sélectionner des caractéristiques en réduisant certains coefficients à zéro. Cela permettrait notamment de limiter le surajustement. Le modèle pourrait être alors plus simple et plus interprétable."
   ]
  },
  {
   "cell_type": "markdown",
   "id": "f557785b",
   "metadata": {
    "tags": []
   },
   "source": [
    "### 1.1.2. Régression Lasso  "
   ]
  },
  {
   "cell_type": "markdown",
   "id": "7d543359",
   "metadata": {},
   "source": [
    "#### Movies "
   ]
  },
  {
   "cell_type": "code",
   "execution_count": 54,
   "id": "9f9dc171",
   "metadata": {},
   "outputs": [
    {
     "name": "stdout",
     "output_type": "stream",
     "text": [
      "Mean Squared Error: 0.9795139554121084\n",
      "R-squared: 0.17777581041768054\n",
      "\n",
      "Coefficients du modèle Lasso :\n",
      "              Feature  Coefficient\n",
      "0            runtime     0.122626\n",
      "1       genre_action    -0.081346\n",
      "2    genre_animation     0.033605\n",
      "3       genre_comedy    -0.000000\n",
      "4        genre_crime     0.001925\n",
      "..               ...          ...\n",
      "110      decade_1980    -0.000000\n",
      "111      decade_1990     0.025822\n",
      "112      decade_2000     0.052402\n",
      "113      decade_2010     0.000000\n",
      "114      decade_2020    -0.123323\n",
      "\n",
      "[115 rows x 2 columns]\n"
     ]
    }
   ],
   "source": [
    "X = df_movies_wo_age.iloc[:, 2:] # Sélection des descripteurs\n",
    "y = df_movies_wo_age['imdb_score']  # Variable cible\n",
    "\n",
    "# Division des données en ensembles d'entraînement et de test\n",
    "X_train, X_test, y_train, y_test = train_test_split(X, y, test_size=0.2, random_state=42)\n",
    "\n",
    "# Normalisation des données car Lasso est sensible à la normalisation\n",
    "scaler = StandardScaler()\n",
    "X_train_scaled = scaler.fit_transform(X_train)\n",
    "X_test_scaled = scaler.transform(X_test)\n",
    "\n",
    "# Création et entraînement du modèle\n",
    "alpha = 0.01  # Paramètre de régularisation correspondant au niveau de pénalisation appliqué aux coefficients des variables\n",
    "lasso_model = Lasso(alpha=alpha)\n",
    "lasso_model.fit(X_train_scaled, y_train) \n",
    "\n",
    "# Prédictions sur l'ensemble de test\n",
    "y_pred = lasso_model.predict(X_test_scaled) \n",
    "\n",
    "# Evaluation des performances du modèle\n",
    "mse = mean_squared_error(y_test, y_pred)\n",
    "r2 = r2_score(y_test, y_pred)\n",
    "\n",
    "print(f'Mean Squared Error: {mse}')\n",
    "print(f'R-squared: {r2}')\n",
    "\n",
    "# Affichage des coefficients du modèle\n",
    "coefficients = pd.DataFrame({'Feature': X.columns, 'Coefficient': lasso_model.coef_})\n",
    "print('\\nCoefficients du modèle Lasso :\\n', coefficients)"
   ]
  },
  {
   "cell_type": "markdown",
   "id": "6d4ffb3e",
   "metadata": {
    "tags": []
   },
   "source": [
    "#### Series "
   ]
  },
  {
   "cell_type": "code",
   "execution_count": 55,
   "id": "134dde84",
   "metadata": {},
   "outputs": [
    {
     "name": "stdout",
     "output_type": "stream",
     "text": [
      "Mean Squared Error: 0.9833883944001062\n",
      "R-squared: 0.10400662576188824\n",
      "\n",
      "Coefficients du modèle Lasso :\n",
      "             Feature  Coefficient\n",
      "0           runtime     0.233408\n",
      "1           seasons     0.091937\n",
      "2      genre_action     0.000616\n",
      "3   genre_animation    -0.000000\n",
      "4      genre_comedy    -0.000739\n",
      "..              ...          ...\n",
      "80      decade_1980    -0.000000\n",
      "81      decade_1990     0.000000\n",
      "82      decade_2000     0.068804\n",
      "83      decade_2010     0.000000\n",
      "84      decade_2020    -0.145815\n",
      "\n",
      "[85 rows x 2 columns]\n"
     ]
    }
   ],
   "source": [
    "X = df_series_wo_age.iloc[:, 2:] # Sélection des descripteurs\n",
    "y = df_series_wo_age['imdb_score']  # Variable cible\n",
    "\n",
    "# Division des données en ensembles d'entraînement et de test\n",
    "X_train, X_test, y_train, y_test = train_test_split(X, y, test_size=0.2, random_state=42)\n",
    "\n",
    "# Normalisation des données \n",
    "scaler = StandardScaler()\n",
    "X_train_scaled = scaler.fit_transform(X_train)\n",
    "X_test_scaled = scaler.transform(X_test)\n",
    "\n",
    "# Création et entraînement du modèle\n",
    "alpha = 0.01  # Paramètre de régularisation correspondant au niveau de pénalisation appliqué aux coefficients des variables\n",
    "lasso_model = Lasso(alpha=alpha)\n",
    "lasso_model.fit(X_train_scaled, y_train)\n",
    "\n",
    "# Prédictions sur l'ensemble de test\n",
    "y_pred = lasso_model.predict(X_test_scaled)   \n",
    "\n",
    "# Evaluation des performances du modèle\n",
    "mse = mean_squared_error(y_test, y_pred)\n",
    "r2 = r2_score(y_test, y_pred)\n",
    "\n",
    "print(f'Mean Squared Error: {mse}')\n",
    "print(f'R-squared: {r2}')\n",
    "\n",
    "# Affichage des coefficients du modèle\n",
    "coefficients = pd.DataFrame({'Feature': X.columns, 'Coefficient': lasso_model.coef_})\n",
    "print('\\nCoefficients du modèle Lasso :\\n', coefficients)"
   ]
  },
  {
   "cell_type": "markdown",
   "id": "ecf74243-b3c1-4cb2-88be-94569623c86c",
   "metadata": {},
   "source": [
    "On obtient déjà de meilleures performances avec le modèle Lasso qu'avec le modèle de régression linéaire, bien que les performances soient toujours ridiculement faibles. On peut supposer que la régularisation que permet le modèle Lasso a permis d'améliorer légèrement les performances, notamment en contrôlant l'overfitting et en rendant le modèle plus parcimonieux (pénalisation de certains coefficients en les ramenant à zéro, ce qui revient à sélectionner des variables et donc à simplifier le modèle).  \n",
    "On tente un troisième modèle, celui du SVR."
   ]
  },
  {
   "cell_type": "markdown",
   "id": "ade9ebd8",
   "metadata": {
    "tags": []
   },
   "source": [
    "### 1.1.3. SVR"
   ]
  },
  {
   "cell_type": "markdown",
   "id": "2e954480",
   "metadata": {},
   "source": [
    "#### Movies "
   ]
  },
  {
   "cell_type": "code",
   "execution_count": 56,
   "id": "02c1d4c2",
   "metadata": {},
   "outputs": [
    {
     "name": "stdout",
     "output_type": "stream",
     "text": [
      "Mean Squared Error: 0.9448656593379622\n",
      "R-squared: 0.2068603038060235\n"
     ]
    }
   ],
   "source": [
    "X = df_movies_wo_age.iloc[:, 2:] # Sélection des descripteurs\n",
    "y = df_movies_wo_age['imdb_score']  # Variable cible\n",
    "\n",
    "# Division des données en ensembles d'entraînement et de test\n",
    "X_train, X_test, y_train, y_test = train_test_split(X, y, test_size=0.2, random_state=42)\n",
    "\n",
    "# Normalisation des données (souvent important pour les modèles SVM car ils sont sensibles à l'échelle des caractéristiques)\n",
    "scaler = StandardScaler()\n",
    "X_train_scaled = scaler.fit_transform(X_train)\n",
    "X_test_scaled = scaler.transform(X_test)\n",
    "\n",
    "# Initialisation du modèle SVR\n",
    "svr_model = SVR(kernel='rbf', C=1.0, epsilon=0.1)\n",
    "\n",
    "# Entrainement du modèle sur les données d'entraînement\n",
    "svr_model.fit(X_train_scaled, y_train)\n",
    "\n",
    "# Prédictions sur l'ensemble de test\n",
    "y_pred = svr_model.predict(X_test_scaled)\n",
    "\n",
    "# Évaluer les performances du modèle\n",
    "mse = mean_squared_error(y_test, y_pred)\n",
    "r2 = r2_score(y_test, y_pred)\n",
    "\n",
    "print(f'Mean Squared Error: {mse}')\n",
    "print(f'R-squared: {r2}')\n"
   ]
  },
  {
   "cell_type": "markdown",
   "id": "9e95fe89",
   "metadata": {},
   "source": [
    "#### Series "
   ]
  },
  {
   "cell_type": "code",
   "execution_count": 57,
   "id": "00a9b1e9",
   "metadata": {},
   "outputs": [
    {
     "name": "stdout",
     "output_type": "stream",
     "text": [
      "Mean Squared Error: 0.9614714664214903\n",
      "R-squared: 0.12397576752146044\n"
     ]
    }
   ],
   "source": [
    "X = df_series_wo_age.iloc[:, 2:] # Sélection des descripteurs\n",
    "y = df_series_wo_age['imdb_score']  # Variable cible\n",
    "\n",
    "# Division des données en ensembles d'entraînement et de test\n",
    "X_train, X_test, y_train, y_test = train_test_split(X, y, test_size=0.2, random_state=42)\n",
    "\n",
    "# Normalisation des données (souvent important pour les modèles SVM car ils sont sensibles à l'échelle des caractéristiques)\n",
    "scaler = StandardScaler()\n",
    "X_train_scaled = scaler.fit_transform(X_train)\n",
    "X_test_scaled = scaler.transform(X_test)\n",
    "\n",
    "# Initialisation du modèle SVR\n",
    "svr_model = SVR(kernel='rbf', C=1.0, epsilon=0.1)\n",
    "\n",
    "# Entrainement du modèle sur les données d'entraînement\n",
    "svr_model.fit(X_train_scaled, y_train)\n",
    "\n",
    "# Faire des prédictions sur l'ensemble de test\n",
    "y_pred = svr_model.predict(X_test_scaled)\n",
    "\n",
    "# Évaluer les performances du modèle\n",
    "mse = mean_squared_error(y_test, y_pred)\n",
    "r2 = r2_score(y_test, y_pred)\n",
    "\n",
    "print(f'Mean Squared Error: {mse}')\n",
    "print(f'R-squared: {r2}')\n"
   ]
  },
  {
   "cell_type": "markdown",
   "id": "cfd5323e",
   "metadata": {},
   "source": [
    "Jusque-là, c'est le modèle du SVR qui semble être le meilleur des trois modèles. \n",
    "Testons-en un dernier, plus complexe, celui du Random Forest."
   ]
  },
  {
   "cell_type": "markdown",
   "id": "cd559bcd",
   "metadata": {
    "tags": []
   },
   "source": [
    "## 1.2. Test sur un modèle plus complexe : Random Forest"
   ]
  },
  {
   "cell_type": "markdown",
   "id": "c457b80d",
   "metadata": {},
   "source": [
    "#### Movies "
   ]
  },
  {
   "cell_type": "code",
   "execution_count": 58,
   "id": "00880589",
   "metadata": {},
   "outputs": [
    {
     "name": "stdout",
     "output_type": "stream",
     "text": [
      "Mean Squared Error: 1.0466870926221628\n",
      "R-squared: 0.12138929545373445\n"
     ]
    }
   ],
   "source": [
    "X = df_movies_wo_age.iloc[:, 2:] # Sélection des descripteurs\n",
    "y = df_movies_wo_age['imdb_score']  # Variable cible\n",
    "\n",
    "# Division des données en ensembles d'entraînement et de test\n",
    "X_train, X_test, y_train, y_test = train_test_split(X, y, test_size=0.2, random_state=42)\n",
    "\n",
    "# Initialisation du modèle Random Forest \n",
    "rf_model = RandomForestRegressor(n_estimators=100, random_state=42) #on pourra ajuster les hyperparamètres ensuite\n",
    "\n",
    "# Entrainement du modèle sur les données d'entraînement\n",
    "rf_model.fit(X_train, y_train)\n",
    "\n",
    "# Prédictions sur l'ensemble de test\n",
    "y_pred = rf_model.predict(X_test)\n",
    "\n",
    "# Evaluation des performances du modèle\n",
    "mse = mean_squared_error(y_test, y_pred)\n",
    "r2 = r2_score(y_test, y_pred)\n",
    "\n",
    "print(f'Mean Squared Error: {mse}')\n",
    "print(f'R-squared: {r2}')\n"
   ]
  },
  {
   "cell_type": "markdown",
   "id": "c9f16ccc",
   "metadata": {},
   "source": [
    "#### Series "
   ]
  },
  {
   "cell_type": "code",
   "execution_count": 59,
   "id": "a4931a04",
   "metadata": {},
   "outputs": [
    {
     "name": "stdout",
     "output_type": "stream",
     "text": [
      "Mean Squared Error: 1.1280812838620495\n",
      "R-squared: -0.027827216284168177\n"
     ]
    }
   ],
   "source": [
    "X = df_series_wo_age.iloc[:, 2:] # Sélection des descripteurs\n",
    "y = df_series_wo_age['imdb_score']  # Variable cible\n",
    "\n",
    "# Division des données en ensembles d'entraînement et de test\n",
    "X_train, X_test, y_train, y_test = train_test_split(X, y, test_size=0.2, random_state=42)\n",
    "\n",
    "# Initialisation du modèle Random Forest \n",
    "rf_model = RandomForestRegressor(n_estimators=100, random_state=42) #on pourra ajuster les hyperparamètres ensuite\n",
    "\n",
    "# Entrainement du modèle sur les données d'entraînement\n",
    "rf_model.fit(X_train, y_train)\n",
    "\n",
    "# Prédictions sur l'ensemble de test\n",
    "y_pred = rf_model.predict(X_test)\n",
    "\n",
    "# Evaluation des performances du modèle\n",
    "mse = mean_squared_error(y_test, y_pred)\n",
    "r2 = r2_score(y_test, y_pred)\n",
    "\n",
    "print(f'Mean Squared Error: {mse}')\n",
    "print(f'R-squared: {r2}')\n"
   ]
  },
  {
   "cell_type": "markdown",
   "id": "f97b1dc2",
   "metadata": {},
   "source": [
    "Une fois de plus, les résultats ne sont vraiment pas très bons, voire même pires pour le sous dataset Séries que pour le modèle SVR ou Lasso CV. \n",
    "Pour tenter d'améliorer les résultats, on peut voir si le fait de considérer runtime comme une variable catégorielle améliore les résultats et on pourrait aussi tenter de réduire le nombre de dimensions pour ne garder que les plus pertinentes.\n",
    "Désormais, au regard des piètres performances et pour éviter de dupliquer l'analyse en permanence, on ne s'intéressera qu'au jeu de données des films. "
   ]
  },
  {
   "cell_type": "markdown",
   "id": "b063b1ae",
   "metadata": {
    "jp-MarkdownHeadingCollapsed": true,
    "tags": []
   },
   "source": [
    "# 2. Transformation de runtime en variable catégorielle"
   ]
  },
  {
   "cell_type": "markdown",
   "id": "a4fdf685",
   "metadata": {
    "tags": []
   },
   "source": [
    "## 2.1. Remapping en intervalles de durées"
   ]
  },
  {
   "cell_type": "code",
   "execution_count": 60,
   "id": "c7a9ec75",
   "metadata": {
    "tags": []
   },
   "outputs": [
    {
     "data": {
      "text/plain": [
       "count    3423.000000\n",
       "mean      102.188723\n",
       "std        27.671383\n",
       "min         8.000000\n",
       "25%        89.000000\n",
       "50%       100.000000\n",
       "75%       117.000000\n",
       "max       225.000000\n",
       "Name: runtime, dtype: float64"
      ]
     },
     "execution_count": 60,
     "metadata": {},
     "output_type": "execute_result"
    }
   ],
   "source": [
    "df_movies_wo_age['runtime'].describe()"
   ]
  },
  {
   "cell_type": "code",
   "execution_count": 61,
   "id": "4d8b3bf1",
   "metadata": {
    "tags": []
   },
   "outputs": [
    {
     "name": "stdout",
     "output_type": "stream",
     "text": [
      "   runtime runtime_range\n",
      "0      119        90-119\n",
      "1      110        90-119\n",
      "2      129       120-149\n",
      "3      119        90-119\n",
      "4       91        90-119\n"
     ]
    }
   ],
   "source": [
    "df_movies_wo_age_runtime_categ=df_movies_wo_age.copy()\n",
    "\n",
    "# Définition des bornes des intervalles de 30 minutes\n",
    "intervalles = range(0, df_movies_wo_age['runtime'].max() + 31, 30)\n",
    "\n",
    "# Création des étiquettes pour les intervalles\n",
    "etiquettes = [f\"{i}-{i+29}\" for i in range(0, df_movies_wo_age['runtime'].max(), 30)]\n",
    "\n",
    "# Application de la transformation avec pd.cut\n",
    "df_movies_wo_age_runtime_categ['runtime_range'] = pd.cut(df_movies_wo_age['runtime'], bins=intervalles, labels=etiquettes, include_lowest=True)\n",
    "\n",
    "# Afficher les premières lignes du DataFrame avec la nouvelle colonne\n",
    "print(df_movies_wo_age_runtime_categ[['runtime', 'runtime_range']].head())\n",
    "\n",
    "df_movies_wo_age_runtime_categ.drop(columns='runtime', inplace=True)"
   ]
  },
  {
   "cell_type": "markdown",
   "id": "120c9ca3",
   "metadata": {
    "tags": []
   },
   "source": [
    "## 2.2. One hot encoding "
   ]
  },
  {
   "cell_type": "code",
   "execution_count": 62,
   "id": "2137b3d4",
   "metadata": {
    "tags": []
   },
   "outputs": [],
   "source": [
    "df_movies_wo_age_runtime_categ_encoded = pd.get_dummies(df_movies_wo_age_runtime_categ, columns=['runtime_range'])"
   ]
  },
  {
   "cell_type": "code",
   "execution_count": 63,
   "id": "7bb5f158-34e9-4b8d-83d7-1b92142a0982",
   "metadata": {
    "tags": []
   },
   "outputs": [],
   "source": [
    "#Sauvegarde du jeu de données nouvellement créé\n",
    "df_movies_wo_age_runtime_categ_encoded.to_csv('df_movies.csv', index=False)"
   ]
  },
  {
   "cell_type": "markdown",
   "id": "650421c6-85b6-4fba-a293-ec8842558770",
   "metadata": {},
   "source": [
    "## 2.3. Lasso et SVR sur le nouveau dataset (runtime comme variable catégorielle)"
   ]
  },
  {
   "cell_type": "markdown",
   "id": "cff9ed54-fceb-41ce-b3c9-0739bd6c0273",
   "metadata": {},
   "source": [
    "#### Lasso"
   ]
  },
  {
   "cell_type": "code",
   "execution_count": 17,
   "id": "6a421ee7-553f-4a2c-a9a3-ba7ce16031b1",
   "metadata": {
    "tags": []
   },
   "outputs": [
    {
     "name": "stdout",
     "output_type": "stream",
     "text": [
      "Mean Squared Error: 1.0100370367855331\n",
      "R-squared: 0.1521541072176884\n",
      "\n",
      "Coefficients du modèle Lasso :\n",
      "                    Feature  Coefficient\n",
      "0             genre_action    -0.100665\n",
      "1          genre_animation     0.000000\n",
      "2             genre_comedy     0.000000\n",
      "3              genre_crime     0.000000\n",
      "4      genre_documentation     0.926896\n",
      "..                     ...          ...\n",
      "117   runtime_range_90-119    -0.266270\n",
      "118  runtime_range_120-149     0.057998\n",
      "119  runtime_range_150-179     0.000000\n",
      "120  runtime_range_180-209     0.000000\n",
      "121  runtime_range_210-239     0.000000\n",
      "\n",
      "[122 rows x 2 columns]\n"
     ]
    }
   ],
   "source": [
    "X = df_movies_wo_age_runtime_categ_encoded.iloc[:, 2:] # Sélection des descripteurs\n",
    "y = df_movies_wo_age_runtime_categ_encoded['imdb_score']  # Variable cible\n",
    "\n",
    "# Division des données en ensembles d'entraînement et de test\n",
    "X_train, X_test, y_train, y_test = train_test_split(X, y, test_size=0.2, random_state=42)\n",
    "\n",
    "# Plus besoin de normaliser car tous les descripteurs sont maintenant des variables catégorielles\n",
    "\n",
    "#Création et entraînement du modèle\n",
    "alpha = 0.01  # Paramètre de régularisation correspondant au niveau de pénalisation appliqué aux coefficients des variables\n",
    "lasso_model = Lasso(alpha=alpha)\n",
    "lasso_model.fit(X_train, y_train) \n",
    "\n",
    "# Prédictions sur l'ensemble de test\n",
    "y_pred = lasso_model.predict(X_test) \n",
    "\n",
    "# Evaluation des performances du modèle\n",
    "mse = mean_squared_error(y_test, y_pred)\n",
    "r2 = r2_score(y_test, y_pred)\n",
    "\n",
    "print(f'Mean Squared Error: {mse}')\n",
    "print(f'R-squared: {r2}')\n",
    "\n",
    "# Affichage des coefficients du modèle\n",
    "coefficients = pd.DataFrame({'Feature': X.columns, 'Coefficient': lasso_model.coef_})\n",
    "print('\\nCoefficients du modèle Lasso :\\n', coefficients)"
   ]
  },
  {
   "cell_type": "markdown",
   "id": "95f55d5e",
   "metadata": {},
   "source": [
    "#### SVR "
   ]
  },
  {
   "cell_type": "code",
   "execution_count": 18,
   "id": "8dcf517b",
   "metadata": {},
   "outputs": [
    {
     "name": "stdout",
     "output_type": "stream",
     "text": [
      "Mean Squared Error: 0.9354942521402974\n",
      "R-squared: 0.21472685603406605\n"
     ]
    }
   ],
   "source": [
    "X = df_movies_wo_age_runtime_categ_encoded.iloc[:, 2:] # Sélection des descripteurs\n",
    "y = df_movies_wo_age_runtime_categ_encoded['imdb_score']  # Variable cible\n",
    "\n",
    "# Division des données en ensembles d'entraînement et de test\n",
    "X_train, X_test, y_train, y_test = train_test_split(X, y, test_size=0.2, random_state=42)\n",
    "\n",
    "\n",
    "# Initialisation du modèle SVR\n",
    "svr_model = SVR(kernel='rbf', C=1.0, epsilon=0.1)\n",
    "\n",
    "# Entrainement du modèle sur les données d'entraînement\n",
    "svr_model.fit(X_train, y_train)\n",
    "\n",
    "# Faire des prédictions sur l'ensemble de test\n",
    "y_pred = svr_model.predict(X_test)\n",
    "\n",
    "# Évaluer les performances du modèle\n",
    "mse = mean_squared_error(y_test, y_pred)\n",
    "r2 = r2_score(y_test, y_pred)\n",
    "\n",
    "print(f'Mean Squared Error: {mse}')\n",
    "print(f'R-squared: {r2}')\n"
   ]
  },
  {
   "cell_type": "markdown",
   "id": "98204dda-7ad6-4c1d-bda7-318b131d5724",
   "metadata": {},
   "source": [
    "On obtient un modèle SVR très légèrement meilleur lorsque runtime est considéré comme une variable catégorielle. On décide de conserver runtime comme telle pour la suite.\n",
    "Néanmoins, les performances sont toujours très basses : un peu plus de 20% pour le R carré. Cela peut avoir, selon moi, différentes causes : \n",
    "- modèles trop complexes ou inadaptés \n",
    "- ajustement des hyperparamètres\n",
    "- jeu de données inadaptés\n",
    "- ...\n",
    "\n",
    "Ici, notre modèle comporte plus d'une centaine de variables. Or, toutes les variables ne sont pas aussi bien représentées les unes que les autres dans le jeu de données. On peut donc commencer par supprimer les variables ayant trop peu de données. "
   ]
  },
  {
   "cell_type": "markdown",
   "id": "ebc55b15-4790-4869-9102-6c68aa3ef6a8",
   "metadata": {
    "jp-MarkdownHeadingCollapsed": true,
    "tags": []
   },
   "source": [
    "# 3. Approfondissement des prétraitements"
   ]
  },
  {
   "cell_type": "code",
   "execution_count": 32,
   "id": "e98c8831-adaf-4626-b1e2-4354cb273528",
   "metadata": {
    "tags": []
   },
   "outputs": [],
   "source": [
    "#On effectue une copie du dataset et on nomme cette copie de manière plus courte \n",
    "new_df=df_movies_wo_age_runtime_categ_encoded.copy()"
   ]
  },
  {
   "cell_type": "markdown",
   "id": "362850cd-161f-4257-a156-524e94b2e674",
   "metadata": {},
   "source": [
    "On décide d'enlever toutes les descripteurs pour lesquels nous n'avons pas beaucoup de données et qui sont donc sous-représentés. Les considérer n'aurait pas de sens car s'ils ne sont pas assez nombreux pour permettre d'apprendre, les prédictions seront quasi-aléatoires. On décide de supprimer les descripteurs pour lesquels on a moins de 1% de valeurs présentes (=1 / 0 (absence))."
   ]
  },
  {
   "cell_type": "markdown",
   "id": "00627678-8296-4f76-b2a0-a4caa9b9a8bd",
   "metadata": {},
   "source": [
    "### Pour 'genre'"
   ]
  },
  {
   "cell_type": "code",
   "execution_count": 33,
   "id": "0fff8fb8-c41d-4978-a7dc-ca1111885313",
   "metadata": {
    "tags": []
   },
   "outputs": [
    {
     "data": {
      "text/plain": [
       "Index(['genre_action', 'genre_animation', 'genre_comedy', 'genre_crime',\n",
       "       'genre_documentation', 'genre_drama', 'genre_family', 'genre_fantasy',\n",
       "       'genre_history', 'genre_horror', 'genre_music', 'genre_reality',\n",
       "       'genre_romance', 'genre_scifi', 'genre_sport', 'genre_thriller',\n",
       "       'genre_war', 'genre_western'],\n",
       "      dtype='object')"
      ]
     },
     "execution_count": 33,
     "metadata": {},
     "output_type": "execute_result"
    }
   ],
   "source": [
    "#On trouve à tâtons les indices des colonnes qui traitent du genre du film\n",
    "new_df.columns[2:20]"
   ]
  },
  {
   "cell_type": "code",
   "execution_count": 34,
   "id": "d0dccda5-933b-41a4-ab7a-a249c0191def",
   "metadata": {
    "tags": []
   },
   "outputs": [
    {
     "data": {
      "image/png": "[encoded data removed]",
      "text/plain": [
       "<Figure size 640x480 with 1 Axes>"
      ]
     },
     "metadata": {},
     "output_type": "display_data"
    }
   ],
   "source": [
    "# Colonnes de genre à visualiser \n",
    "genre_columns = new_df.columns[2:20]\n",
    "\n",
    "# Somme des occurrences de chaque genre pour obtenir la distribution\n",
    "genre_frequence = new_df[genre_columns].sum()/len(new_df)\n",
    "#print(genre_fréquence)\n",
    "\n",
    "# On ordonne les genres de manière décroissante\n",
    "genre_frequence = genre_frequence.sort_values(ascending=False)\n",
    "\n",
    "# Création du diagramme en barres pour la distribution des genres\n",
    "plt.bar(genre_frequence.index, genre_frequence.values)\n",
    "plt.xlabel('Genres')\n",
    "plt.ylabel('Fréquence')\n",
    "plt.title('Distribution des genres')\n",
    "plt.xticks(rotation=90)  # Ajustement de l'angle des étiquettes pour une meilleure lisibilité\n",
    "plt.show()"
   ]
  },
  {
   "cell_type": "code",
   "execution_count": 35,
   "id": "c2ca883c-bd64-42cd-a974-e9bf9e74f58f",
   "metadata": {
    "tags": []
   },
   "outputs": [
    {
     "name": "stdout",
     "output_type": "stream",
     "text": [
      "genre_drama            0.290973\n",
      "genre_comedy           0.275781\n",
      "genre_documentation    0.097867\n",
      "genre_thriller         0.087058\n",
      "genre_action           0.054923\n",
      "genre_romance          0.050248\n",
      "genre_animation        0.028630\n",
      "genre_horror           0.025708\n",
      "genre_crime            0.023079\n",
      "genre_fantasy          0.019573\n",
      "genre_music            0.013731\n",
      "genre_scifi            0.011978\n",
      "genre_family           0.009933\n",
      "genre_history          0.004090\n",
      "genre_western          0.002629\n",
      "genre_war              0.002045\n",
      "genre_sport            0.001169\n",
      "genre_reality          0.000584\n",
      "dtype: float64\n"
     ]
    },
    {
     "data": {
      "text/plain": [
       "genre_drama             True\n",
       "genre_comedy            True\n",
       "genre_documentation     True\n",
       "genre_thriller          True\n",
       "genre_action            True\n",
       "genre_romance           True\n",
       "genre_animation         True\n",
       "genre_horror            True\n",
       "genre_crime             True\n",
       "genre_fantasy           True\n",
       "genre_music             True\n",
       "genre_scifi             True\n",
       "genre_family           False\n",
       "genre_history          False\n",
       "genre_western          False\n",
       "genre_war              False\n",
       "genre_sport            False\n",
       "genre_reality          False\n",
       "dtype: bool"
      ]
     },
     "execution_count": 35,
     "metadata": {},
     "output_type": "execute_result"
    }
   ],
   "source": [
    "print(genre_frequence)\n",
    "genre_frequence>0.01"
   ]
  },
  {
   "cell_type": "code",
   "execution_count": 36,
   "id": "e175d1d3-05e0-4cf4-a4be-2c360e06d039",
   "metadata": {
    "tags": []
   },
   "outputs": [],
   "source": [
    "#On supprime les genres sous représentés dans le dataset (fréquence inférieure à 1% dans dataset)\n",
    "new_df.drop(columns=['genre_family','genre_history', 'genre_reality','genre_sport','genre_war','genre_western'], inplace=True)       "
   ]
  },
  {
   "cell_type": "markdown",
   "id": "72705f6e-ac94-42f8-b1c8-6aef8430936e",
   "metadata": {},
   "source": [
    "### Pour 'production_country'"
   ]
  },
  {
   "cell_type": "code",
   "execution_count": 37,
   "id": "4d2bfd95-c3b6-48e8-9fd5-2b70a88d3e23",
   "metadata": {
    "tags": []
   },
   "outputs": [
    {
     "data": {
      "image/png": "[encoded data removed]",
      "text/plain": [
       "<Figure size 640x480 with 1 Axes>"
      ]
     },
     "metadata": {},
     "output_type": "display_data"
    }
   ],
   "source": [
    "#On répète les mêmes étapes pour les variables relatives au pays producteur des films\n",
    "# Colonnes de pays producteurs à visualiser \n",
    "prod_country_columns = new_df.columns[14:102]  \n",
    "\n",
    "# Somme des occurrences de chaque genre pour obtenir la distribution\n",
    "prod_country_frequence = new_df[prod_country_columns].sum()/len(new_df)\n",
    "#print(genre_fréquence)\n",
    "\n",
    "# On ordonne les genres de manière décroissante\n",
    "prod_country_frequence = prod_country_frequence.sort_values(ascending=False)\n",
    "\n",
    "# Création du diagramme en barres pour la distribution des genres\n",
    "plt.bar(prod_country_frequence.index, prod_country_frequence.values)\n",
    "plt.xlabel('Pays Producteurs')\n",
    "plt.ylabel('Fréquence')\n",
    "plt.title('Distribution des pays producteurs de films')\n",
    "plt.xticks(rotation=90)  # Ajustement de l'angle des étiquettes pour une meilleure lisibilité\n",
    "plt.show()"
   ]
  },
  {
   "cell_type": "code",
   "execution_count": 38,
   "id": "718e1a26-88dd-4ac9-a492-ce4353f61ee3",
   "metadata": {
    "tags": []
   },
   "outputs": [],
   "source": [
    "# Filtrage des pays producteurs ne respectant pas la condition de fréquence minimale (<= 1%)\n",
    "to_be_deleted = prod_country_frequence[prod_country_frequence <= 0.01]\n",
    "\n",
    "# Liste de ces pays\n",
    "list_of_unselected_prod_countries = list(to_be_deleted.index)\n",
    "#print(list_of_unselected_prod_countries)\n",
    "\n",
    "#Suppression de ces variables relatives aux pays producteurs sous représentés\n",
    "new_df.drop(columns=list_of_unselected_prod_countries, inplace=True)"
   ]
  },
  {
   "cell_type": "markdown",
   "id": "90cb78cf-2ffa-4f4c-a48b-379085b6cc3f",
   "metadata": {
    "tags": []
   },
   "source": [
    "### Pour 'decade'"
   ]
  },
  {
   "cell_type": "code",
   "execution_count": 39,
   "id": "44e4dd8f-b7dc-4eff-af18-8001e82daa76",
   "metadata": {
    "tags": []
   },
   "outputs": [
    {
     "data": {
      "image/png": "[encoded data removed]",
      "text/plain": [
       "<Figure size 640x480 with 1 Axes>"
      ]
     },
     "metadata": {},
     "output_type": "display_data"
    }
   ],
   "source": [
    "#On répète les mêmes étapes pour les variables relatives à la décennie de sortie du film\n",
    "# Colonnes des décennies à visualiser \n",
    "decade_columns = new_df.columns[34:42]\n",
    "\n",
    "# Somme des occurrences de chaque genre pour obtenir la distribution\n",
    "decade_frequence = new_df[decade_columns].sum()/len(new_df)\n",
    "#print(decade_frequence)\n",
    "\n",
    "# On ordonne les genres de manière décroissante\n",
    "decade_frequence = decade_frequence.sort_values(ascending=False)\n",
    "\n",
    "# Création du diagramme en barres pour la distribution des décennies\n",
    "plt.bar(decade_frequence.index, decade_frequence.values)\n",
    "plt.xlabel('Décennies')\n",
    "plt.ylabel('Fréquence')\n",
    "plt.title('Distribution des décennies de sortie de films')\n",
    "plt.xticks(rotation=90)  # Ajustement de l'angle des étiquettes pour une meilleure lisibilité\n",
    "plt.show()"
   ]
  },
  {
   "cell_type": "code",
   "execution_count": 40,
   "id": "483c01d8-e912-422d-88fe-b1d82e69f85c",
   "metadata": {
    "tags": []
   },
   "outputs": [],
   "source": [
    "# Filtrage des décennies ne respectant pas la condition de fréquence minimale (<= 1%)\n",
    "to_be_deleted = decade_frequence[decade_frequence <= 0.01]\n",
    "\n",
    "# Liste de ces pays\n",
    "list_of_unselected_decades = list(to_be_deleted.index)\n",
    "#print(list_of_unselected_decades)\n",
    "\n",
    "#Suppression de ces variables relatives aux décennies de sortie des films\n",
    "new_df.drop(columns=list_of_unselected_decades, inplace=True)"
   ]
  },
  {
   "cell_type": "markdown",
   "id": "ce1d70c8-0e78-446f-a2d3-882cda3ccc69",
   "metadata": {
    "tags": []
   },
   "source": [
    "#### Pour 'runtime_range'"
   ]
  },
  {
   "cell_type": "code",
   "execution_count": 41,
   "id": "b697a62c-a12c-4eaa-9b68-ccc40a755ddf",
   "metadata": {
    "tags": []
   },
   "outputs": [
    {
     "data": {
      "image/png": "[encoded data removed]",
      "text/plain": [
       "<Figure size 640x480 with 1 Axes>"
      ]
     },
     "metadata": {},
     "output_type": "display_data"
    }
   ],
   "source": [
    "#On répète les mêmes étapes pour les variables relatives à la durée des films\n",
    "# Colonnes des durées à visualiser \n",
    "runtime_range_columns = new_df.columns[39:47]\n",
    "\n",
    "# Somme des occurrences de chaque durée pour obtenir la distribution\n",
    "runtimes_frequence = new_df[runtime_range_columns].sum()/len(new_df)\n",
    "#print(runtimes_frequence)\n",
    "\n",
    "# On ordonne les durées de manière décroissante\n",
    "runtimes_frequence = runtimes_frequence.sort_values(ascending=False)\n",
    "\n",
    "# Création du diagramme en barres pour la distribution des durées\n",
    "plt.bar(runtimes_frequence.index, runtimes_frequence.values)\n",
    "plt.xlabel('Durées')\n",
    "plt.ylabel('Fréquence')\n",
    "plt.title('Distribution des durées de films')\n",
    "plt.xticks(rotation=90)  # Ajustement de l'angle des étiquettes pour une meilleure lisibilité\n",
    "plt.show()"
   ]
  },
  {
   "cell_type": "code",
   "execution_count": 42,
   "id": "fe9c2a5b-5ec2-4b86-afda-0fab8ad5d65f",
   "metadata": {
    "tags": []
   },
   "outputs": [],
   "source": [
    "# Filtrage des durées ne respectant pas la condition de fréquence minimale (<= 1%)\n",
    "to_be_deleted = runtimes_frequence[runtimes_frequence <= 0.01]\n",
    "\n",
    "# Liste de ces durées\n",
    "list_of_unselected_runtimes= list(to_be_deleted.index)\n",
    "#print(list_of_unselected_decades)\n",
    "\n",
    "#Suppression de ces variables relatives aux durées de sortie des films\n",
    "new_df.drop(columns=list_of_unselected_runtimes, inplace=True)"
   ]
  },
  {
   "cell_type": "markdown",
   "id": "9802f283-7cd1-402f-a34c-7c24d723a0fe",
   "metadata": {},
   "source": [
    "## Nouveau dataset"
   ]
  },
  {
   "cell_type": "markdown",
   "id": "b345f305-5f5a-4cd2-9bf4-f6aa468da8c6",
   "metadata": {},
   "source": [
    "Maintenant, il nous reste à supprimer les lignes qui ne cochent plus l'un des descripteurs restants pour chacun des paramètres genre, decade, runtime et production_country. Pour cela, on créé une nouvelle colonne qui fait la somme des valeurs de tous les descripteurs. Comme un film n'appartient qu'à un seul genre, ne possède qu'un seul production_country, un seul decade et un seul runtime_range, la somme devrait être égale à 4. Si elle est inférieure, c'est que nous avons supprimé un descripteur (sous-représenté) pour lequel le film affichait 1. On supprime alors les lignes qui n'ont pas la valeur 4 dans la colonne somme. "
   ]
  },
  {
   "cell_type": "code",
   "execution_count": 43,
   "id": "4119e016-33e7-488a-a256-ece31bb7a7d5",
   "metadata": {
    "tags": []
   },
   "outputs": [],
   "source": [
    "# Ajout de nouvelle colonne 'Somme_2_44' qui somme les valeurs des colonnes 2 à 44\n",
    "new_df['Somme_2:'] = new_df.iloc[:, 2:].sum(axis=1)\n",
    "\n",
    "\n",
    "#On supprime les lignes où la valeur de la nouvelle colonne n'est pas égale à 4. \n",
    "#Cela veut en effet dire que la ligne ne possède pas un 1 pour chacun des différentes modalités des \n",
    "#descripteurs genre, production_country, decade et runtime_range\n",
    "new_df = new_df.loc[~(new_df['Somme_2:'] != 4)]\n",
    "#new_df\n",
    "\n",
    "#On a supprimé environ 500 lignes pour lesquelles au moins un descripteur était sous-représenté"
   ]
  },
  {
   "cell_type": "code",
   "execution_count": 45,
   "id": "a3b72266-3934-496c-80d2-628fca3ccabb",
   "metadata": {
    "tags": []
   },
   "outputs": [],
   "source": [
    "new_df.drop(columns='Somme_2:',inplace=True)"
   ]
  },
  {
   "cell_type": "code",
   "execution_count": 47,
   "id": "839a9a37-10c4-4cfc-8ab5-e09a40c48460",
   "metadata": {
    "tags": []
   },
   "outputs": [],
   "source": [
    "#Sauvegarde du jeu de données nouvellement créé\n",
    "new_df.to_csv('new_df_movies.csv', index=False)"
   ]
  },
  {
   "cell_type": "markdown",
   "id": "5195b1cd-7a73-4fad-8d90-9368a3db2842",
   "metadata": {},
   "source": [
    "Dans le prochain notebook, on optimisera les paramètres du modèle SVR à partir de ce jeu de données."
   ]
  }
 ],
 "metadata": {
  "kernelspec": {
   "display_name": "Python 3 (ipykernel)",
   "language": "python",
   "name": "python3"
  },
  "language_info": {
   "codemirror_mode": {
    "name": "ipython",
    "version": 3
   },
   "file_extension": ".py",
   "mimetype": "text/x-python",
   "name": "python",
   "nbconvert_exporter": "python",
   "pygments_lexer": "ipython3",
   "version": "3.11.4"
  }
 },
 "nbformat": 4,
 "nbformat_minor": 5
}
